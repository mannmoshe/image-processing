{
  "nbformat": 4,
  "nbformat_minor": 0,
  "metadata": {
    "colab": {
      "provenance": [],
      "authorship_tag": "ABX9TyMIyXln+cGUuhaj8Bst3NWn",
      "include_colab_link": true
    },
    "kernelspec": {
      "name": "python3",
      "display_name": "Python 3"
    },
    "language_info": {
      "name": "python"
    }
  },
  "cells": [
    {
      "cell_type": "markdown",
      "metadata": {
        "id": "view-in-github",
        "colab_type": "text"
      },
      "source": [
        "<a href=\"https://colab.research.google.com/github/mannmoshe/image-processing/blob/main/project/image_processing_project.ipynb\" target=\"_parent\"><img src=\"https://colab.research.google.com/assets/colab-badge.svg\" alt=\"Open In Colab\"/></a>"
      ]
    },
    {
      "cell_type": "markdown",
      "source": [
        "# Image processing project: <br> Event-based camera visuallization & analysis <br> By Moshe Mann & Yoel Bensoussan"
      ],
      "metadata": {
        "id": "iKPC6_FldWRa"
      }
    },
    {
      "cell_type": "markdown",
      "source": [
        "Run this notebook on [google colab](https://colab.research.google.com/)."
      ],
      "metadata": {
        "id": "HpKqhRVaD8ut"
      }
    },
    {
      "cell_type": "code",
      "source": [
        "import numpy as np\n",
        "import pandas as pd\n",
        "import re\n",
        "from matplotlib import pyplot as plt\n",
        "from datetime import datetime"
      ],
      "metadata": {
        "id": "0TpwS94hfaMb"
      },
      "execution_count": null,
      "outputs": []
    },
    {
      "cell_type": "markdown",
      "source": [
        "## Import event-based camera data files"
      ],
      "metadata": {
        "id": "ICjzuNCHdH6Q"
      }
    },
    {
      "cell_type": "code",
      "execution_count": null,
      "metadata": {
        "colab": {
          "base_uri": "https://localhost:8080/"
        },
        "id": "tPw--YademoM",
        "outputId": "6eeaa8f0-a2b0-43bc-8619-f742e1a63a01"
      },
      "outputs": [
        {
          "output_type": "stream",
          "name": "stdout",
          "text": [
            "--2023-02-15 12:44:19--  https://github.com/mannmoshe/image-processing/blob/main/project/FlickerLine_75Hz_ClearObstacle.zip?raw=true\n",
            "Resolving github.com (github.com)... 140.82.121.3\n",
            "Connecting to github.com (github.com)|140.82.121.3|:443... connected.\n",
            "HTTP request sent, awaiting response... 302 Found\n",
            "Location: https://github.com/mannmoshe/image-processing/raw/main/project/FlickerLine_75Hz_ClearObstacle.zip [following]\n",
            "--2023-02-15 12:44:19--  https://github.com/mannmoshe/image-processing/raw/main/project/FlickerLine_75Hz_ClearObstacle.zip\n",
            "Reusing existing connection to github.com:443.\n",
            "HTTP request sent, awaiting response... 302 Found\n",
            "Location: https://raw.githubusercontent.com/mannmoshe/image-processing/main/project/FlickerLine_75Hz_ClearObstacle.zip [following]\n",
            "--2023-02-15 12:44:19--  https://raw.githubusercontent.com/mannmoshe/image-processing/main/project/FlickerLine_75Hz_ClearObstacle.zip\n",
            "Resolving raw.githubusercontent.com (raw.githubusercontent.com)... 185.199.111.133, 185.199.108.133, 185.199.109.133, ...\n",
            "Connecting to raw.githubusercontent.com (raw.githubusercontent.com)|185.199.111.133|:443... connected.\n",
            "HTTP request sent, awaiting response... 200 OK\n",
            "Length: 39317042 (37M) [application/zip]\n",
            "Saving to: ‘FlickerLine_75Hz_ClearObstacle.zip?raw=true.2’\n",
            "\n",
            "FlickerLine_75Hz_Cl 100%[===================>]  37.50M   138MB/s    in 0.3s    \n",
            "\n",
            "2023-02-15 12:44:19 (138 MB/s) - ‘FlickerLine_75Hz_ClearObstacle.zip?raw=true.2’ saved [39317042/39317042]\n",
            "\n"
          ]
        }
      ],
      "source": [
        "!wget https://github.com/mannmoshe/image-processing/blob/main/project/FlickerLine_75Hz_ClearObstacle.zip?raw=true"
      ]
    },
    {
      "cell_type": "code",
      "source": [
        "!unzip /content/FlickerLine_75Hz_ClearObstacle.zip?raw\\=true"
      ],
      "metadata": {
        "colab": {
          "base_uri": "https://localhost:8080/"
        },
        "id": "pIJyPScXfNW1",
        "outputId": "78e43b8e-a2ee-4ed3-8f72-7a91449ca943"
      },
      "execution_count": null,
      "outputs": [
        {
          "output_type": "stream",
          "name": "stdout",
          "text": [
            "Archive:  /content/FlickerLine_75Hz_ClearObstacle.zip?raw=true\n",
            "replace FlickerLine_75Hz_Clear.csv? [y]es, [n]o, [A]ll, [N]one, [r]ename: y\n",
            "  inflating: FlickerLine_75Hz_Clear.csv  \n",
            "replace FlickerLine_75Hz_Obstacle.csv? [y]es, [n]o, [A]ll, [N]one, [r]ename: y\n",
            "  inflating: FlickerLine_75Hz_Obstacle.csv  \n"
          ]
        }
      ]
    },
    {
      "cell_type": "code",
      "source": [
        "!wget https://github.com/mannmoshe/image-processing/blob/main/project/FlickerLine_75Hz_pluseNoise.zip?raw=true"
      ],
      "metadata": {
        "colab": {
          "base_uri": "https://localhost:8080/"
        },
        "id": "O8DnH9XzecgC",
        "outputId": "40815d0c-81b2-4359-cbec-d329302b6ca7"
      },
      "execution_count": null,
      "outputs": [
        {
          "output_type": "stream",
          "name": "stdout",
          "text": [
            "--2023-02-15 12:44:57--  https://github.com/mannmoshe/image-processing/blob/main/project/FlickerLine_75Hz_pluseNoise.zip?raw=true\n",
            "Resolving github.com (github.com)... 140.82.121.4\n",
            "Connecting to github.com (github.com)|140.82.121.4|:443... connected.\n",
            "HTTP request sent, awaiting response... 302 Found\n",
            "Location: https://github.com/mannmoshe/image-processing/raw/main/project/FlickerLine_75Hz_pluseNoise.zip [following]\n",
            "--2023-02-15 12:44:57--  https://github.com/mannmoshe/image-processing/raw/main/project/FlickerLine_75Hz_pluseNoise.zip\n",
            "Reusing existing connection to github.com:443.\n",
            "HTTP request sent, awaiting response... 302 Found\n",
            "Location: https://raw.githubusercontent.com/mannmoshe/image-processing/main/project/FlickerLine_75Hz_pluseNoise.zip [following]\n",
            "--2023-02-15 12:44:58--  https://raw.githubusercontent.com/mannmoshe/image-processing/main/project/FlickerLine_75Hz_pluseNoise.zip\n",
            "Resolving raw.githubusercontent.com (raw.githubusercontent.com)... 185.199.108.133, 185.199.109.133, 185.199.110.133, ...\n",
            "Connecting to raw.githubusercontent.com (raw.githubusercontent.com)|185.199.108.133|:443... connected.\n",
            "HTTP request sent, awaiting response... 200 OK\n",
            "Length: 44494095 (42M) [application/zip]\n",
            "Saving to: ‘FlickerLine_75Hz_pluseNoise.zip?raw=true.2’\n",
            "\n",
            "FlickerLine_75Hz_pl 100%[===================>]  42.43M   195MB/s    in 0.2s    \n",
            "\n",
            "2023-02-15 12:44:58 (195 MB/s) - ‘FlickerLine_75Hz_pluseNoise.zip?raw=true.2’ saved [44494095/44494095]\n",
            "\n"
          ]
        }
      ]
    },
    {
      "cell_type": "code",
      "source": [
        "!unzip /content/FlickerLine_75Hz_pluseNoise.zip?raw\\=true"
      ],
      "metadata": {
        "colab": {
          "base_uri": "https://localhost:8080/"
        },
        "id": "HAiOxFVyelQp",
        "outputId": "9f8e5d6a-8f26-4557-ce7f-087d48712b52"
      },
      "execution_count": null,
      "outputs": [
        {
          "output_type": "stream",
          "name": "stdout",
          "text": [
            "Archive:  /content/FlickerLine_75Hz_pluseNoise.zip?raw=true\n",
            "replace FlickerLine_75Hz_pluseNoise.csv? [y]es, [n]o, [A]ll, [N]one, [r]ename: A\n",
            "  inflating: FlickerLine_75Hz_pluseNoise.csv  \n"
          ]
        }
      ]
    },
    {
      "cell_type": "code",
      "source": [
        "!wget https://github.com/mannmoshe/image-processing/blob/main/project/FlickerLine_85Hz_2files.zip?raw=true"
      ],
      "metadata": {
        "id": "hnk1KHYwpAo_",
        "outputId": "42665b4a-e747-419c-b14e-357e5970e110",
        "colab": {
          "base_uri": "https://localhost:8080/"
        }
      },
      "execution_count": null,
      "outputs": [
        {
          "output_type": "stream",
          "name": "stdout",
          "text": [
            "--2023-02-15 12:45:13--  https://github.com/mannmoshe/image-processing/blob/main/project/FlickerLine_85Hz_2files.zip?raw=true\n",
            "Resolving github.com (github.com)... 140.82.121.3\n",
            "Connecting to github.com (github.com)|140.82.121.3|:443... connected.\n",
            "HTTP request sent, awaiting response... 302 Found\n",
            "Location: https://github.com/mannmoshe/image-processing/raw/main/project/FlickerLine_85Hz_2files.zip [following]\n",
            "--2023-02-15 12:45:13--  https://github.com/mannmoshe/image-processing/raw/main/project/FlickerLine_85Hz_2files.zip\n",
            "Reusing existing connection to github.com:443.\n",
            "HTTP request sent, awaiting response... 302 Found\n",
            "Location: https://raw.githubusercontent.com/mannmoshe/image-processing/main/project/FlickerLine_85Hz_2files.zip [following]\n",
            "--2023-02-15 12:45:13--  https://raw.githubusercontent.com/mannmoshe/image-processing/main/project/FlickerLine_85Hz_2files.zip\n",
            "Resolving raw.githubusercontent.com (raw.githubusercontent.com)... 185.199.108.133, 185.199.109.133, 185.199.110.133, ...\n",
            "Connecting to raw.githubusercontent.com (raw.githubusercontent.com)|185.199.108.133|:443... connected.\n",
            "HTTP request sent, awaiting response... 200 OK\n",
            "Length: 45793248 (44M) [application/zip]\n",
            "Saving to: ‘FlickerLine_85Hz_2files.zip?raw=true.2’\n",
            "\n",
            "FlickerLine_85Hz_2f 100%[===================>]  43.67M   202MB/s    in 0.2s    \n",
            "\n",
            "2023-02-15 12:45:13 (202 MB/s) - ‘FlickerLine_85Hz_2files.zip?raw=true.2’ saved [45793248/45793248]\n",
            "\n"
          ]
        }
      ]
    },
    {
      "cell_type": "code",
      "source": [
        "!unzip /content/FlickerLine_85Hz_2files.zip?raw\\=true"
      ],
      "metadata": {
        "id": "RsJJabcypGdX",
        "outputId": "6a36c084-e789-4df6-a1e7-ac4a49d24487",
        "colab": {
          "base_uri": "https://localhost:8080/"
        }
      },
      "execution_count": null,
      "outputs": [
        {
          "output_type": "stream",
          "name": "stdout",
          "text": [
            "Archive:  /content/FlickerLine_85Hz_2files.zip?raw=true\n",
            "replace FlickerLine_85Hz_A.csv? [y]es, [n]o, [A]ll, [N]one, [r]ename: A\n",
            "  inflating: FlickerLine_85Hz_A.csv  \n",
            "  inflating: FlickerLine_85Hz_B.csv  \n"
          ]
        }
      ]
    },
    {
      "cell_type": "markdown",
      "source": [
        "## FlickerLine_75Hz_Clear"
      ],
      "metadata": {
        "id": "CRN6JZi3hIIj"
      }
    },
    {
      "cell_type": "markdown",
      "source": [
        "load data:"
      ],
      "metadata": {
        "id": "b3LFH_WWC_zm"
      }
    },
    {
      "cell_type": "code",
      "source": [
        "meta_data = pd.read_csv('FlickerLine_75Hz_Clear.csv', nrows=0)\n",
        "meta_data"
      ],
      "metadata": {
        "id": "gZ3XDJrlBdb3",
        "outputId": "d7085345-8b53-45d5-e860-0b3c79243252",
        "colab": {
          "base_uri": "https://localhost:8080/",
          "height": 49
        }
      },
      "execution_count": null,
      "outputs": [
        {
          "output_type": "execute_result",
          "data": {
            "text/plain": [
              "Empty DataFrame\n",
              "Columns: [# Input: DVXplorer_DXM00137 sizeX: 640 sizeY: 480]\n",
              "Index: []"
            ],
            "text/html": [
              "\n",
              "  <div id=\"df-c4b00aea-9021-4e72-9461-9df953dbe799\">\n",
              "    <div class=\"colab-df-container\">\n",
              "      <div>\n",
              "<style scoped>\n",
              "    .dataframe tbody tr th:only-of-type {\n",
              "        vertical-align: middle;\n",
              "    }\n",
              "\n",
              "    .dataframe tbody tr th {\n",
              "        vertical-align: top;\n",
              "    }\n",
              "\n",
              "    .dataframe thead th {\n",
              "        text-align: right;\n",
              "    }\n",
              "</style>\n",
              "<table border=\"1\" class=\"dataframe\">\n",
              "  <thead>\n",
              "    <tr style=\"text-align: right;\">\n",
              "      <th></th>\n",
              "      <th># Input: DVXplorer_DXM00137 sizeX: 640 sizeY: 480</th>\n",
              "    </tr>\n",
              "  </thead>\n",
              "  <tbody>\n",
              "  </tbody>\n",
              "</table>\n",
              "</div>\n",
              "      <button class=\"colab-df-convert\" onclick=\"convertToInteractive('df-c4b00aea-9021-4e72-9461-9df953dbe799')\"\n",
              "              title=\"Convert this dataframe to an interactive table.\"\n",
              "              style=\"display:none;\">\n",
              "        \n",
              "  <svg xmlns=\"http://www.w3.org/2000/svg\" height=\"24px\"viewBox=\"0 0 24 24\"\n",
              "       width=\"24px\">\n",
              "    <path d=\"M0 0h24v24H0V0z\" fill=\"none\"/>\n",
              "    <path d=\"M18.56 5.44l.94 2.06.94-2.06 2.06-.94-2.06-.94-.94-2.06-.94 2.06-2.06.94zm-11 1L8.5 8.5l.94-2.06 2.06-.94-2.06-.94L8.5 2.5l-.94 2.06-2.06.94zm10 10l.94 2.06.94-2.06 2.06-.94-2.06-.94-.94-2.06-.94 2.06-2.06.94z\"/><path d=\"M17.41 7.96l-1.37-1.37c-.4-.4-.92-.59-1.43-.59-.52 0-1.04.2-1.43.59L10.3 9.45l-7.72 7.72c-.78.78-.78 2.05 0 2.83L4 21.41c.39.39.9.59 1.41.59.51 0 1.02-.2 1.41-.59l7.78-7.78 2.81-2.81c.8-.78.8-2.07 0-2.86zM5.41 20L4 18.59l7.72-7.72 1.47 1.35L5.41 20z\"/>\n",
              "  </svg>\n",
              "      </button>\n",
              "      \n",
              "  <style>\n",
              "    .colab-df-container {\n",
              "      display:flex;\n",
              "      flex-wrap:wrap;\n",
              "      gap: 12px;\n",
              "    }\n",
              "\n",
              "    .colab-df-convert {\n",
              "      background-color: #E8F0FE;\n",
              "      border: none;\n",
              "      border-radius: 50%;\n",
              "      cursor: pointer;\n",
              "      display: none;\n",
              "      fill: #1967D2;\n",
              "      height: 32px;\n",
              "      padding: 0 0 0 0;\n",
              "      width: 32px;\n",
              "    }\n",
              "\n",
              "    .colab-df-convert:hover {\n",
              "      background-color: #E2EBFA;\n",
              "      box-shadow: 0px 1px 2px rgba(60, 64, 67, 0.3), 0px 1px 3px 1px rgba(60, 64, 67, 0.15);\n",
              "      fill: #174EA6;\n",
              "    }\n",
              "\n",
              "    [theme=dark] .colab-df-convert {\n",
              "      background-color: #3B4455;\n",
              "      fill: #D2E3FC;\n",
              "    }\n",
              "\n",
              "    [theme=dark] .colab-df-convert:hover {\n",
              "      background-color: #434B5C;\n",
              "      box-shadow: 0px 1px 3px 1px rgba(0, 0, 0, 0.15);\n",
              "      filter: drop-shadow(0px 1px 2px rgba(0, 0, 0, 0.3));\n",
              "      fill: #FFFFFF;\n",
              "    }\n",
              "  </style>\n",
              "\n",
              "      <script>\n",
              "        const buttonEl =\n",
              "          document.querySelector('#df-c4b00aea-9021-4e72-9461-9df953dbe799 button.colab-df-convert');\n",
              "        buttonEl.style.display =\n",
              "          google.colab.kernel.accessAllowed ? 'block' : 'none';\n",
              "\n",
              "        async function convertToInteractive(key) {\n",
              "          const element = document.querySelector('#df-c4b00aea-9021-4e72-9461-9df953dbe799');\n",
              "          const dataTable =\n",
              "            await google.colab.kernel.invokeFunction('convertToInteractive',\n",
              "                                                     [key], {});\n",
              "          if (!dataTable) return;\n",
              "\n",
              "          const docLinkHtml = 'Like what you see? Visit the ' +\n",
              "            '<a target=\"_blank\" href=https://colab.research.google.com/notebooks/data_table.ipynb>data table notebook</a>'\n",
              "            + ' to learn more about interactive tables.';\n",
              "          element.innerHTML = '';\n",
              "          dataTable['output_type'] = 'display_data';\n",
              "          await google.colab.output.renderOutput(dataTable, element);\n",
              "          const docLink = document.createElement('div');\n",
              "          docLink.innerHTML = docLinkHtml;\n",
              "          element.appendChild(docLink);\n",
              "        }\n",
              "      </script>\n",
              "    </div>\n",
              "  </div>\n",
              "  "
            ]
          },
          "metadata": {},
          "execution_count": 8
        }
      ]
    },
    {
      "cell_type": "code",
      "source": [
        "sizeX = int(re.search('sizeX: (.*) sizeY', meta_data.columns[0]).group(1))\n",
        "sizeY = int(re.search('sizeY: (.*)', meta_data.columns[0]).group(1))\n",
        "print(sizeX, sizeY)"
      ],
      "metadata": {
        "id": "E6ZznETyB7vL",
        "outputId": "20a181bf-22d3-4daa-e930-673c4aa19d12",
        "colab": {
          "base_uri": "https://localhost:8080/"
        }
      },
      "execution_count": null,
      "outputs": [
        {
          "output_type": "stream",
          "name": "stdout",
          "text": [
            "640 480\n"
          ]
        }
      ]
    },
    {
      "cell_type": "code",
      "source": [
        "df = pd.read_csv('FlickerLine_75Hz_Clear.csv', skiprows=1)"
      ],
      "metadata": {
        "id": "wtV3cGIbffJ5"
      },
      "execution_count": null,
      "outputs": []
    },
    {
      "cell_type": "code",
      "source": [
        "df.head()"
      ],
      "metadata": {
        "id": "FNp7S7zUH7Qz",
        "outputId": "d45b37df-30c1-4bcb-fdbd-6101eecf5002",
        "colab": {
          "base_uri": "https://localhost:8080/",
          "height": 206
        }
      },
      "execution_count": null,
      "outputs": [
        {
          "output_type": "execute_result",
          "data": {
            "text/plain": [
              "          timestamp   x    y  polarity\n",
              "0  1673364248010552  30  174         0\n",
              "1  1673364248010552  31  478         0\n",
              "2  1673364248010552  34  477         0\n",
              "3  1673364248010552  36  472         0\n",
              "4  1673364248010552  36  477         0"
            ],
            "text/html": [
              "\n",
              "  <div id=\"df-f1af324c-eae9-48c9-91a2-b70c0558d8b2\">\n",
              "    <div class=\"colab-df-container\">\n",
              "      <div>\n",
              "<style scoped>\n",
              "    .dataframe tbody tr th:only-of-type {\n",
              "        vertical-align: middle;\n",
              "    }\n",
              "\n",
              "    .dataframe tbody tr th {\n",
              "        vertical-align: top;\n",
              "    }\n",
              "\n",
              "    .dataframe thead th {\n",
              "        text-align: right;\n",
              "    }\n",
              "</style>\n",
              "<table border=\"1\" class=\"dataframe\">\n",
              "  <thead>\n",
              "    <tr style=\"text-align: right;\">\n",
              "      <th></th>\n",
              "      <th>timestamp</th>\n",
              "      <th>x</th>\n",
              "      <th>y</th>\n",
              "      <th>polarity</th>\n",
              "    </tr>\n",
              "  </thead>\n",
              "  <tbody>\n",
              "    <tr>\n",
              "      <th>0</th>\n",
              "      <td>1673364248010552</td>\n",
              "      <td>30</td>\n",
              "      <td>174</td>\n",
              "      <td>0</td>\n",
              "    </tr>\n",
              "    <tr>\n",
              "      <th>1</th>\n",
              "      <td>1673364248010552</td>\n",
              "      <td>31</td>\n",
              "      <td>478</td>\n",
              "      <td>0</td>\n",
              "    </tr>\n",
              "    <tr>\n",
              "      <th>2</th>\n",
              "      <td>1673364248010552</td>\n",
              "      <td>34</td>\n",
              "      <td>477</td>\n",
              "      <td>0</td>\n",
              "    </tr>\n",
              "    <tr>\n",
              "      <th>3</th>\n",
              "      <td>1673364248010552</td>\n",
              "      <td>36</td>\n",
              "      <td>472</td>\n",
              "      <td>0</td>\n",
              "    </tr>\n",
              "    <tr>\n",
              "      <th>4</th>\n",
              "      <td>1673364248010552</td>\n",
              "      <td>36</td>\n",
              "      <td>477</td>\n",
              "      <td>0</td>\n",
              "    </tr>\n",
              "  </tbody>\n",
              "</table>\n",
              "</div>\n",
              "      <button class=\"colab-df-convert\" onclick=\"convertToInteractive('df-f1af324c-eae9-48c9-91a2-b70c0558d8b2')\"\n",
              "              title=\"Convert this dataframe to an interactive table.\"\n",
              "              style=\"display:none;\">\n",
              "        \n",
              "  <svg xmlns=\"http://www.w3.org/2000/svg\" height=\"24px\"viewBox=\"0 0 24 24\"\n",
              "       width=\"24px\">\n",
              "    <path d=\"M0 0h24v24H0V0z\" fill=\"none\"/>\n",
              "    <path d=\"M18.56 5.44l.94 2.06.94-2.06 2.06-.94-2.06-.94-.94-2.06-.94 2.06-2.06.94zm-11 1L8.5 8.5l.94-2.06 2.06-.94-2.06-.94L8.5 2.5l-.94 2.06-2.06.94zm10 10l.94 2.06.94-2.06 2.06-.94-2.06-.94-.94-2.06-.94 2.06-2.06.94z\"/><path d=\"M17.41 7.96l-1.37-1.37c-.4-.4-.92-.59-1.43-.59-.52 0-1.04.2-1.43.59L10.3 9.45l-7.72 7.72c-.78.78-.78 2.05 0 2.83L4 21.41c.39.39.9.59 1.41.59.51 0 1.02-.2 1.41-.59l7.78-7.78 2.81-2.81c.8-.78.8-2.07 0-2.86zM5.41 20L4 18.59l7.72-7.72 1.47 1.35L5.41 20z\"/>\n",
              "  </svg>\n",
              "      </button>\n",
              "      \n",
              "  <style>\n",
              "    .colab-df-container {\n",
              "      display:flex;\n",
              "      flex-wrap:wrap;\n",
              "      gap: 12px;\n",
              "    }\n",
              "\n",
              "    .colab-df-convert {\n",
              "      background-color: #E8F0FE;\n",
              "      border: none;\n",
              "      border-radius: 50%;\n",
              "      cursor: pointer;\n",
              "      display: none;\n",
              "      fill: #1967D2;\n",
              "      height: 32px;\n",
              "      padding: 0 0 0 0;\n",
              "      width: 32px;\n",
              "    }\n",
              "\n",
              "    .colab-df-convert:hover {\n",
              "      background-color: #E2EBFA;\n",
              "      box-shadow: 0px 1px 2px rgba(60, 64, 67, 0.3), 0px 1px 3px 1px rgba(60, 64, 67, 0.15);\n",
              "      fill: #174EA6;\n",
              "    }\n",
              "\n",
              "    [theme=dark] .colab-df-convert {\n",
              "      background-color: #3B4455;\n",
              "      fill: #D2E3FC;\n",
              "    }\n",
              "\n",
              "    [theme=dark] .colab-df-convert:hover {\n",
              "      background-color: #434B5C;\n",
              "      box-shadow: 0px 1px 3px 1px rgba(0, 0, 0, 0.15);\n",
              "      filter: drop-shadow(0px 1px 2px rgba(0, 0, 0, 0.3));\n",
              "      fill: #FFFFFF;\n",
              "    }\n",
              "  </style>\n",
              "\n",
              "      <script>\n",
              "        const buttonEl =\n",
              "          document.querySelector('#df-f1af324c-eae9-48c9-91a2-b70c0558d8b2 button.colab-df-convert');\n",
              "        buttonEl.style.display =\n",
              "          google.colab.kernel.accessAllowed ? 'block' : 'none';\n",
              "\n",
              "        async function convertToInteractive(key) {\n",
              "          const element = document.querySelector('#df-f1af324c-eae9-48c9-91a2-b70c0558d8b2');\n",
              "          const dataTable =\n",
              "            await google.colab.kernel.invokeFunction('convertToInteractive',\n",
              "                                                     [key], {});\n",
              "          if (!dataTable) return;\n",
              "\n",
              "          const docLinkHtml = 'Like what you see? Visit the ' +\n",
              "            '<a target=\"_blank\" href=https://colab.research.google.com/notebooks/data_table.ipynb>data table notebook</a>'\n",
              "            + ' to learn more about interactive tables.';\n",
              "          element.innerHTML = '';\n",
              "          dataTable['output_type'] = 'display_data';\n",
              "          await google.colab.output.renderOutput(dataTable, element);\n",
              "          const docLink = document.createElement('div');\n",
              "          docLink.innerHTML = docLinkHtml;\n",
              "          element.appendChild(docLink);\n",
              "        }\n",
              "      </script>\n",
              "    </div>\n",
              "  </div>\n",
              "  "
            ]
          },
          "metadata": {},
          "execution_count": 11
        }
      ]
    },
    {
      "cell_type": "code",
      "source": [
        "df.shape"
      ],
      "metadata": {
        "colab": {
          "base_uri": "https://localhost:8080/"
        },
        "id": "WRcfN5vHfIwm",
        "outputId": "f11a8153-9c5c-4027-f24c-9fc83933a1d0"
      },
      "execution_count": null,
      "outputs": [
        {
          "output_type": "execute_result",
          "data": {
            "text/plain": [
              "(4411868, 4)"
            ]
          },
          "metadata": {},
          "execution_count": 12
        }
      ]
    },
    {
      "cell_type": "code",
      "source": [
        "df.sort_values('timestamp', inplace=True)"
      ],
      "metadata": {
        "id": "bI_ZPJmnHuVZ"
      },
      "execution_count": null,
      "outputs": []
    },
    {
      "cell_type": "markdown",
      "source": [
        "function for recognize on-line pixels:"
      ],
      "metadata": {
        "id": "ijE3tB6pDE_z"
      }
    },
    {
      "cell_type": "code",
      "source": [
        "def get_tempo(g):\n",
        "    g['diff'] = g['polarity'] - g['polarity'].shift(1)\n",
        "    uplines = g[(g['diff'] == 1)]\n",
        "    tempos = uplines[\"timestamp\"].shift(-1) - uplines[\"timestamp\"]\n",
        "    return 1e06/tempos.mean()"
      ],
      "metadata": {
        "id": "NccGrdsobnPk"
      },
      "execution_count": null,
      "outputs": []
    },
    {
      "cell_type": "code",
      "source": [
        "good_dots = df.groupby(by=['x','y']).filter(lambda group: 74 <= get_tempo(group) <= 76)"
      ],
      "metadata": {
        "id": "puP7pEFcbw7U"
      },
      "execution_count": null,
      "outputs": []
    },
    {
      "cell_type": "code",
      "source": [
        "good_dots.head()"
      ],
      "metadata": {
        "colab": {
          "base_uri": "https://localhost:8080/",
          "height": 206
        },
        "id": "pXv_xe9Mb7Nt",
        "outputId": "42796bb1-d190-48aa-b9ae-c4848793f256"
      },
      "execution_count": null,
      "outputs": [
        {
          "output_type": "execute_result",
          "data": {
            "text/plain": [
              "            timestamp    x    y  polarity\n",
              "242  1673364248010552  227  185         0\n",
              "241  1673364248010552  227  181         0\n",
              "240  1673364248010552  226  190         0\n",
              "238  1673364248010552  224  192         0\n",
              "236  1673364248010552  223  193         0"
            ],
            "text/html": [
              "\n",
              "  <div id=\"df-8a6f5650-e426-4d00-8d04-8bf5f28308a0\">\n",
              "    <div class=\"colab-df-container\">\n",
              "      <div>\n",
              "<style scoped>\n",
              "    .dataframe tbody tr th:only-of-type {\n",
              "        vertical-align: middle;\n",
              "    }\n",
              "\n",
              "    .dataframe tbody tr th {\n",
              "        vertical-align: top;\n",
              "    }\n",
              "\n",
              "    .dataframe thead th {\n",
              "        text-align: right;\n",
              "    }\n",
              "</style>\n",
              "<table border=\"1\" class=\"dataframe\">\n",
              "  <thead>\n",
              "    <tr style=\"text-align: right;\">\n",
              "      <th></th>\n",
              "      <th>timestamp</th>\n",
              "      <th>x</th>\n",
              "      <th>y</th>\n",
              "      <th>polarity</th>\n",
              "    </tr>\n",
              "  </thead>\n",
              "  <tbody>\n",
              "    <tr>\n",
              "      <th>242</th>\n",
              "      <td>1673364248010552</td>\n",
              "      <td>227</td>\n",
              "      <td>185</td>\n",
              "      <td>0</td>\n",
              "    </tr>\n",
              "    <tr>\n",
              "      <th>241</th>\n",
              "      <td>1673364248010552</td>\n",
              "      <td>227</td>\n",
              "      <td>181</td>\n",
              "      <td>0</td>\n",
              "    </tr>\n",
              "    <tr>\n",
              "      <th>240</th>\n",
              "      <td>1673364248010552</td>\n",
              "      <td>226</td>\n",
              "      <td>190</td>\n",
              "      <td>0</td>\n",
              "    </tr>\n",
              "    <tr>\n",
              "      <th>238</th>\n",
              "      <td>1673364248010552</td>\n",
              "      <td>224</td>\n",
              "      <td>192</td>\n",
              "      <td>0</td>\n",
              "    </tr>\n",
              "    <tr>\n",
              "      <th>236</th>\n",
              "      <td>1673364248010552</td>\n",
              "      <td>223</td>\n",
              "      <td>193</td>\n",
              "      <td>0</td>\n",
              "    </tr>\n",
              "  </tbody>\n",
              "</table>\n",
              "</div>\n",
              "      <button class=\"colab-df-convert\" onclick=\"convertToInteractive('df-8a6f5650-e426-4d00-8d04-8bf5f28308a0')\"\n",
              "              title=\"Convert this dataframe to an interactive table.\"\n",
              "              style=\"display:none;\">\n",
              "        \n",
              "  <svg xmlns=\"http://www.w3.org/2000/svg\" height=\"24px\"viewBox=\"0 0 24 24\"\n",
              "       width=\"24px\">\n",
              "    <path d=\"M0 0h24v24H0V0z\" fill=\"none\"/>\n",
              "    <path d=\"M18.56 5.44l.94 2.06.94-2.06 2.06-.94-2.06-.94-.94-2.06-.94 2.06-2.06.94zm-11 1L8.5 8.5l.94-2.06 2.06-.94-2.06-.94L8.5 2.5l-.94 2.06-2.06.94zm10 10l.94 2.06.94-2.06 2.06-.94-2.06-.94-.94-2.06-.94 2.06-2.06.94z\"/><path d=\"M17.41 7.96l-1.37-1.37c-.4-.4-.92-.59-1.43-.59-.52 0-1.04.2-1.43.59L10.3 9.45l-7.72 7.72c-.78.78-.78 2.05 0 2.83L4 21.41c.39.39.9.59 1.41.59.51 0 1.02-.2 1.41-.59l7.78-7.78 2.81-2.81c.8-.78.8-2.07 0-2.86zM5.41 20L4 18.59l7.72-7.72 1.47 1.35L5.41 20z\"/>\n",
              "  </svg>\n",
              "      </button>\n",
              "      \n",
              "  <style>\n",
              "    .colab-df-container {\n",
              "      display:flex;\n",
              "      flex-wrap:wrap;\n",
              "      gap: 12px;\n",
              "    }\n",
              "\n",
              "    .colab-df-convert {\n",
              "      background-color: #E8F0FE;\n",
              "      border: none;\n",
              "      border-radius: 50%;\n",
              "      cursor: pointer;\n",
              "      display: none;\n",
              "      fill: #1967D2;\n",
              "      height: 32px;\n",
              "      padding: 0 0 0 0;\n",
              "      width: 32px;\n",
              "    }\n",
              "\n",
              "    .colab-df-convert:hover {\n",
              "      background-color: #E2EBFA;\n",
              "      box-shadow: 0px 1px 2px rgba(60, 64, 67, 0.3), 0px 1px 3px 1px rgba(60, 64, 67, 0.15);\n",
              "      fill: #174EA6;\n",
              "    }\n",
              "\n",
              "    [theme=dark] .colab-df-convert {\n",
              "      background-color: #3B4455;\n",
              "      fill: #D2E3FC;\n",
              "    }\n",
              "\n",
              "    [theme=dark] .colab-df-convert:hover {\n",
              "      background-color: #434B5C;\n",
              "      box-shadow: 0px 1px 3px 1px rgba(0, 0, 0, 0.15);\n",
              "      filter: drop-shadow(0px 1px 2px rgba(0, 0, 0, 0.3));\n",
              "      fill: #FFFFFF;\n",
              "    }\n",
              "  </style>\n",
              "\n",
              "      <script>\n",
              "        const buttonEl =\n",
              "          document.querySelector('#df-8a6f5650-e426-4d00-8d04-8bf5f28308a0 button.colab-df-convert');\n",
              "        buttonEl.style.display =\n",
              "          google.colab.kernel.accessAllowed ? 'block' : 'none';\n",
              "\n",
              "        async function convertToInteractive(key) {\n",
              "          const element = document.querySelector('#df-8a6f5650-e426-4d00-8d04-8bf5f28308a0');\n",
              "          const dataTable =\n",
              "            await google.colab.kernel.invokeFunction('convertToInteractive',\n",
              "                                                     [key], {});\n",
              "          if (!dataTable) return;\n",
              "\n",
              "          const docLinkHtml = 'Like what you see? Visit the ' +\n",
              "            '<a target=\"_blank\" href=https://colab.research.google.com/notebooks/data_table.ipynb>data table notebook</a>'\n",
              "            + ' to learn more about interactive tables.';\n",
              "          element.innerHTML = '';\n",
              "          dataTable['output_type'] = 'display_data';\n",
              "          await google.colab.output.renderOutput(dataTable, element);\n",
              "          const docLink = document.createElement('div');\n",
              "          docLink.innerHTML = docLinkHtml;\n",
              "          element.appendChild(docLink);\n",
              "        }\n",
              "      </script>\n",
              "    </div>\n",
              "  </div>\n",
              "  "
            ]
          },
          "metadata": {},
          "execution_count": 16
        }
      ]
    },
    {
      "cell_type": "code",
      "source": [
        "good_dots.shape"
      ],
      "metadata": {
        "colab": {
          "base_uri": "https://localhost:8080/"
        },
        "id": "GONWtlZAe4TN",
        "outputId": "47abc63b-24c3-4eca-e3c0-f87690faaa14"
      },
      "execution_count": null,
      "outputs": [
        {
          "output_type": "execute_result",
          "data": {
            "text/plain": [
              "(4046201, 4)"
            ]
          },
          "metadata": {},
          "execution_count": 17
        }
      ]
    },
    {
      "cell_type": "markdown",
      "source": [
        "time of video:"
      ],
      "metadata": {
        "id": "8jNuhDH_DZzU"
      }
    },
    {
      "cell_type": "code",
      "source": [
        "start_dt = datetime.fromtimestamp(min(good_dots.timestamp) / 1e6)\n",
        "end_dt = datetime.fromtimestamp(max(good_dots.timestamp) / 1e6)"
      ],
      "metadata": {
        "id": "3n2zNUGrkef2"
      },
      "execution_count": null,
      "outputs": []
    },
    {
      "cell_type": "code",
      "source": [
        "print('Start: ' + start_dt.strftime('%H:%M:%S.%f') + ' \\nEnd: ' + end_dt.strftime('%H:%M:%S.%f') + ' \\nAt: ' + end_dt.strftime('%Y-%m-%d'))"
      ],
      "metadata": {
        "colab": {
          "base_uri": "https://localhost:8080/"
        },
        "id": "KOY6bR0MmJz2",
        "outputId": "ff941943-9f15-4dc5-999e-4018815a83fe"
      },
      "execution_count": null,
      "outputs": [
        {
          "output_type": "stream",
          "name": "stdout",
          "text": [
            "Start: 15:24:08.010552 \n",
            "End: 15:24:10.880447 \n",
            "At: 2023-01-10\n"
          ]
        }
      ]
    },
    {
      "cell_type": "markdown",
      "source": [
        "line visualization:"
      ],
      "metadata": {
        "id": "g7SqSZe4DdVE"
      }
    },
    {
      "cell_type": "code",
      "source": [
        "line_dots = list(set(zip(good_dots.x, good_dots.y)))"
      ],
      "metadata": {
        "id": "3ZpgJsItnGyG"
      },
      "execution_count": null,
      "outputs": []
    },
    {
      "cell_type": "code",
      "source": [
        "len(line_dots)"
      ],
      "metadata": {
        "id": "QOGmdcIop0Lv",
        "outputId": "b2b4902b-e853-437d-e0f8-114021359114",
        "colab": {
          "base_uri": "https://localhost:8080/"
        }
      },
      "execution_count": null,
      "outputs": [
        {
          "output_type": "execute_result",
          "data": {
            "text/plain": [
              "3136"
            ]
          },
          "metadata": {},
          "execution_count": 22
        }
      ]
    },
    {
      "cell_type": "code",
      "source": [
        "data = np.zeros((480,640), dtype=np.uint8)"
      ],
      "metadata": {
        "id": "JTMFgTN3f78V"
      },
      "execution_count": null,
      "outputs": []
    },
    {
      "cell_type": "code",
      "source": [
        "for d in line_dots:\n",
        "  data[d[1],d[0]] = 1"
      ],
      "metadata": {
        "id": "BLJttUOoof1d"
      },
      "execution_count": null,
      "outputs": []
    },
    {
      "cell_type": "code",
      "source": [
        "plt.imshow(data, cmap='hot', interpolation='nearest')\n",
        "plt.show()"
      ],
      "metadata": {
        "colab": {
          "base_uri": "https://localhost:8080/",
          "height": 269
        },
        "id": "xil9TnVihEFM",
        "outputId": "69e23657-65cb-457c-e0e3-3fdaf4474dfb"
      },
      "execution_count": null,
      "outputs": [
        {
          "output_type": "display_data",
          "data": {
            "text/plain": [
              "<Figure size 432x288 with 1 Axes>"
            ],
            "image/png": "[encoded data removed]"
          },
          "metadata": {
            "needs_background": "light"
          }
        }
      ]
    },
    {
      "cell_type": "markdown",
      "source": [
        "find how many pixels on line and how many pixels not on line by timestamp:"
      ],
      "metadata": {
        "id": "gErsh8xFDiF0"
      }
    },
    {
      "cell_type": "code",
      "source": [
        "df_s = df.sort_values(['x', 'y', 'timestamp'], ascending = [True, True, True])\n",
        "df_s['diff'] = df_s['polarity'] - df_s['polarity'].shift(1)\n",
        "df_s = df_s[df_s['diff'] == 1]"
      ],
      "metadata": {
        "id": "hB8W__1-x9ZP"
      },
      "execution_count": null,
      "outputs": []
    },
    {
      "cell_type": "code",
      "source": [
        "df_s.shape"
      ],
      "metadata": {
        "colab": {
          "base_uri": "https://localhost:8080/"
        },
        "id": "Aio6hwDuIgni",
        "outputId": "ae21c0ca-0aa4-43ea-e546-32f2562b4889"
      },
      "execution_count": null,
      "outputs": [
        {
          "output_type": "execute_result",
          "data": {
            "text/plain": [
              "(801313, 5)"
            ]
          },
          "metadata": {},
          "execution_count": 188
        }
      ]
    },
    {
      "cell_type": "code",
      "source": [
        "agg = []\n",
        "timestamps_filtered = [ts for ts in df_s['timestamp'].unique() if ts % 75 == 0]\n",
        "for ts in timestamps_filtered:\n",
        "  count_d = {}\n",
        "  df_sub = df_s[df_s['timestamp'] == ts]\n",
        "  df_sub_dots = list(set(zip(df_sub.x, df_sub.y)))\n",
        "  sub_dots_not_on_line = list(set(df_sub_dots) - set(line_dots))\n",
        "  n_dots_not_on_line = len(sub_dots_not_on_line)\n",
        "  n_dots_on_line = len(list(set(df_sub_dots) - set(sub_dots_not_on_line)))\n",
        "  n_total_dots = len(df_sub_dots) \n",
        "  count_d['timestamp'] = ts #[n_total_dots, n_dots_on_line, n_dots_not_on_line]\n",
        "  count_d['time'] = datetime.fromtimestamp(ts / 1e6).strftime('%H:%M:%S.%f')\n",
        "  count_d['total'] = n_total_dots\n",
        "  count_d['on_line'] = n_dots_on_line\n",
        "  count_d['not_on_line'] = n_dots_not_on_line\n",
        "  agg.append(count_d)\n"
      ],
      "metadata": {
        "id": "Shr6G4-wM3SZ"
      },
      "execution_count": null,
      "outputs": []
    },
    {
      "cell_type": "code",
      "source": [
        "df_agg = pd.DataFrame(agg)"
      ],
      "metadata": {
        "id": "fKJCSSM4YeVZ"
      },
      "execution_count": null,
      "outputs": []
    },
    {
      "cell_type": "code",
      "source": [
        "df_agg.head()"
      ],
      "metadata": {
        "colab": {
          "base_uri": "https://localhost:8080/",
          "height": 206
        },
        "id": "BkwhncozVbPA",
        "outputId": "64088408-eaea-4a67-cafd-4b7ad161c74e"
      },
      "execution_count": null,
      "outputs": [
        {
          "output_type": "execute_result",
          "data": {
            "text/plain": [
              "          timestamp             time  total  on_line  not_on_line\n",
              "0  1673364248238525  15:24:08.238525    282      277            5\n",
              "1  1673364248519550  15:24:08.519550    104       98            6\n",
              "2  1673364248926275  15:24:08.926275     17        0           17\n",
              "3  1673364249019950  15:24:09.019950      9        0            9\n",
              "4  1673364249301575  15:24:09.301575      2        0            2"
            ],
            "text/html": [
              "\n",
              "  <div id=\"df-56e4ba36-8272-4ae1-aea5-4e556b0a5905\">\n",
              "    <div class=\"colab-df-container\">\n",
              "      <div>\n",
              "<style scoped>\n",
              "    .dataframe tbody tr th:only-of-type {\n",
              "        vertical-align: middle;\n",
              "    }\n",
              "\n",
              "    .dataframe tbody tr th {\n",
              "        vertical-align: top;\n",
              "    }\n",
              "\n",
              "    .dataframe thead th {\n",
              "        text-align: right;\n",
              "    }\n",
              "</style>\n",
              "<table border=\"1\" class=\"dataframe\">\n",
              "  <thead>\n",
              "    <tr style=\"text-align: right;\">\n",
              "      <th></th>\n",
              "      <th>timestamp</th>\n",
              "      <th>time</th>\n",
              "      <th>total</th>\n",
              "      <th>on_line</th>\n",
              "      <th>not_on_line</th>\n",
              "    </tr>\n",
              "  </thead>\n",
              "  <tbody>\n",
              "    <tr>\n",
              "      <th>0</th>\n",
              "      <td>1673364248238525</td>\n",
              "      <td>15:24:08.238525</td>\n",
              "      <td>282</td>\n",
              "      <td>277</td>\n",
              "      <td>5</td>\n",
              "    </tr>\n",
              "    <tr>\n",
              "      <th>1</th>\n",
              "      <td>1673364248519550</td>\n",
              "      <td>15:24:08.519550</td>\n",
              "      <td>104</td>\n",
              "      <td>98</td>\n",
              "      <td>6</td>\n",
              "    </tr>\n",
              "    <tr>\n",
              "      <th>2</th>\n",
              "      <td>1673364248926275</td>\n",
              "      <td>15:24:08.926275</td>\n",
              "      <td>17</td>\n",
              "      <td>0</td>\n",
              "      <td>17</td>\n",
              "    </tr>\n",
              "    <tr>\n",
              "      <th>3</th>\n",
              "      <td>1673364249019950</td>\n",
              "      <td>15:24:09.019950</td>\n",
              "      <td>9</td>\n",
              "      <td>0</td>\n",
              "      <td>9</td>\n",
              "    </tr>\n",
              "    <tr>\n",
              "      <th>4</th>\n",
              "      <td>1673364249301575</td>\n",
              "      <td>15:24:09.301575</td>\n",
              "      <td>2</td>\n",
              "      <td>0</td>\n",
              "      <td>2</td>\n",
              "    </tr>\n",
              "  </tbody>\n",
              "</table>\n",
              "</div>\n",
              "      <button class=\"colab-df-convert\" onclick=\"convertToInteractive('df-56e4ba36-8272-4ae1-aea5-4e556b0a5905')\"\n",
              "              title=\"Convert this dataframe to an interactive table.\"\n",
              "              style=\"display:none;\">\n",
              "        \n",
              "  <svg xmlns=\"http://www.w3.org/2000/svg\" height=\"24px\"viewBox=\"0 0 24 24\"\n",
              "       width=\"24px\">\n",
              "    <path d=\"M0 0h24v24H0V0z\" fill=\"none\"/>\n",
              "    <path d=\"M18.56 5.44l.94 2.06.94-2.06 2.06-.94-2.06-.94-.94-2.06-.94 2.06-2.06.94zm-11 1L8.5 8.5l.94-2.06 2.06-.94-2.06-.94L8.5 2.5l-.94 2.06-2.06.94zm10 10l.94 2.06.94-2.06 2.06-.94-2.06-.94-.94-2.06-.94 2.06-2.06.94z\"/><path d=\"M17.41 7.96l-1.37-1.37c-.4-.4-.92-.59-1.43-.59-.52 0-1.04.2-1.43.59L10.3 9.45l-7.72 7.72c-.78.78-.78 2.05 0 2.83L4 21.41c.39.39.9.59 1.41.59.51 0 1.02-.2 1.41-.59l7.78-7.78 2.81-2.81c.8-.78.8-2.07 0-2.86zM5.41 20L4 18.59l7.72-7.72 1.47 1.35L5.41 20z\"/>\n",
              "  </svg>\n",
              "      </button>\n",
              "      \n",
              "  <style>\n",
              "    .colab-df-container {\n",
              "      display:flex;\n",
              "      flex-wrap:wrap;\n",
              "      gap: 12px;\n",
              "    }\n",
              "\n",
              "    .colab-df-convert {\n",
              "      background-color: #E8F0FE;\n",
              "      border: none;\n",
              "      border-radius: 50%;\n",
              "      cursor: pointer;\n",
              "      display: none;\n",
              "      fill: #1967D2;\n",
              "      height: 32px;\n",
              "      padding: 0 0 0 0;\n",
              "      width: 32px;\n",
              "    }\n",
              "\n",
              "    .colab-df-convert:hover {\n",
              "      background-color: #E2EBFA;\n",
              "      box-shadow: 0px 1px 2px rgba(60, 64, 67, 0.3), 0px 1px 3px 1px rgba(60, 64, 67, 0.15);\n",
              "      fill: #174EA6;\n",
              "    }\n",
              "\n",
              "    [theme=dark] .colab-df-convert {\n",
              "      background-color: #3B4455;\n",
              "      fill: #D2E3FC;\n",
              "    }\n",
              "\n",
              "    [theme=dark] .colab-df-convert:hover {\n",
              "      background-color: #434B5C;\n",
              "      box-shadow: 0px 1px 3px 1px rgba(0, 0, 0, 0.15);\n",
              "      filter: drop-shadow(0px 1px 2px rgba(0, 0, 0, 0.3));\n",
              "      fill: #FFFFFF;\n",
              "    }\n",
              "  </style>\n",
              "\n",
              "      <script>\n",
              "        const buttonEl =\n",
              "          document.querySelector('#df-56e4ba36-8272-4ae1-aea5-4e556b0a5905 button.colab-df-convert');\n",
              "        buttonEl.style.display =\n",
              "          google.colab.kernel.accessAllowed ? 'block' : 'none';\n",
              "\n",
              "        async function convertToInteractive(key) {\n",
              "          const element = document.querySelector('#df-56e4ba36-8272-4ae1-aea5-4e556b0a5905');\n",
              "          const dataTable =\n",
              "            await google.colab.kernel.invokeFunction('convertToInteractive',\n",
              "                                                     [key], {});\n",
              "          if (!dataTable) return;\n",
              "\n",
              "          const docLinkHtml = 'Like what you see? Visit the ' +\n",
              "            '<a target=\"_blank\" href=https://colab.research.google.com/notebooks/data_table.ipynb>data table notebook</a>'\n",
              "            + ' to learn more about interactive tables.';\n",
              "          element.innerHTML = '';\n",
              "          dataTable['output_type'] = 'display_data';\n",
              "          await google.colab.output.renderOutput(dataTable, element);\n",
              "          const docLink = document.createElement('div');\n",
              "          docLink.innerHTML = docLinkHtml;\n",
              "          element.appendChild(docLink);\n",
              "        }\n",
              "      </script>\n",
              "    </div>\n",
              "  </div>\n",
              "  "
            ]
          },
          "metadata": {},
          "execution_count": 191
        }
      ]
    },
    {
      "cell_type": "code",
      "source": [
        "df_agg.shape"
      ],
      "metadata": {
        "colab": {
          "base_uri": "https://localhost:8080/"
        },
        "id": "4Ni0ehZVxznA",
        "outputId": "ac332ca2-86b3-4ded-fbd8-2b9fad905503"
      },
      "execution_count": null,
      "outputs": [
        {
          "output_type": "execute_result",
          "data": {
            "text/plain": [
              "(215, 5)"
            ]
          },
          "metadata": {},
          "execution_count": 192
        }
      ]
    },
    {
      "cell_type": "code",
      "source": [
        "df_agg.set_index('time')['on_line'].plot.line(figsize=(10,5), ylabel=\"n_pixels\")"
      ],
      "metadata": {
        "colab": {
          "base_uri": "https://localhost:8080/",
          "height": 351
        },
        "id": "umaVYVbnX5IK",
        "outputId": "d1fa08bc-33e0-4cdf-b3e1-d7fd5db2a3af"
      },
      "execution_count": null,
      "outputs": [
        {
          "output_type": "execute_result",
          "data": {
            "text/plain": [
              "<matplotlib.axes._subplots.AxesSubplot at 0x7f338c655100>"
            ]
          },
          "metadata": {},
          "execution_count": 239
        },
        {
          "output_type": "display_data",
          "data": {
            "text/plain": [
              "<Figure size 720x360 with 1 Axes>"
            ],
            "image/png": "[encoded data removed]"
          },
          "metadata": {
            "needs_background": "light"
          }
        }
      ]
    },
    {
      "cell_type": "code",
      "source": [
        "df_agg.set_index('time')['not_on_line'].plot.line(color='red', figsize=(10,5), ylabel=\"n_pixels\")"
      ],
      "metadata": {
        "colab": {
          "base_uri": "https://localhost:8080/",
          "height": 351
        },
        "id": "7E8ft5qrW0Wo",
        "outputId": "6f5b6566-b68a-48a6-fe75-948f1bc793c8"
      },
      "execution_count": null,
      "outputs": [
        {
          "output_type": "execute_result",
          "data": {
            "text/plain": [
              "<matplotlib.axes._subplots.AxesSubplot at 0x7f338c622940>"
            ]
          },
          "metadata": {},
          "execution_count": 240
        },
        {
          "output_type": "display_data",
          "data": {
            "text/plain": [
              "<Figure size 720x360 with 1 Axes>"
            ],
            "image/png": "[encoded data removed]"
          },
          "metadata": {
            "needs_background": "light"
          }
        }
      ]
    },
    {
      "cell_type": "markdown",
      "source": [
        "## FlickerLine_75Hz_Obstacle"
      ],
      "metadata": {
        "id": "BoM07UwtdPyv"
      }
    },
    {
      "cell_type": "code",
      "source": [
        "meta_data_obs = pd.read_csv('FlickerLine_75Hz_Obstacle.csv', nrows=0)\n",
        "meta_data_obs"
      ],
      "metadata": {
        "id": "nSBzVx6FmE57",
        "outputId": "0e12e743-d39d-4145-fbb0-9a5d77730d33",
        "colab": {
          "base_uri": "https://localhost:8080/",
          "height": 49
        }
      },
      "execution_count": null,
      "outputs": [
        {
          "output_type": "execute_result",
          "data": {
            "text/plain": [
              "Empty DataFrame\n",
              "Columns: [# Input: DVXplorer_DXM00137 sizeX: 640 sizeY: 480]\n",
              "Index: []"
            ],
            "text/html": [
              "\n",
              "  <div id=\"df-77ebdbc4-5cee-43db-a088-c1352ec05452\">\n",
              "    <div class=\"colab-df-container\">\n",
              "      <div>\n",
              "<style scoped>\n",
              "    .dataframe tbody tr th:only-of-type {\n",
              "        vertical-align: middle;\n",
              "    }\n",
              "\n",
              "    .dataframe tbody tr th {\n",
              "        vertical-align: top;\n",
              "    }\n",
              "\n",
              "    .dataframe thead th {\n",
              "        text-align: right;\n",
              "    }\n",
              "</style>\n",
              "<table border=\"1\" class=\"dataframe\">\n",
              "  <thead>\n",
              "    <tr style=\"text-align: right;\">\n",
              "      <th></th>\n",
              "      <th># Input: DVXplorer_DXM00137 sizeX: 640 sizeY: 480</th>\n",
              "    </tr>\n",
              "  </thead>\n",
              "  <tbody>\n",
              "  </tbody>\n",
              "</table>\n",
              "</div>\n",
              "      <button class=\"colab-df-convert\" onclick=\"convertToInteractive('df-77ebdbc4-5cee-43db-a088-c1352ec05452')\"\n",
              "              title=\"Convert this dataframe to an interactive table.\"\n",
              "              style=\"display:none;\">\n",
              "        \n",
              "  <svg xmlns=\"http://www.w3.org/2000/svg\" height=\"24px\"viewBox=\"0 0 24 24\"\n",
              "       width=\"24px\">\n",
              "    <path d=\"M0 0h24v24H0V0z\" fill=\"none\"/>\n",
              "    <path d=\"M18.56 5.44l.94 2.06.94-2.06 2.06-.94-2.06-.94-.94-2.06-.94 2.06-2.06.94zm-11 1L8.5 8.5l.94-2.06 2.06-.94-2.06-.94L8.5 2.5l-.94 2.06-2.06.94zm10 10l.94 2.06.94-2.06 2.06-.94-2.06-.94-.94-2.06-.94 2.06-2.06.94z\"/><path d=\"M17.41 7.96l-1.37-1.37c-.4-.4-.92-.59-1.43-.59-.52 0-1.04.2-1.43.59L10.3 9.45l-7.72 7.72c-.78.78-.78 2.05 0 2.83L4 21.41c.39.39.9.59 1.41.59.51 0 1.02-.2 1.41-.59l7.78-7.78 2.81-2.81c.8-.78.8-2.07 0-2.86zM5.41 20L4 18.59l7.72-7.72 1.47 1.35L5.41 20z\"/>\n",
              "  </svg>\n",
              "      </button>\n",
              "      \n",
              "  <style>\n",
              "    .colab-df-container {\n",
              "      display:flex;\n",
              "      flex-wrap:wrap;\n",
              "      gap: 12px;\n",
              "    }\n",
              "\n",
              "    .colab-df-convert {\n",
              "      background-color: #E8F0FE;\n",
              "      border: none;\n",
              "      border-radius: 50%;\n",
              "      cursor: pointer;\n",
              "      display: none;\n",
              "      fill: #1967D2;\n",
              "      height: 32px;\n",
              "      padding: 0 0 0 0;\n",
              "      width: 32px;\n",
              "    }\n",
              "\n",
              "    .colab-df-convert:hover {\n",
              "      background-color: #E2EBFA;\n",
              "      box-shadow: 0px 1px 2px rgba(60, 64, 67, 0.3), 0px 1px 3px 1px rgba(60, 64, 67, 0.15);\n",
              "      fill: #174EA6;\n",
              "    }\n",
              "\n",
              "    [theme=dark] .colab-df-convert {\n",
              "      background-color: #3B4455;\n",
              "      fill: #D2E3FC;\n",
              "    }\n",
              "\n",
              "    [theme=dark] .colab-df-convert:hover {\n",
              "      background-color: #434B5C;\n",
              "      box-shadow: 0px 1px 3px 1px rgba(0, 0, 0, 0.15);\n",
              "      filter: drop-shadow(0px 1px 2px rgba(0, 0, 0, 0.3));\n",
              "      fill: #FFFFFF;\n",
              "    }\n",
              "  </style>\n",
              "\n",
              "      <script>\n",
              "        const buttonEl =\n",
              "          document.querySelector('#df-77ebdbc4-5cee-43db-a088-c1352ec05452 button.colab-df-convert');\n",
              "        buttonEl.style.display =\n",
              "          google.colab.kernel.accessAllowed ? 'block' : 'none';\n",
              "\n",
              "        async function convertToInteractive(key) {\n",
              "          const element = document.querySelector('#df-77ebdbc4-5cee-43db-a088-c1352ec05452');\n",
              "          const dataTable =\n",
              "            await google.colab.kernel.invokeFunction('convertToInteractive',\n",
              "                                                     [key], {});\n",
              "          if (!dataTable) return;\n",
              "\n",
              "          const docLinkHtml = 'Like what you see? Visit the ' +\n",
              "            '<a target=\"_blank\" href=https://colab.research.google.com/notebooks/data_table.ipynb>data table notebook</a>'\n",
              "            + ' to learn more about interactive tables.';\n",
              "          element.innerHTML = '';\n",
              "          dataTable['output_type'] = 'display_data';\n",
              "          await google.colab.output.renderOutput(dataTable, element);\n",
              "          const docLink = document.createElement('div');\n",
              "          docLink.innerHTML = docLinkHtml;\n",
              "          element.appendChild(docLink);\n",
              "        }\n",
              "      </script>\n",
              "    </div>\n",
              "  </div>\n",
              "  "
            ]
          },
          "metadata": {},
          "execution_count": 33
        }
      ]
    },
    {
      "cell_type": "code",
      "source": [
        "df_obs = pd.read_csv('FlickerLine_75Hz_Obstacle.csv', skiprows=1)"
      ],
      "metadata": {
        "id": "ZrjYy6TMle8U"
      },
      "execution_count": null,
      "outputs": []
    },
    {
      "cell_type": "code",
      "source": [
        "df_obs.sort_values('timestamp', inplace=True)\n",
        "good_dots_obs = df_obs.groupby(by=['x','y']).filter(lambda group: 74 <= get_tempo(group) <= 76)\n",
        "line_dots_obs = list(set(zip(good_dots_obs.x, good_dots_obs.y)))\n",
        "data_obs = np.zeros((480,640), dtype=np.uint8)\n",
        "for d in line_dots_obs:\n",
        "  data_obs[d[1],d[0]] = 1"
      ],
      "metadata": {
        "id": "slnR6nVwlpeZ"
      },
      "execution_count": null,
      "outputs": []
    },
    {
      "cell_type": "code",
      "source": [
        "good_dots_obs.shape"
      ],
      "metadata": {
        "colab": {
          "base_uri": "https://localhost:8080/"
        },
        "id": "Hs_0tsLphfMc",
        "outputId": "0e8e13a4-430f-4898-d331-a813ce229756"
      },
      "execution_count": null,
      "outputs": [
        {
          "output_type": "execute_result",
          "data": {
            "text/plain": [
              "(5427238, 4)"
            ]
          },
          "metadata": {},
          "execution_count": 36
        }
      ]
    },
    {
      "cell_type": "code",
      "source": [
        "start_dt_obs = datetime.fromtimestamp(min(good_dots_obs.timestamp) / 1e6)\n",
        "end_dt_obs = datetime.fromtimestamp(max(good_dots_obs.timestamp) / 1e6)"
      ],
      "metadata": {
        "id": "2t1TDEyPm7KF"
      },
      "execution_count": null,
      "outputs": []
    },
    {
      "cell_type": "code",
      "source": [
        "print('Start: ' + start_dt_obs.strftime('%H:%M:%S.%f') + ' \\nEnd: ' + end_dt_obs.strftime('%H:%M:%S.%f') + ' \\nAt: ' + end_dt_obs.strftime('%Y-%m-%d'))"
      ],
      "metadata": {
        "colab": {
          "base_uri": "https://localhost:8080/"
        },
        "id": "1-4TfKdZnCJ2",
        "outputId": "b8d9ed49-a111-4cc7-8ac0-6ea0c5ad5547"
      },
      "execution_count": null,
      "outputs": [
        {
          "output_type": "stream",
          "name": "stdout",
          "text": [
            "Start: 15:25:15.040516 \n",
            "End: 15:25:18.290310 \n",
            "At: 2023-01-10\n"
          ]
        }
      ]
    },
    {
      "cell_type": "code",
      "source": [
        "plt.imshow(data_obs, cmap='hot', interpolation='nearest')\n",
        "plt.show()"
      ],
      "metadata": {
        "id": "T4BwxzjVmUIW",
        "outputId": "b45c4b46-a0f2-41ee-fdd8-6dcd83708a7d",
        "colab": {
          "base_uri": "https://localhost:8080/",
          "height": 269
        }
      },
      "execution_count": null,
      "outputs": [
        {
          "output_type": "display_data",
          "data": {
            "text/plain": [
              "<Figure size 432x288 with 1 Axes>"
            ],
            "image/png": "[encoded data removed]"
          },
          "metadata": {
            "needs_background": "light"
          }
        }
      ]
    },
    {
      "cell_type": "code",
      "source": [
        "df_obs_s = df_obs.sort_values(['x', 'y', 'timestamp'], ascending = [True, True, True])\n",
        "df_obs_s['diff'] = df_obs_s['polarity'] - df_obs_s['polarity'].shift(1)\n",
        "df_obs_s = df_obs_s[df_obs_s['diff'] == 1]"
      ],
      "metadata": {
        "id": "6726_0vgyDeF"
      },
      "execution_count": null,
      "outputs": []
    },
    {
      "cell_type": "code",
      "source": [
        "agg_obs = []\n",
        "timestamps_filtered = [ts for ts in df_obs_s['timestamp'].unique() if ts % 75 == 0]\n",
        "for ts in timestamps_filtered:\n",
        "  count_d = {}\n",
        "  df_sub = df_obs_s[df_obs_s['timestamp'] == ts]\n",
        "  df_sub_dots = list(set(zip(df_sub.x, df_sub.y)))\n",
        "  sub_dots_not_on_line = list(set(df_sub_dots) - set(line_dots_obs))\n",
        "  n_dots_not_on_line = len(sub_dots_not_on_line)\n",
        "  n_dots_on_line = len(list(set(df_sub_dots) - set(sub_dots_not_on_line)))\n",
        "  n_total_dots = len(df_sub_dots) \n",
        "  count_d['timestamp'] = ts #[n_total_dots, n_dots_on_line, n_dots_not_on_line]\n",
        "  count_d['time'] = datetime.fromtimestamp(ts / 1e6).strftime('%H:%M:%S.%f')\n",
        "  count_d['total'] = n_total_dots\n",
        "  count_d['on_line'] = n_dots_on_line\n",
        "  count_d['not_on_line'] = n_dots_not_on_line\n",
        "  agg_obs.append(count_d)"
      ],
      "metadata": {
        "id": "HpK5ovp3Yjje"
      },
      "execution_count": null,
      "outputs": []
    },
    {
      "cell_type": "code",
      "source": [
        "df_agg_obs = pd.DataFrame(agg_obs)"
      ],
      "metadata": {
        "id": "_LkivVe5YrfP"
      },
      "execution_count": null,
      "outputs": []
    },
    {
      "cell_type": "code",
      "source": [
        "df_agg_obs.shape"
      ],
      "metadata": {
        "colab": {
          "base_uri": "https://localhost:8080/"
        },
        "id": "sqe3c9qfZX0W",
        "outputId": "052e9ecc-f07c-49d7-fe41-df7e72309dab"
      },
      "execution_count": null,
      "outputs": [
        {
          "output_type": "execute_result",
          "data": {
            "text/plain": [
              "(212, 5)"
            ]
          },
          "metadata": {},
          "execution_count": 203
        }
      ]
    },
    {
      "cell_type": "code",
      "source": [
        "df_agg_obs.set_index('time')['on_line'].plot.line(figsize=(10,5), ylabel=\"n_pixels\")"
      ],
      "metadata": {
        "colab": {
          "base_uri": "https://localhost:8080/",
          "height": 351
        },
        "id": "Y7NlnEyIYyY4",
        "outputId": "1cd88f5a-e281-43e7-a8eb-a6fac67b284b"
      },
      "execution_count": null,
      "outputs": [
        {
          "output_type": "execute_result",
          "data": {
            "text/plain": [
              "<matplotlib.axes._subplots.AxesSubplot at 0x7f338c5f6910>"
            ]
          },
          "metadata": {},
          "execution_count": 241
        },
        {
          "output_type": "display_data",
          "data": {
            "text/plain": [
              "<Figure size 720x360 with 1 Axes>"
            ],
            "image/png": "[encoded data removed]"
          },
          "metadata": {
            "needs_background": "light"
          }
        }
      ]
    },
    {
      "cell_type": "code",
      "source": [
        "df_agg_obs.set_index('time')['not_on_line'].plot.line(color='red', figsize=(10,5), ylabel=\"n_pixels\")"
      ],
      "metadata": {
        "colab": {
          "base_uri": "https://localhost:8080/",
          "height": 351
        },
        "id": "uW66GROWXVjd",
        "outputId": "292ca98e-bb55-4f29-913b-a9e5c3eef845"
      },
      "execution_count": null,
      "outputs": [
        {
          "output_type": "execute_result",
          "data": {
            "text/plain": [
              "<matplotlib.axes._subplots.AxesSubplot at 0x7f3391ee52b0>"
            ]
          },
          "metadata": {},
          "execution_count": 242
        },
        {
          "output_type": "display_data",
          "data": {
            "text/plain": [
              "<Figure size 720x360 with 1 Axes>"
            ],
            "image/png": "[encoded data removed]"
          },
          "metadata": {
            "needs_background": "light"
          }
        }
      ]
    },
    {
      "cell_type": "markdown",
      "source": [
        "## FlickerLine_75Hz_pluseNoise"
      ],
      "metadata": {
        "id": "j3cq_UlbfpXz"
      }
    },
    {
      "cell_type": "code",
      "source": [
        "meta_data_pn = pd.read_csv('FlickerLine_75Hz_pluseNoise.csv', nrows=0)\n",
        "meta_data_pn"
      ],
      "metadata": {
        "colab": {
          "base_uri": "https://localhost:8080/",
          "height": 49
        },
        "id": "AHDZS6Iqe35B",
        "outputId": "40626c8f-90ce-4715-fc89-71c995e74fb7"
      },
      "execution_count": null,
      "outputs": [
        {
          "output_type": "execute_result",
          "data": {
            "text/plain": [
              "Empty DataFrame\n",
              "Columns: [# Input: DVXplorer_DXM00137 sizeX: 640 sizeY: 480]\n",
              "Index: []"
            ],
            "text/html": [
              "\n",
              "  <div id=\"df-9b3c6bbc-ee0a-4485-aefb-c64fa3851f1c\">\n",
              "    <div class=\"colab-df-container\">\n",
              "      <div>\n",
              "<style scoped>\n",
              "    .dataframe tbody tr th:only-of-type {\n",
              "        vertical-align: middle;\n",
              "    }\n",
              "\n",
              "    .dataframe tbody tr th {\n",
              "        vertical-align: top;\n",
              "    }\n",
              "\n",
              "    .dataframe thead th {\n",
              "        text-align: right;\n",
              "    }\n",
              "</style>\n",
              "<table border=\"1\" class=\"dataframe\">\n",
              "  <thead>\n",
              "    <tr style=\"text-align: right;\">\n",
              "      <th></th>\n",
              "      <th># Input: DVXplorer_DXM00137 sizeX: 640 sizeY: 480</th>\n",
              "    </tr>\n",
              "  </thead>\n",
              "  <tbody>\n",
              "  </tbody>\n",
              "</table>\n",
              "</div>\n",
              "      <button class=\"colab-df-convert\" onclick=\"convertToInteractive('df-9b3c6bbc-ee0a-4485-aefb-c64fa3851f1c')\"\n",
              "              title=\"Convert this dataframe to an interactive table.\"\n",
              "              style=\"display:none;\">\n",
              "        \n",
              "  <svg xmlns=\"http://www.w3.org/2000/svg\" height=\"24px\"viewBox=\"0 0 24 24\"\n",
              "       width=\"24px\">\n",
              "    <path d=\"M0 0h24v24H0V0z\" fill=\"none\"/>\n",
              "    <path d=\"M18.56 5.44l.94 2.06.94-2.06 2.06-.94-2.06-.94-.94-2.06-.94 2.06-2.06.94zm-11 1L8.5 8.5l.94-2.06 2.06-.94-2.06-.94L8.5 2.5l-.94 2.06-2.06.94zm10 10l.94 2.06.94-2.06 2.06-.94-2.06-.94-.94-2.06-.94 2.06-2.06.94z\"/><path d=\"M17.41 7.96l-1.37-1.37c-.4-.4-.92-.59-1.43-.59-.52 0-1.04.2-1.43.59L10.3 9.45l-7.72 7.72c-.78.78-.78 2.05 0 2.83L4 21.41c.39.39.9.59 1.41.59.51 0 1.02-.2 1.41-.59l7.78-7.78 2.81-2.81c.8-.78.8-2.07 0-2.86zM5.41 20L4 18.59l7.72-7.72 1.47 1.35L5.41 20z\"/>\n",
              "  </svg>\n",
              "      </button>\n",
              "      \n",
              "  <style>\n",
              "    .colab-df-container {\n",
              "      display:flex;\n",
              "      flex-wrap:wrap;\n",
              "      gap: 12px;\n",
              "    }\n",
              "\n",
              "    .colab-df-convert {\n",
              "      background-color: #E8F0FE;\n",
              "      border: none;\n",
              "      border-radius: 50%;\n",
              "      cursor: pointer;\n",
              "      display: none;\n",
              "      fill: #1967D2;\n",
              "      height: 32px;\n",
              "      padding: 0 0 0 0;\n",
              "      width: 32px;\n",
              "    }\n",
              "\n",
              "    .colab-df-convert:hover {\n",
              "      background-color: #E2EBFA;\n",
              "      box-shadow: 0px 1px 2px rgba(60, 64, 67, 0.3), 0px 1px 3px 1px rgba(60, 64, 67, 0.15);\n",
              "      fill: #174EA6;\n",
              "    }\n",
              "\n",
              "    [theme=dark] .colab-df-convert {\n",
              "      background-color: #3B4455;\n",
              "      fill: #D2E3FC;\n",
              "    }\n",
              "\n",
              "    [theme=dark] .colab-df-convert:hover {\n",
              "      background-color: #434B5C;\n",
              "      box-shadow: 0px 1px 3px 1px rgba(0, 0, 0, 0.15);\n",
              "      filter: drop-shadow(0px 1px 2px rgba(0, 0, 0, 0.3));\n",
              "      fill: #FFFFFF;\n",
              "    }\n",
              "  </style>\n",
              "\n",
              "      <script>\n",
              "        const buttonEl =\n",
              "          document.querySelector('#df-9b3c6bbc-ee0a-4485-aefb-c64fa3851f1c button.colab-df-convert');\n",
              "        buttonEl.style.display =\n",
              "          google.colab.kernel.accessAllowed ? 'block' : 'none';\n",
              "\n",
              "        async function convertToInteractive(key) {\n",
              "          const element = document.querySelector('#df-9b3c6bbc-ee0a-4485-aefb-c64fa3851f1c');\n",
              "          const dataTable =\n",
              "            await google.colab.kernel.invokeFunction('convertToInteractive',\n",
              "                                                     [key], {});\n",
              "          if (!dataTable) return;\n",
              "\n",
              "          const docLinkHtml = 'Like what you see? Visit the ' +\n",
              "            '<a target=\"_blank\" href=https://colab.research.google.com/notebooks/data_table.ipynb>data table notebook</a>'\n",
              "            + ' to learn more about interactive tables.';\n",
              "          element.innerHTML = '';\n",
              "          dataTable['output_type'] = 'display_data';\n",
              "          await google.colab.output.renderOutput(dataTable, element);\n",
              "          const docLink = document.createElement('div');\n",
              "          docLink.innerHTML = docLinkHtml;\n",
              "          element.appendChild(docLink);\n",
              "        }\n",
              "      </script>\n",
              "    </div>\n",
              "  </div>\n",
              "  "
            ]
          },
          "metadata": {},
          "execution_count": 45
        }
      ]
    },
    {
      "cell_type": "code",
      "source": [
        "df_pn = pd.read_csv('FlickerLine_75Hz_pluseNoise.csv', skiprows=1)"
      ],
      "metadata": {
        "id": "eVHDwCdMfE8y"
      },
      "execution_count": null,
      "outputs": []
    },
    {
      "cell_type": "code",
      "source": [
        "df_pn.sort_values('timestamp', inplace=True)\n",
        "good_dots_pn = df_pn.groupby(by=['x','y']).filter(lambda group: 74 <= get_tempo(group) <= 76)\n",
        "line_dots_pn = list(set(zip(good_dots_pn.x, good_dots_pn.y)))\n",
        "data_pn = np.zeros((480,640), dtype=np.uint8)\n",
        "for d in line_dots_pn:\n",
        "  data_pn[d[1],d[0]] = 1"
      ],
      "metadata": {
        "id": "9u88igrcfOcZ"
      },
      "execution_count": null,
      "outputs": []
    },
    {
      "cell_type": "code",
      "source": [
        "good_dots_pn.shape"
      ],
      "metadata": {
        "colab": {
          "base_uri": "https://localhost:8080/"
        },
        "id": "7389K223gmkr",
        "outputId": "82e20ed5-f77a-4c3b-f3b3-5141b71b87d8"
      },
      "execution_count": null,
      "outputs": [
        {
          "output_type": "execute_result",
          "data": {
            "text/plain": [
              "(8873444, 4)"
            ]
          },
          "metadata": {},
          "execution_count": 48
        }
      ]
    },
    {
      "cell_type": "code",
      "source": [
        "start_dt_pn = datetime.fromtimestamp(min(good_dots_pn.timestamp) / 1e6)\n",
        "end_dt_pn = datetime.fromtimestamp(max(good_dots_pn.timestamp) / 1e6)"
      ],
      "metadata": {
        "id": "IsMPfNH3nPNO"
      },
      "execution_count": null,
      "outputs": []
    },
    {
      "cell_type": "code",
      "source": [
        "print('Start: ' + start_dt_pn.strftime('%H:%M:%S.%f') + ' \\nEnd: ' + end_dt_pn.strftime('%H:%M:%S.%f') + ' \\nAt: ' + end_dt_pn.strftime('%Y-%m-%d'))"
      ],
      "metadata": {
        "colab": {
          "base_uri": "https://localhost:8080/"
        },
        "id": "E_swULW5nU5m",
        "outputId": "e8a38e8a-fd03-4ffb-dbb1-7d4dbafbd4c5"
      },
      "execution_count": null,
      "outputs": [
        {
          "output_type": "stream",
          "name": "stdout",
          "text": [
            "Start: 15:26:34.670592 \n",
            "End: 15:26:40.970424 \n",
            "At: 2023-01-10\n"
          ]
        }
      ]
    },
    {
      "cell_type": "code",
      "source": [
        "plt.imshow(data_pn, cmap='hot', interpolation='nearest')\n",
        "plt.show()"
      ],
      "metadata": {
        "colab": {
          "base_uri": "https://localhost:8080/",
          "height": 269
        },
        "id": "jqLbOK5wf0rq",
        "outputId": "bd14029f-0c0d-459d-c022-5c0e37c024a8"
      },
      "execution_count": null,
      "outputs": [
        {
          "output_type": "display_data",
          "data": {
            "text/plain": [
              "<Figure size 432x288 with 1 Axes>"
            ],
            "image/png": "[encoded data removed]"
          },
          "metadata": {
            "needs_background": "light"
          }
        }
      ]
    },
    {
      "cell_type": "code",
      "source": [
        "df_pn_s = df_pn.sort_values(['x', 'y', 'timestamp'], ascending = [True, True, True])\n",
        "df_pn_s['diff'] = df_pn_s['polarity'] - df_pn_s['polarity'].shift(1)\n",
        "df_pn_s = df_pn_s[df_pn_s['diff'] == 1]"
      ],
      "metadata": {
        "id": "UAncopojytY3"
      },
      "execution_count": null,
      "outputs": []
    },
    {
      "cell_type": "code",
      "source": [
        "agg_pn = []\n",
        "timestamps_filtered = [ts for ts in df_pn_s['timestamp'].unique() if ts % 75 == 0]\n",
        "for ts in timestamps_filtered:\n",
        "  count_d = {}\n",
        "  df_sub = df_pn_s[df_pn_s['timestamp'] == ts]\n",
        "  df_sub_dots = list(set(zip(df_sub.x, df_sub.y)))\n",
        "  sub_dots_not_on_line = list(set(df_sub_dots) - set(line_dots_pn))\n",
        "  n_dots_not_on_line = len(sub_dots_not_on_line)\n",
        "  n_dots_on_line = len(list(set(df_sub_dots) - set(sub_dots_not_on_line)))\n",
        "  n_total_dots = len(df_sub_dots) \n",
        "  count_d['timestamp'] = ts #[n_total_dots, n_dots_on_line, n_dots_not_on_line]\n",
        "  count_d['time'] = datetime.fromtimestamp(ts / 1e6).strftime('%H:%M:%S.%f')\n",
        "  count_d['total'] = n_total_dots\n",
        "  count_d['on_line'] = n_dots_on_line\n",
        "  count_d['not_on_line'] = n_dots_not_on_line\n",
        "  agg_pn.append(count_d)"
      ],
      "metadata": {
        "id": "oib9dfU_ZjZ-"
      },
      "execution_count": null,
      "outputs": []
    },
    {
      "cell_type": "code",
      "source": [
        "df_agg_pn = pd.DataFrame(agg_pn)"
      ],
      "metadata": {
        "id": "TMtAPVN6ZjZ_"
      },
      "execution_count": null,
      "outputs": []
    },
    {
      "cell_type": "code",
      "source": [
        "df_agg_pn.shape"
      ],
      "metadata": {
        "outputId": "502b7198-af95-481c-b264-3e6068f0b718",
        "colab": {
          "base_uri": "https://localhost:8080/"
        },
        "id": "T38rehqDZjaA"
      },
      "execution_count": null,
      "outputs": [
        {
          "output_type": "execute_result",
          "data": {
            "text/plain": [
              "(426, 5)"
            ]
          },
          "metadata": {},
          "execution_count": 211
        }
      ]
    },
    {
      "cell_type": "code",
      "source": [
        "df_agg_pn.set_index('time')['on_line'].plot.line(figsize=(10,5), ylabel=\"n_pixels\")"
      ],
      "metadata": {
        "outputId": "f30b2fa7-f5cc-435e-dc6d-607b2d6d06da",
        "colab": {
          "base_uri": "https://localhost:8080/",
          "height": 351
        },
        "id": "yA_rVdczZjaB"
      },
      "execution_count": null,
      "outputs": [
        {
          "output_type": "execute_result",
          "data": {
            "text/plain": [
              "<matplotlib.axes._subplots.AxesSubplot at 0x7f338c616e20>"
            ]
          },
          "metadata": {},
          "execution_count": 243
        },
        {
          "output_type": "display_data",
          "data": {
            "text/plain": [
              "<Figure size 720x360 with 1 Axes>"
            ],
            "image/png": "[encoded data removed]"
          },
          "metadata": {
            "needs_background": "light"
          }
        }
      ]
    },
    {
      "cell_type": "code",
      "source": [
        "df_agg_pn.set_index('time')['not_on_line'].plot.line(color='red', figsize=(10,5), ylabel=\"n_pixels\")"
      ],
      "metadata": {
        "colab": {
          "base_uri": "https://localhost:8080/",
          "height": 351
        },
        "id": "SoVYNs-XX2x8",
        "outputId": "72943d78-d019-4cb9-8f54-fa8d49c2e19b"
      },
      "execution_count": null,
      "outputs": [
        {
          "output_type": "execute_result",
          "data": {
            "text/plain": [
              "<matplotlib.axes._subplots.AxesSubplot at 0x7f338c4d8040>"
            ]
          },
          "metadata": {},
          "execution_count": 244
        },
        {
          "output_type": "display_data",
          "data": {
            "text/plain": [
              "<Figure size 720x360 with 1 Axes>"
            ],
            "image/png": "[encoded data removed]"
          },
          "metadata": {
            "needs_background": "light"
          }
        }
      ]
    },
    {
      "cell_type": "markdown",
      "source": [
        "## FlickerLine_85Hz_A"
      ],
      "metadata": {
        "id": "FuqYew5DpTAw"
      }
    },
    {
      "cell_type": "code",
      "source": [
        "meta_data_a = pd.read_csv('FlickerLine_85Hz_A.csv', nrows=0)\n",
        "meta_data_a"
      ],
      "metadata": {
        "colab": {
          "base_uri": "https://localhost:8080/",
          "height": 49
        },
        "id": "8ouM2u7xo5On",
        "outputId": "a52aa18b-02e3-49b6-ba6b-2bc124879fdb"
      },
      "execution_count": null,
      "outputs": [
        {
          "output_type": "execute_result",
          "data": {
            "text/plain": [
              "Empty DataFrame\n",
              "Columns: [# Input: DVXplorer_DXM00137 sizeX: 640 sizeY: 480]\n",
              "Index: []"
            ],
            "text/html": [
              "\n",
              "  <div id=\"df-0299e611-b456-41df-a214-9b26b141e088\">\n",
              "    <div class=\"colab-df-container\">\n",
              "      <div>\n",
              "<style scoped>\n",
              "    .dataframe tbody tr th:only-of-type {\n",
              "        vertical-align: middle;\n",
              "    }\n",
              "\n",
              "    .dataframe tbody tr th {\n",
              "        vertical-align: top;\n",
              "    }\n",
              "\n",
              "    .dataframe thead th {\n",
              "        text-align: right;\n",
              "    }\n",
              "</style>\n",
              "<table border=\"1\" class=\"dataframe\">\n",
              "  <thead>\n",
              "    <tr style=\"text-align: right;\">\n",
              "      <th></th>\n",
              "      <th># Input: DVXplorer_DXM00137 sizeX: 640 sizeY: 480</th>\n",
              "    </tr>\n",
              "  </thead>\n",
              "  <tbody>\n",
              "  </tbody>\n",
              "</table>\n",
              "</div>\n",
              "      <button class=\"colab-df-convert\" onclick=\"convertToInteractive('df-0299e611-b456-41df-a214-9b26b141e088')\"\n",
              "              title=\"Convert this dataframe to an interactive table.\"\n",
              "              style=\"display:none;\">\n",
              "        \n",
              "  <svg xmlns=\"http://www.w3.org/2000/svg\" height=\"24px\"viewBox=\"0 0 24 24\"\n",
              "       width=\"24px\">\n",
              "    <path d=\"M0 0h24v24H0V0z\" fill=\"none\"/>\n",
              "    <path d=\"M18.56 5.44l.94 2.06.94-2.06 2.06-.94-2.06-.94-.94-2.06-.94 2.06-2.06.94zm-11 1L8.5 8.5l.94-2.06 2.06-.94-2.06-.94L8.5 2.5l-.94 2.06-2.06.94zm10 10l.94 2.06.94-2.06 2.06-.94-2.06-.94-.94-2.06-.94 2.06-2.06.94z\"/><path d=\"M17.41 7.96l-1.37-1.37c-.4-.4-.92-.59-1.43-.59-.52 0-1.04.2-1.43.59L10.3 9.45l-7.72 7.72c-.78.78-.78 2.05 0 2.83L4 21.41c.39.39.9.59 1.41.59.51 0 1.02-.2 1.41-.59l7.78-7.78 2.81-2.81c.8-.78.8-2.07 0-2.86zM5.41 20L4 18.59l7.72-7.72 1.47 1.35L5.41 20z\"/>\n",
              "  </svg>\n",
              "      </button>\n",
              "      \n",
              "  <style>\n",
              "    .colab-df-container {\n",
              "      display:flex;\n",
              "      flex-wrap:wrap;\n",
              "      gap: 12px;\n",
              "    }\n",
              "\n",
              "    .colab-df-convert {\n",
              "      background-color: #E8F0FE;\n",
              "      border: none;\n",
              "      border-radius: 50%;\n",
              "      cursor: pointer;\n",
              "      display: none;\n",
              "      fill: #1967D2;\n",
              "      height: 32px;\n",
              "      padding: 0 0 0 0;\n",
              "      width: 32px;\n",
              "    }\n",
              "\n",
              "    .colab-df-convert:hover {\n",
              "      background-color: #E2EBFA;\n",
              "      box-shadow: 0px 1px 2px rgba(60, 64, 67, 0.3), 0px 1px 3px 1px rgba(60, 64, 67, 0.15);\n",
              "      fill: #174EA6;\n",
              "    }\n",
              "\n",
              "    [theme=dark] .colab-df-convert {\n",
              "      background-color: #3B4455;\n",
              "      fill: #D2E3FC;\n",
              "    }\n",
              "\n",
              "    [theme=dark] .colab-df-convert:hover {\n",
              "      background-color: #434B5C;\n",
              "      box-shadow: 0px 1px 3px 1px rgba(0, 0, 0, 0.15);\n",
              "      filter: drop-shadow(0px 1px 2px rgba(0, 0, 0, 0.3));\n",
              "      fill: #FFFFFF;\n",
              "    }\n",
              "  </style>\n",
              "\n",
              "      <script>\n",
              "        const buttonEl =\n",
              "          document.querySelector('#df-0299e611-b456-41df-a214-9b26b141e088 button.colab-df-convert');\n",
              "        buttonEl.style.display =\n",
              "          google.colab.kernel.accessAllowed ? 'block' : 'none';\n",
              "\n",
              "        async function convertToInteractive(key) {\n",
              "          const element = document.querySelector('#df-0299e611-b456-41df-a214-9b26b141e088');\n",
              "          const dataTable =\n",
              "            await google.colab.kernel.invokeFunction('convertToInteractive',\n",
              "                                                     [key], {});\n",
              "          if (!dataTable) return;\n",
              "\n",
              "          const docLinkHtml = 'Like what you see? Visit the ' +\n",
              "            '<a target=\"_blank\" href=https://colab.research.google.com/notebooks/data_table.ipynb>data table notebook</a>'\n",
              "            + ' to learn more about interactive tables.';\n",
              "          element.innerHTML = '';\n",
              "          dataTable['output_type'] = 'display_data';\n",
              "          await google.colab.output.renderOutput(dataTable, element);\n",
              "          const docLink = document.createElement('div');\n",
              "          docLink.innerHTML = docLinkHtml;\n",
              "          element.appendChild(docLink);\n",
              "        }\n",
              "      </script>\n",
              "    </div>\n",
              "  </div>\n",
              "  "
            ]
          },
          "metadata": {},
          "execution_count": 110
        }
      ]
    },
    {
      "cell_type": "code",
      "source": [
        "df_a = pd.read_csv('FlickerLine_85Hz_A.csv', skiprows=1)"
      ],
      "metadata": {
        "id": "Gm6vPZAOpkHY"
      },
      "execution_count": null,
      "outputs": []
    },
    {
      "cell_type": "code",
      "source": [
        "df_a.sort_values('timestamp', inplace=True)\n",
        "good_dots_a = df_a.groupby(by=['x','y']).filter(lambda group: 84 <= get_tempo(group) <= 86)\n",
        "line_dots_a = list(set(zip(good_dots_a.x, good_dots_a.y)))\n",
        "data_a = np.zeros((480,640), dtype=np.uint8)\n",
        "for d in line_dots_a:\n",
        "  data_a[d[1],d[0]] = 1"
      ],
      "metadata": {
        "id": "JerDSTKspxXH"
      },
      "execution_count": null,
      "outputs": []
    },
    {
      "cell_type": "code",
      "source": [
        "good_dots_a.shape"
      ],
      "metadata": {
        "colab": {
          "base_uri": "https://localhost:8080/"
        },
        "id": "3h6V-UokqM6P",
        "outputId": "7d684025-6520-41f3-9cca-87b2fd46d94f"
      },
      "execution_count": null,
      "outputs": [
        {
          "output_type": "execute_result",
          "data": {
            "text/plain": [
              "(5730692, 4)"
            ]
          },
          "metadata": {},
          "execution_count": 60
        }
      ]
    },
    {
      "cell_type": "code",
      "source": [
        "start_dt_a = datetime.fromtimestamp(min(good_dots_a.timestamp) / 1e6)\n",
        "end_dt_a = datetime.fromtimestamp(max(good_dots_a.timestamp) / 1e6)"
      ],
      "metadata": {
        "id": "jTU_2231qRzf"
      },
      "execution_count": null,
      "outputs": []
    },
    {
      "cell_type": "code",
      "source": [
        "print('Start: ' + start_dt_a.strftime('%H:%M:%S.%f') + ' \\nEnd: ' + end_dt_a.strftime('%H:%M:%S.%f') + ' \\nAt: ' + end_dt_a.strftime('%Y-%m-%d'))"
      ],
      "metadata": {
        "colab": {
          "base_uri": "https://localhost:8080/"
        },
        "id": "w9ECdxexqXZI",
        "outputId": "b44228e1-b7f4-4af5-9d5b-5bbbdc26ba51"
      },
      "execution_count": null,
      "outputs": [
        {
          "output_type": "stream",
          "name": "stdout",
          "text": [
            "Start: 11:10:26.821138 \n",
            "End: 11:10:34.700831 \n",
            "At: 2023-01-06\n"
          ]
        }
      ]
    },
    {
      "cell_type": "code",
      "source": [
        "plt.imshow(data_a, cmap='hot', interpolation='nearest')\n",
        "plt.show()"
      ],
      "metadata": {
        "colab": {
          "base_uri": "https://localhost:8080/",
          "height": 269
        },
        "id": "keCaLV7uqftw",
        "outputId": "6e00742c-c23d-455d-bc8b-d43dce8d76cf"
      },
      "execution_count": null,
      "outputs": [
        {
          "output_type": "display_data",
          "data": {
            "text/plain": [
              "<Figure size 432x288 with 1 Axes>"
            ],
            "image/png": "[encoded data removed]"
          },
          "metadata": {
            "needs_background": "light"
          }
        }
      ]
    },
    {
      "cell_type": "code",
      "source": [
        "df_a_s = df_a.sort_values(['x', 'y', 'timestamp'], ascending = [True, True, True])\n",
        "df_a_s['diff'] = df_a_s['polarity'] - df_a_s['polarity'].shift(1)\n",
        "df_a_s = df_a_s[df_a_s['diff'] == 1]"
      ],
      "metadata": {
        "id": "ceAW4e6aaX2V"
      },
      "execution_count": null,
      "outputs": []
    },
    {
      "cell_type": "code",
      "source": [
        "agg_a = []\n",
        "timestamps_filtered = [ts for ts in df_a_s['timestamp'].unique() if ts % 85 == 0]\n",
        "for ts in timestamps_filtered:\n",
        "  count_d = {}\n",
        "  df_sub = df_a_s[df_a_s['timestamp'] == ts]\n",
        "  df_sub_dots = list(set(zip(df_sub.x, df_sub.y)))\n",
        "  sub_dots_not_on_line = list(set(df_sub_dots) - set(line_dots_a))\n",
        "  n_dots_not_on_line = len(sub_dots_not_on_line)\n",
        "  n_dots_on_line = len(list(set(df_sub_dots) - set(sub_dots_not_on_line)))\n",
        "  n_total_dots = len(df_sub_dots) \n",
        "  count_d['timestamp'] = ts #[n_total_dots, n_dots_on_line, n_dots_not_on_line]\n",
        "  count_d['time'] = datetime.fromtimestamp(ts / 1e6).strftime('%H:%M:%S.%f')\n",
        "  count_d['total'] = n_total_dots\n",
        "  count_d['on_line'] = n_dots_on_line\n",
        "  count_d['not_on_line'] = n_dots_not_on_line\n",
        "  agg_a.append(count_d)"
      ],
      "metadata": {
        "id": "c2qES9KVaYQX"
      },
      "execution_count": null,
      "outputs": []
    },
    {
      "cell_type": "code",
      "source": [
        "df_agg_a = pd.DataFrame(agg_a)"
      ],
      "metadata": {
        "id": "vplnQ65DaYQX"
      },
      "execution_count": null,
      "outputs": []
    },
    {
      "cell_type": "code",
      "source": [
        "df_agg_a.shape"
      ],
      "metadata": {
        "outputId": "b4027ab7-7c87-4403-b2ad-64f7e46c5592",
        "colab": {
          "base_uri": "https://localhost:8080/"
        },
        "id": "I1f1D1L3aYQY"
      },
      "execution_count": null,
      "outputs": [
        {
          "output_type": "execute_result",
          "data": {
            "text/plain": [
              "(447, 5)"
            ]
          },
          "metadata": {},
          "execution_count": 217
        }
      ]
    },
    {
      "cell_type": "code",
      "source": [
        "df_agg_a.set_index('time')['on_line'].plot.line(figsize=(10,5), ylabel=\"n_pixels\")"
      ],
      "metadata": {
        "outputId": "aaea32dd-b7b4-499e-d088-f6843344822d",
        "colab": {
          "base_uri": "https://localhost:8080/",
          "height": 351
        },
        "id": "ksQ0lCuYaYQY"
      },
      "execution_count": null,
      "outputs": [
        {
          "output_type": "execute_result",
          "data": {
            "text/plain": [
              "<matplotlib.axes._subplots.AxesSubplot at 0x7f338c4a9820>"
            ]
          },
          "metadata": {},
          "execution_count": 245
        },
        {
          "output_type": "display_data",
          "data": {
            "text/plain": [
              "<Figure size 720x360 with 1 Axes>"
            ],
            "image/png": "[encoded data removed]"
          },
          "metadata": {
            "needs_background": "light"
          }
        }
      ]
    },
    {
      "cell_type": "code",
      "source": [
        "df_agg_a.set_index('time')['not_on_line'].plot.line(color='red', figsize=(10,5), ylabel=\"n_pixels\")"
      ],
      "metadata": {
        "colab": {
          "base_uri": "https://localhost:8080/",
          "height": 351
        },
        "id": "hZFM6TJwYHvV",
        "outputId": "7c80d678-10e6-4006-bc32-2772f2dc8bf3"
      },
      "execution_count": null,
      "outputs": [
        {
          "output_type": "execute_result",
          "data": {
            "text/plain": [
              "<matplotlib.axes._subplots.AxesSubplot at 0x7f338c3f70a0>"
            ]
          },
          "metadata": {},
          "execution_count": 246
        },
        {
          "output_type": "display_data",
          "data": {
            "text/plain": [
              "<Figure size 720x360 with 1 Axes>"
            ],
            "image/png": "[encoded data removed]"
          },
          "metadata": {
            "needs_background": "light"
          }
        }
      ]
    },
    {
      "cell_type": "markdown",
      "source": [
        "## FlickerLine_85Hz_B"
      ],
      "metadata": {
        "id": "0AEnzFXbqvPI"
      }
    },
    {
      "cell_type": "code",
      "source": [
        "meta_data_b = pd.read_csv('FlickerLine_85Hz_B.csv', nrows=0)\n",
        "meta_data_b"
      ],
      "metadata": {
        "outputId": "d0b5bec9-9878-4df9-aa03-4745cfd60cdd",
        "colab": {
          "base_uri": "https://localhost:8080/",
          "height": 49
        },
        "id": "aYbkipGrq1Mk"
      },
      "execution_count": null,
      "outputs": [
        {
          "output_type": "execute_result",
          "data": {
            "text/plain": [
              "Empty DataFrame\n",
              "Columns: [# Input: DVXplorer_DXM00137 sizeX: 640 sizeY: 480]\n",
              "Index: []"
            ],
            "text/html": [
              "\n",
              "  <div id=\"df-f569012c-a257-441e-b89c-8667c4c212d8\">\n",
              "    <div class=\"colab-df-container\">\n",
              "      <div>\n",
              "<style scoped>\n",
              "    .dataframe tbody tr th:only-of-type {\n",
              "        vertical-align: middle;\n",
              "    }\n",
              "\n",
              "    .dataframe tbody tr th {\n",
              "        vertical-align: top;\n",
              "    }\n",
              "\n",
              "    .dataframe thead th {\n",
              "        text-align: right;\n",
              "    }\n",
              "</style>\n",
              "<table border=\"1\" class=\"dataframe\">\n",
              "  <thead>\n",
              "    <tr style=\"text-align: right;\">\n",
              "      <th></th>\n",
              "      <th># Input: DVXplorer_DXM00137 sizeX: 640 sizeY: 480</th>\n",
              "    </tr>\n",
              "  </thead>\n",
              "  <tbody>\n",
              "  </tbody>\n",
              "</table>\n",
              "</div>\n",
              "      <button class=\"colab-df-convert\" onclick=\"convertToInteractive('df-f569012c-a257-441e-b89c-8667c4c212d8')\"\n",
              "              title=\"Convert this dataframe to an interactive table.\"\n",
              "              style=\"display:none;\">\n",
              "        \n",
              "  <svg xmlns=\"http://www.w3.org/2000/svg\" height=\"24px\"viewBox=\"0 0 24 24\"\n",
              "       width=\"24px\">\n",
              "    <path d=\"M0 0h24v24H0V0z\" fill=\"none\"/>\n",
              "    <path d=\"M18.56 5.44l.94 2.06.94-2.06 2.06-.94-2.06-.94-.94-2.06-.94 2.06-2.06.94zm-11 1L8.5 8.5l.94-2.06 2.06-.94-2.06-.94L8.5 2.5l-.94 2.06-2.06.94zm10 10l.94 2.06.94-2.06 2.06-.94-2.06-.94-.94-2.06-.94 2.06-2.06.94z\"/><path d=\"M17.41 7.96l-1.37-1.37c-.4-.4-.92-.59-1.43-.59-.52 0-1.04.2-1.43.59L10.3 9.45l-7.72 7.72c-.78.78-.78 2.05 0 2.83L4 21.41c.39.39.9.59 1.41.59.51 0 1.02-.2 1.41-.59l7.78-7.78 2.81-2.81c.8-.78.8-2.07 0-2.86zM5.41 20L4 18.59l7.72-7.72 1.47 1.35L5.41 20z\"/>\n",
              "  </svg>\n",
              "      </button>\n",
              "      \n",
              "  <style>\n",
              "    .colab-df-container {\n",
              "      display:flex;\n",
              "      flex-wrap:wrap;\n",
              "      gap: 12px;\n",
              "    }\n",
              "\n",
              "    .colab-df-convert {\n",
              "      background-color: #E8F0FE;\n",
              "      border: none;\n",
              "      border-radius: 50%;\n",
              "      cursor: pointer;\n",
              "      display: none;\n",
              "      fill: #1967D2;\n",
              "      height: 32px;\n",
              "      padding: 0 0 0 0;\n",
              "      width: 32px;\n",
              "    }\n",
              "\n",
              "    .colab-df-convert:hover {\n",
              "      background-color: #E2EBFA;\n",
              "      box-shadow: 0px 1px 2px rgba(60, 64, 67, 0.3), 0px 1px 3px 1px rgba(60, 64, 67, 0.15);\n",
              "      fill: #174EA6;\n",
              "    }\n",
              "\n",
              "    [theme=dark] .colab-df-convert {\n",
              "      background-color: #3B4455;\n",
              "      fill: #D2E3FC;\n",
              "    }\n",
              "\n",
              "    [theme=dark] .colab-df-convert:hover {\n",
              "      background-color: #434B5C;\n",
              "      box-shadow: 0px 1px 3px 1px rgba(0, 0, 0, 0.15);\n",
              "      filter: drop-shadow(0px 1px 2px rgba(0, 0, 0, 0.3));\n",
              "      fill: #FFFFFF;\n",
              "    }\n",
              "  </style>\n",
              "\n",
              "      <script>\n",
              "        const buttonEl =\n",
              "          document.querySelector('#df-f569012c-a257-441e-b89c-8667c4c212d8 button.colab-df-convert');\n",
              "        buttonEl.style.display =\n",
              "          google.colab.kernel.accessAllowed ? 'block' : 'none';\n",
              "\n",
              "        async function convertToInteractive(key) {\n",
              "          const element = document.querySelector('#df-f569012c-a257-441e-b89c-8667c4c212d8');\n",
              "          const dataTable =\n",
              "            await google.colab.kernel.invokeFunction('convertToInteractive',\n",
              "                                                     [key], {});\n",
              "          if (!dataTable) return;\n",
              "\n",
              "          const docLinkHtml = 'Like what you see? Visit the ' +\n",
              "            '<a target=\"_blank\" href=https://colab.research.google.com/notebooks/data_table.ipynb>data table notebook</a>'\n",
              "            + ' to learn more about interactive tables.';\n",
              "          element.innerHTML = '';\n",
              "          dataTable['output_type'] = 'display_data';\n",
              "          await google.colab.output.renderOutput(dataTable, element);\n",
              "          const docLink = document.createElement('div');\n",
              "          docLink.innerHTML = docLinkHtml;\n",
              "          element.appendChild(docLink);\n",
              "        }\n",
              "      </script>\n",
              "    </div>\n",
              "  </div>\n",
              "  "
            ]
          },
          "metadata": {},
          "execution_count": 84
        }
      ]
    },
    {
      "cell_type": "code",
      "source": [
        "df_b = pd.read_csv('FlickerLine_85Hz_B.csv', skiprows=1)"
      ],
      "metadata": {
        "id": "hwXccIB2q1Mm"
      },
      "execution_count": null,
      "outputs": []
    },
    {
      "cell_type": "code",
      "source": [
        "df_b.sort_values('timestamp', inplace=True)\n",
        "good_dots_b = df_b.groupby(by=['x','y']).filter(lambda group: 84 <= get_tempo(group) <= 86)\n",
        "line_dots_b = list(set(zip(good_dots_b.x, good_dots_b.y)))\n",
        "data_b = np.zeros((480,640), dtype=np.uint8)\n",
        "for d in line_dots_b:\n",
        "  data_b[d[1],d[0]] = 1"
      ],
      "metadata": {
        "id": "-PmDwT_nq1Mm"
      },
      "execution_count": null,
      "outputs": []
    },
    {
      "cell_type": "code",
      "source": [
        "good_dots_b.shape"
      ],
      "metadata": {
        "outputId": "fcbb2b3f-40b5-4a4e-9674-cb38f95216bb",
        "colab": {
          "base_uri": "https://localhost:8080/"
        },
        "id": "BmTQXwdgq1Mn"
      },
      "execution_count": null,
      "outputs": [
        {
          "output_type": "execute_result",
          "data": {
            "text/plain": [
              "(3427954, 4)"
            ]
          },
          "metadata": {},
          "execution_count": 88
        }
      ]
    },
    {
      "cell_type": "code",
      "source": [
        "start_dt_b = datetime.fromtimestamp(min(good_dots_b.timestamp) / 1e6)\n",
        "end_dt_b = datetime.fromtimestamp(max(good_dots_b.timestamp) / 1e6)"
      ],
      "metadata": {
        "id": "2ad6_LUcq1Mn"
      },
      "execution_count": null,
      "outputs": []
    },
    {
      "cell_type": "code",
      "source": [
        "print('Start: ' + start_dt_b.strftime('%H:%M:%S.%f') + ' \\nEnd: ' + end_dt_b.strftime('%H:%M:%S.%f') + ' \\nAt: ' + end_dt_b.strftime('%Y-%m-%d'))"
      ],
      "metadata": {
        "outputId": "04be2d9c-2a3f-4d82-fbf7-4b6361427c75",
        "colab": {
          "base_uri": "https://localhost:8080/"
        },
        "id": "pPpi42X6q1Mo"
      },
      "execution_count": null,
      "outputs": [
        {
          "output_type": "stream",
          "name": "stdout",
          "text": [
            "Start: 11:12:55.001172 \n",
            "End: 11:12:59.190938 \n",
            "At: 2023-01-06\n"
          ]
        }
      ]
    },
    {
      "cell_type": "code",
      "source": [
        "plt.imshow(data_b, cmap='hot', interpolation='nearest')\n",
        "plt.show()"
      ],
      "metadata": {
        "outputId": "0e3e1f54-5aef-4a01-8145-03b14833b4fb",
        "colab": {
          "base_uri": "https://localhost:8080/",
          "height": 269
        },
        "id": "82YMyEKEq1Mo"
      },
      "execution_count": null,
      "outputs": [
        {
          "output_type": "display_data",
          "data": {
            "text/plain": [
              "<Figure size 432x288 with 1 Axes>"
            ],
            "image/png": "[encoded data removed]"
          },
          "metadata": {
            "needs_background": "light"
          }
        }
      ]
    },
    {
      "cell_type": "code",
      "source": [
        "df_b_s = df_b.sort_values(['x', 'y', 'timestamp'], ascending = [True, True, True])\n",
        "df_b_s['diff'] = df_b_s['polarity'] - df_b_s['polarity'].shift(1)\n",
        "df_b_s = df_b_s[df_b_s['diff'] == 1]"
      ],
      "metadata": {
        "id": "LZpnZaQSz9E0"
      },
      "execution_count": null,
      "outputs": []
    },
    {
      "cell_type": "code",
      "source": [
        "agg_b = []\n",
        "timestamps_filtered = [ts for ts in df_b_s['timestamp'].unique() if ts % 85 == 0]\n",
        "for ts in timestamps_filtered:\n",
        "  count_d = {}\n",
        "  df_sub = df_b_s[df_b_s['timestamp'] == ts]\n",
        "  df_sub_dots = list(set(zip(df_sub.x, df_sub.y)))\n",
        "  sub_dots_not_on_line = list(set(df_sub_dots) - set(line_dots_b))\n",
        "  n_dots_not_on_line = len(sub_dots_not_on_line)\n",
        "  n_dots_on_line = len(list(set(df_sub_dots) - set(sub_dots_not_on_line)))\n",
        "  n_total_dots = len(df_sub_dots) \n",
        "  count_d['timestamp'] = ts #[n_total_dots, n_dots_on_line, n_dots_not_on_line]\n",
        "  count_d['time'] = datetime.fromtimestamp(ts / 1e6).strftime('%H:%M:%S.%f')\n",
        "  count_d['total'] = n_total_dots\n",
        "  count_d['on_line'] = n_dots_on_line\n",
        "  count_d['not_on_line'] = n_dots_not_on_line\n",
        "  agg_b.append(count_d)"
      ],
      "metadata": {
        "id": "dBhV6huLbkYy"
      },
      "execution_count": null,
      "outputs": []
    },
    {
      "cell_type": "code",
      "source": [
        "df_agg_b = pd.DataFrame(agg_b)"
      ],
      "metadata": {
        "id": "YDaB51hFbf1R"
      },
      "execution_count": null,
      "outputs": []
    },
    {
      "cell_type": "code",
      "source": [
        "df_agg_b.shape"
      ],
      "metadata": {
        "outputId": "535666c0-a122-4401-d66c-16c772911833",
        "colab": {
          "base_uri": "https://localhost:8080/"
        },
        "id": "A_KeSU1Bbf1S"
      },
      "execution_count": null,
      "outputs": [
        {
          "output_type": "execute_result",
          "data": {
            "text/plain": [
              "(260, 5)"
            ]
          },
          "metadata": {},
          "execution_count": 223
        }
      ]
    },
    {
      "cell_type": "code",
      "source": [
        "df_agg_b.set_index('time')['on_line'].plot.line(figsize=(10,5), ylabel=\"n_pixels\")"
      ],
      "metadata": {
        "outputId": "33ed5c4b-d0bd-4b73-e04c-104156c7dbca",
        "colab": {
          "base_uri": "https://localhost:8080/",
          "height": 351
        },
        "id": "E1VWauuebf1T"
      },
      "execution_count": null,
      "outputs": [
        {
          "output_type": "execute_result",
          "data": {
            "text/plain": [
              "<matplotlib.axes._subplots.AxesSubplot at 0x7f338c3d4370>"
            ]
          },
          "metadata": {},
          "execution_count": 247
        },
        {
          "output_type": "display_data",
          "data": {
            "text/plain": [
              "<Figure size 720x360 with 1 Axes>"
            ],
            "image/png": "[encoded data removed]"
          },
          "metadata": {
            "needs_background": "light"
          }
        }
      ]
    },
    {
      "cell_type": "code",
      "source": [
        "df_agg_b.set_index('time')['not_on_line'].plot.line(color='red', figsize=(10,5), ylabel=\"n_pixels\")"
      ],
      "metadata": {
        "colab": {
          "base_uri": "https://localhost:8080/",
          "height": 351
        },
        "id": "q4Vz5lc2YUVR",
        "outputId": "1136433b-d0d9-409c-e161-6048c1541216"
      },
      "execution_count": null,
      "outputs": [
        {
          "output_type": "execute_result",
          "data": {
            "text/plain": [
              "<matplotlib.axes._subplots.AxesSubplot at 0x7f3377ca8eb0>"
            ]
          },
          "metadata": {},
          "execution_count": 248
        },
        {
          "output_type": "display_data",
          "data": {
            "text/plain": [
              "<Figure size 720x360 with 1 Axes>"
            ],
            "image/png": "[encoded data removed]"
          },
          "metadata": {
            "needs_background": "light"
          }
        }
      ]
    }
  ]
}