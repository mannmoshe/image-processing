{
  "nbformat": 4,
  "nbformat_minor": 0,
  "metadata": {
    "colab": {
      "provenance": [],
      "authorship_tag": "ABX9TyP8dwbB1gHVppnUrZifzMyW",
      "include_colab_link": true
    },
    "kernelspec": {
      "name": "python3",
      "display_name": "Python 3"
    },
    "language_info": {
      "name": "python"
    }
  },
  "cells": [
    {
      "cell_type": "markdown",
      "metadata": {
        "id": "view-in-github",
        "colab_type": "text"
      },
      "source": [
        "<a href=\"https://colab.research.google.com/github/mannmoshe/image-processing/blob/main/project/image_processing_project.ipynb\" target=\"_parent\"><img src=\"https://colab.research.google.com/assets/colab-badge.svg\" alt=\"Open In Colab\"/></a>"
      ]
    },
    {
      "cell_type": "markdown",
      "source": [
        "# Image processing project: <br> Event-based camera visuallization & analysis <br> By Moshe Mann & Yoel Bensoussan"
      ],
      "metadata": {
        "id": "iKPC6_FldWRa"
      }
    },
    {
      "cell_type": "code",
      "source": [
        "import numpy as np\n",
        "import pandas as pd\n",
        "import re\n",
        "from matplotlib import pyplot as plt\n",
        "from datetime import datetime"
      ],
      "metadata": {
        "id": "0TpwS94hfaMb"
      },
      "execution_count": 1,
      "outputs": []
    },
    {
      "cell_type": "markdown",
      "source": [
        "## Import event-based camera data files"
      ],
      "metadata": {
        "id": "ICjzuNCHdH6Q"
      }
    },
    {
      "cell_type": "code",
      "execution_count": 2,
      "metadata": {
        "colab": {
          "base_uri": "https://localhost:8080/"
        },
        "id": "tPw--YademoM",
        "outputId": "1313a0bf-913c-4254-ec23-9d094b05aec4"
      },
      "outputs": [
        {
          "output_type": "stream",
          "name": "stdout",
          "text": [
            "--2023-02-15 08:20:10--  https://github.com/mannmoshe/image-processing/blob/main/project/FlickerLine_75Hz_ClearObstacle.zip?raw=true\n",
            "Resolving github.com (github.com)... 140.82.121.4\n",
            "Connecting to github.com (github.com)|140.82.121.4|:443... connected.\n",
            "HTTP request sent, awaiting response... 302 Found\n",
            "Location: https://github.com/mannmoshe/image-processing/raw/main/project/FlickerLine_75Hz_ClearObstacle.zip [following]\n",
            "--2023-02-15 08:20:10--  https://github.com/mannmoshe/image-processing/raw/main/project/FlickerLine_75Hz_ClearObstacle.zip\n",
            "Reusing existing connection to github.com:443.\n",
            "HTTP request sent, awaiting response... 302 Found\n",
            "Location: https://raw.githubusercontent.com/mannmoshe/image-processing/main/project/FlickerLine_75Hz_ClearObstacle.zip [following]\n",
            "--2023-02-15 08:20:11--  https://raw.githubusercontent.com/mannmoshe/image-processing/main/project/FlickerLine_75Hz_ClearObstacle.zip\n",
            "Resolving raw.githubusercontent.com (raw.githubusercontent.com)... 185.199.108.133, 185.199.109.133, 185.199.110.133, ...\n",
            "Connecting to raw.githubusercontent.com (raw.githubusercontent.com)|185.199.108.133|:443... connected.\n",
            "HTTP request sent, awaiting response... 200 OK\n",
            "Length: 39317042 (37M) [application/zip]\n",
            "Saving to: ‘FlickerLine_75Hz_ClearObstacle.zip?raw=true’\n",
            "\n",
            "FlickerLine_75Hz_Cl 100%[===================>]  37.50M   200MB/s    in 0.2s    \n",
            "\n",
            "2023-02-15 08:20:13 (200 MB/s) - ‘FlickerLine_75Hz_ClearObstacle.zip?raw=true’ saved [39317042/39317042]\n",
            "\n"
          ]
        }
      ],
      "source": [
        "!wget https://github.com/mannmoshe/image-processing/blob/main/project/FlickerLine_75Hz_ClearObstacle.zip?raw=true"
      ]
    },
    {
      "cell_type": "code",
      "source": [
        "!unzip /content/FlickerLine_75Hz_ClearObstacle.zip?raw\\=true"
      ],
      "metadata": {
        "colab": {
          "base_uri": "https://localhost:8080/"
        },
        "id": "pIJyPScXfNW1",
        "outputId": "7050b9ad-491f-49e0-f8b0-1a9fb0201821"
      },
      "execution_count": 3,
      "outputs": [
        {
          "output_type": "stream",
          "name": "stdout",
          "text": [
            "Archive:  /content/FlickerLine_75Hz_ClearObstacle.zip?raw=true\n",
            "  inflating: FlickerLine_75Hz_Clear.csv  \n",
            "  inflating: FlickerLine_75Hz_Obstacle.csv  \n"
          ]
        }
      ]
    },
    {
      "cell_type": "code",
      "source": [
        "!wget https://github.com/mannmoshe/image-processing/blob/main/project/FlickerLine_75Hz_pluseNoise.zip?raw=true"
      ],
      "metadata": {
        "colab": {
          "base_uri": "https://localhost:8080/"
        },
        "id": "O8DnH9XzecgC",
        "outputId": "258c40df-ecb8-44a3-c381-a7582afe6cf4"
      },
      "execution_count": 4,
      "outputs": [
        {
          "output_type": "stream",
          "name": "stdout",
          "text": [
            "--2023-02-15 08:20:16--  https://github.com/mannmoshe/image-processing/blob/main/project/FlickerLine_75Hz_pluseNoise.zip?raw=true\n",
            "Resolving github.com (github.com)... 140.82.121.3\n",
            "Connecting to github.com (github.com)|140.82.121.3|:443... connected.\n",
            "HTTP request sent, awaiting response... 302 Found\n",
            "Location: https://github.com/mannmoshe/image-processing/raw/main/project/FlickerLine_75Hz_pluseNoise.zip [following]\n",
            "--2023-02-15 08:20:17--  https://github.com/mannmoshe/image-processing/raw/main/project/FlickerLine_75Hz_pluseNoise.zip\n",
            "Reusing existing connection to github.com:443.\n",
            "HTTP request sent, awaiting response... 302 Found\n",
            "Location: https://raw.githubusercontent.com/mannmoshe/image-processing/main/project/FlickerLine_75Hz_pluseNoise.zip [following]\n",
            "--2023-02-15 08:20:17--  https://raw.githubusercontent.com/mannmoshe/image-processing/main/project/FlickerLine_75Hz_pluseNoise.zip\n",
            "Resolving raw.githubusercontent.com (raw.githubusercontent.com)... 185.199.110.133, 185.199.111.133, 185.199.108.133, ...\n",
            "Connecting to raw.githubusercontent.com (raw.githubusercontent.com)|185.199.110.133|:443... connected.\n",
            "HTTP request sent, awaiting response... 200 OK\n",
            "Length: 44494095 (42M) [application/zip]\n",
            "Saving to: ‘FlickerLine_75Hz_pluseNoise.zip?raw=true’\n",
            "\n",
            "FlickerLine_75Hz_pl 100%[===================>]  42.43M  86.5MB/s    in 0.5s    \n",
            "\n",
            "2023-02-15 08:20:19 (86.5 MB/s) - ‘FlickerLine_75Hz_pluseNoise.zip?raw=true’ saved [44494095/44494095]\n",
            "\n"
          ]
        }
      ]
    },
    {
      "cell_type": "code",
      "source": [
        "!unzip /content/FlickerLine_75Hz_pluseNoise.zip?raw\\=true"
      ],
      "metadata": {
        "colab": {
          "base_uri": "https://localhost:8080/"
        },
        "id": "HAiOxFVyelQp",
        "outputId": "5a657a9c-ecb0-424e-e5b0-0e2800186c80"
      },
      "execution_count": 5,
      "outputs": [
        {
          "output_type": "stream",
          "name": "stdout",
          "text": [
            "Archive:  /content/FlickerLine_75Hz_pluseNoise.zip?raw=true\n",
            "  inflating: FlickerLine_75Hz_pluseNoise.csv  \n"
          ]
        }
      ]
    },
    {
      "cell_type": "code",
      "source": [
        "!wget https://github.com/mannmoshe/image-processing/blob/main/project/FlickerLine_85Hz_2files.zip?raw=true"
      ],
      "metadata": {
        "id": "hnk1KHYwpAo_",
        "outputId": "4c39d8b5-cb60-4392-d020-e278a6d7de8f",
        "colab": {
          "base_uri": "https://localhost:8080/"
        }
      },
      "execution_count": 6,
      "outputs": [
        {
          "output_type": "stream",
          "name": "stdout",
          "text": [
            "--2023-02-15 08:20:24--  https://github.com/mannmoshe/image-processing/blob/main/project/FlickerLine_85Hz_2files.zip?raw=true\n",
            "Resolving github.com (github.com)... 140.82.121.4\n",
            "Connecting to github.com (github.com)|140.82.121.4|:443... connected.\n",
            "HTTP request sent, awaiting response... 302 Found\n",
            "Location: https://github.com/mannmoshe/image-processing/raw/main/project/FlickerLine_85Hz_2files.zip [following]\n",
            "--2023-02-15 08:20:24--  https://github.com/mannmoshe/image-processing/raw/main/project/FlickerLine_85Hz_2files.zip\n",
            "Reusing existing connection to github.com:443.\n",
            "HTTP request sent, awaiting response... 302 Found\n",
            "Location: https://raw.githubusercontent.com/mannmoshe/image-processing/main/project/FlickerLine_85Hz_2files.zip [following]\n",
            "--2023-02-15 08:20:24--  https://raw.githubusercontent.com/mannmoshe/image-processing/main/project/FlickerLine_85Hz_2files.zip\n",
            "Resolving raw.githubusercontent.com (raw.githubusercontent.com)... 185.199.108.133, 185.199.109.133, 185.199.110.133, ...\n",
            "Connecting to raw.githubusercontent.com (raw.githubusercontent.com)|185.199.108.133|:443... connected.\n",
            "HTTP request sent, awaiting response... 200 OK\n",
            "Length: 45793248 (44M) [application/zip]\n",
            "Saving to: ‘FlickerLine_85Hz_2files.zip?raw=true’\n",
            "\n",
            "FlickerLine_85Hz_2f 100%[===================>]  43.67M   104MB/s    in 0.4s    \n",
            "\n",
            "2023-02-15 08:20:27 (104 MB/s) - ‘FlickerLine_85Hz_2files.zip?raw=true’ saved [45793248/45793248]\n",
            "\n"
          ]
        }
      ]
    },
    {
      "cell_type": "code",
      "source": [
        "!unzip /content/FlickerLine_85Hz_2files.zip?raw\\=true"
      ],
      "metadata": {
        "id": "RsJJabcypGdX",
        "outputId": "b0201959-d39f-4937-b5c6-e32b3a4d2e78",
        "colab": {
          "base_uri": "https://localhost:8080/"
        }
      },
      "execution_count": 7,
      "outputs": [
        {
          "output_type": "stream",
          "name": "stdout",
          "text": [
            "Archive:  /content/FlickerLine_85Hz_2files.zip?raw=true\n",
            "  inflating: FlickerLine_85Hz_A.csv  \n",
            "  inflating: FlickerLine_85Hz_B.csv  \n"
          ]
        }
      ]
    },
    {
      "cell_type": "markdown",
      "source": [
        "## FlickerLine_75Hz_Clear"
      ],
      "metadata": {
        "id": "CRN6JZi3hIIj"
      }
    },
    {
      "cell_type": "code",
      "source": [
        "meta_data = pd.read_csv('FlickerLine_75Hz_Clear.csv', nrows=0)\n",
        "meta_data"
      ],
      "metadata": {
        "id": "gZ3XDJrlBdb3",
        "outputId": "df7396a2-446b-4560-f9e3-645be297fa5d",
        "colab": {
          "base_uri": "https://localhost:8080/",
          "height": 49
        }
      },
      "execution_count": 8,
      "outputs": [
        {
          "output_type": "execute_result",
          "data": {
            "text/plain": [
              "Empty DataFrame\n",
              "Columns: [# Input: DVXplorer_DXM00137 sizeX: 640 sizeY: 480]\n",
              "Index: []"
            ],
            "text/html": [
              "\n",
              "  <div id=\"df-3c8a0334-95be-44f1-a3c5-a6d71053f2e8\">\n",
              "    <div class=\"colab-df-container\">\n",
              "      <div>\n",
              "<style scoped>\n",
              "    .dataframe tbody tr th:only-of-type {\n",
              "        vertical-align: middle;\n",
              "    }\n",
              "\n",
              "    .dataframe tbody tr th {\n",
              "        vertical-align: top;\n",
              "    }\n",
              "\n",
              "    .dataframe thead th {\n",
              "        text-align: right;\n",
              "    }\n",
              "</style>\n",
              "<table border=\"1\" class=\"dataframe\">\n",
              "  <thead>\n",
              "    <tr style=\"text-align: right;\">\n",
              "      <th></th>\n",
              "      <th># Input: DVXplorer_DXM00137 sizeX: 640 sizeY: 480</th>\n",
              "    </tr>\n",
              "  </thead>\n",
              "  <tbody>\n",
              "  </tbody>\n",
              "</table>\n",
              "</div>\n",
              "      <button class=\"colab-df-convert\" onclick=\"convertToInteractive('df-3c8a0334-95be-44f1-a3c5-a6d71053f2e8')\"\n",
              "              title=\"Convert this dataframe to an interactive table.\"\n",
              "              style=\"display:none;\">\n",
              "        \n",
              "  <svg xmlns=\"http://www.w3.org/2000/svg\" height=\"24px\"viewBox=\"0 0 24 24\"\n",
              "       width=\"24px\">\n",
              "    <path d=\"M0 0h24v24H0V0z\" fill=\"none\"/>\n",
              "    <path d=\"M18.56 5.44l.94 2.06.94-2.06 2.06-.94-2.06-.94-.94-2.06-.94 2.06-2.06.94zm-11 1L8.5 8.5l.94-2.06 2.06-.94-2.06-.94L8.5 2.5l-.94 2.06-2.06.94zm10 10l.94 2.06.94-2.06 2.06-.94-2.06-.94-.94-2.06-.94 2.06-2.06.94z\"/><path d=\"M17.41 7.96l-1.37-1.37c-.4-.4-.92-.59-1.43-.59-.52 0-1.04.2-1.43.59L10.3 9.45l-7.72 7.72c-.78.78-.78 2.05 0 2.83L4 21.41c.39.39.9.59 1.41.59.51 0 1.02-.2 1.41-.59l7.78-7.78 2.81-2.81c.8-.78.8-2.07 0-2.86zM5.41 20L4 18.59l7.72-7.72 1.47 1.35L5.41 20z\"/>\n",
              "  </svg>\n",
              "      </button>\n",
              "      \n",
              "  <style>\n",
              "    .colab-df-container {\n",
              "      display:flex;\n",
              "      flex-wrap:wrap;\n",
              "      gap: 12px;\n",
              "    }\n",
              "\n",
              "    .colab-df-convert {\n",
              "      background-color: #E8F0FE;\n",
              "      border: none;\n",
              "      border-radius: 50%;\n",
              "      cursor: pointer;\n",
              "      display: none;\n",
              "      fill: #1967D2;\n",
              "      height: 32px;\n",
              "      padding: 0 0 0 0;\n",
              "      width: 32px;\n",
              "    }\n",
              "\n",
              "    .colab-df-convert:hover {\n",
              "      background-color: #E2EBFA;\n",
              "      box-shadow: 0px 1px 2px rgba(60, 64, 67, 0.3), 0px 1px 3px 1px rgba(60, 64, 67, 0.15);\n",
              "      fill: #174EA6;\n",
              "    }\n",
              "\n",
              "    [theme=dark] .colab-df-convert {\n",
              "      background-color: #3B4455;\n",
              "      fill: #D2E3FC;\n",
              "    }\n",
              "\n",
              "    [theme=dark] .colab-df-convert:hover {\n",
              "      background-color: #434B5C;\n",
              "      box-shadow: 0px 1px 3px 1px rgba(0, 0, 0, 0.15);\n",
              "      filter: drop-shadow(0px 1px 2px rgba(0, 0, 0, 0.3));\n",
              "      fill: #FFFFFF;\n",
              "    }\n",
              "  </style>\n",
              "\n",
              "      <script>\n",
              "        const buttonEl =\n",
              "          document.querySelector('#df-3c8a0334-95be-44f1-a3c5-a6d71053f2e8 button.colab-df-convert');\n",
              "        buttonEl.style.display =\n",
              "          google.colab.kernel.accessAllowed ? 'block' : 'none';\n",
              "\n",
              "        async function convertToInteractive(key) {\n",
              "          const element = document.querySelector('#df-3c8a0334-95be-44f1-a3c5-a6d71053f2e8');\n",
              "          const dataTable =\n",
              "            await google.colab.kernel.invokeFunction('convertToInteractive',\n",
              "                                                     [key], {});\n",
              "          if (!dataTable) return;\n",
              "\n",
              "          const docLinkHtml = 'Like what you see? Visit the ' +\n",
              "            '<a target=\"_blank\" href=https://colab.research.google.com/notebooks/data_table.ipynb>data table notebook</a>'\n",
              "            + ' to learn more about interactive tables.';\n",
              "          element.innerHTML = '';\n",
              "          dataTable['output_type'] = 'display_data';\n",
              "          await google.colab.output.renderOutput(dataTable, element);\n",
              "          const docLink = document.createElement('div');\n",
              "          docLink.innerHTML = docLinkHtml;\n",
              "          element.appendChild(docLink);\n",
              "        }\n",
              "      </script>\n",
              "    </div>\n",
              "  </div>\n",
              "  "
            ]
          },
          "metadata": {},
          "execution_count": 8
        }
      ]
    },
    {
      "cell_type": "code",
      "source": [
        "sizeX = int(re.search('sizeX: (.*) sizeY', meta_data.columns[0]).group(1))\n",
        "sizeY = int(re.search('sizeY: (.*)', meta_data.columns[0]).group(1))\n",
        "print(sizeX, sizeY)"
      ],
      "metadata": {
        "id": "E6ZznETyB7vL",
        "outputId": "ce33d95e-1f2f-4cf8-d5af-836c3ca22c40",
        "colab": {
          "base_uri": "https://localhost:8080/"
        }
      },
      "execution_count": 9,
      "outputs": [
        {
          "output_type": "stream",
          "name": "stdout",
          "text": [
            "640 480\n"
          ]
        }
      ]
    },
    {
      "cell_type": "code",
      "source": [
        "df = pd.read_csv('FlickerLine_75Hz_Clear.csv', skiprows=1)"
      ],
      "metadata": {
        "id": "wtV3cGIbffJ5"
      },
      "execution_count": 10,
      "outputs": []
    },
    {
      "cell_type": "code",
      "source": [
        "df.head()"
      ],
      "metadata": {
        "id": "FNp7S7zUH7Qz",
        "outputId": "e643c101-011e-4330-d116-0e57e1895741",
        "colab": {
          "base_uri": "https://localhost:8080/",
          "height": 206
        }
      },
      "execution_count": 11,
      "outputs": [
        {
          "output_type": "execute_result",
          "data": {
            "text/plain": [
              "          timestamp   x    y  polarity\n",
              "0  1673364248010552  30  174         0\n",
              "1  1673364248010552  31  478         0\n",
              "2  1673364248010552  34  477         0\n",
              "3  1673364248010552  36  472         0\n",
              "4  1673364248010552  36  477         0"
            ],
            "text/html": [
              "\n",
              "  <div id=\"df-59a974b4-9f69-4d52-a82c-fbf041b8d05a\">\n",
              "    <div class=\"colab-df-container\">\n",
              "      <div>\n",
              "<style scoped>\n",
              "    .dataframe tbody tr th:only-of-type {\n",
              "        vertical-align: middle;\n",
              "    }\n",
              "\n",
              "    .dataframe tbody tr th {\n",
              "        vertical-align: top;\n",
              "    }\n",
              "\n",
              "    .dataframe thead th {\n",
              "        text-align: right;\n",
              "    }\n",
              "</style>\n",
              "<table border=\"1\" class=\"dataframe\">\n",
              "  <thead>\n",
              "    <tr style=\"text-align: right;\">\n",
              "      <th></th>\n",
              "      <th>timestamp</th>\n",
              "      <th>x</th>\n",
              "      <th>y</th>\n",
              "      <th>polarity</th>\n",
              "    </tr>\n",
              "  </thead>\n",
              "  <tbody>\n",
              "    <tr>\n",
              "      <th>0</th>\n",
              "      <td>1673364248010552</td>\n",
              "      <td>30</td>\n",
              "      <td>174</td>\n",
              "      <td>0</td>\n",
              "    </tr>\n",
              "    <tr>\n",
              "      <th>1</th>\n",
              "      <td>1673364248010552</td>\n",
              "      <td>31</td>\n",
              "      <td>478</td>\n",
              "      <td>0</td>\n",
              "    </tr>\n",
              "    <tr>\n",
              "      <th>2</th>\n",
              "      <td>1673364248010552</td>\n",
              "      <td>34</td>\n",
              "      <td>477</td>\n",
              "      <td>0</td>\n",
              "    </tr>\n",
              "    <tr>\n",
              "      <th>3</th>\n",
              "      <td>1673364248010552</td>\n",
              "      <td>36</td>\n",
              "      <td>472</td>\n",
              "      <td>0</td>\n",
              "    </tr>\n",
              "    <tr>\n",
              "      <th>4</th>\n",
              "      <td>1673364248010552</td>\n",
              "      <td>36</td>\n",
              "      <td>477</td>\n",
              "      <td>0</td>\n",
              "    </tr>\n",
              "  </tbody>\n",
              "</table>\n",
              "</div>\n",
              "      <button class=\"colab-df-convert\" onclick=\"convertToInteractive('df-59a974b4-9f69-4d52-a82c-fbf041b8d05a')\"\n",
              "              title=\"Convert this dataframe to an interactive table.\"\n",
              "              style=\"display:none;\">\n",
              "        \n",
              "  <svg xmlns=\"http://www.w3.org/2000/svg\" height=\"24px\"viewBox=\"0 0 24 24\"\n",
              "       width=\"24px\">\n",
              "    <path d=\"M0 0h24v24H0V0z\" fill=\"none\"/>\n",
              "    <path d=\"M18.56 5.44l.94 2.06.94-2.06 2.06-.94-2.06-.94-.94-2.06-.94 2.06-2.06.94zm-11 1L8.5 8.5l.94-2.06 2.06-.94-2.06-.94L8.5 2.5l-.94 2.06-2.06.94zm10 10l.94 2.06.94-2.06 2.06-.94-2.06-.94-.94-2.06-.94 2.06-2.06.94z\"/><path d=\"M17.41 7.96l-1.37-1.37c-.4-.4-.92-.59-1.43-.59-.52 0-1.04.2-1.43.59L10.3 9.45l-7.72 7.72c-.78.78-.78 2.05 0 2.83L4 21.41c.39.39.9.59 1.41.59.51 0 1.02-.2 1.41-.59l7.78-7.78 2.81-2.81c.8-.78.8-2.07 0-2.86zM5.41 20L4 18.59l7.72-7.72 1.47 1.35L5.41 20z\"/>\n",
              "  </svg>\n",
              "      </button>\n",
              "      \n",
              "  <style>\n",
              "    .colab-df-container {\n",
              "      display:flex;\n",
              "      flex-wrap:wrap;\n",
              "      gap: 12px;\n",
              "    }\n",
              "\n",
              "    .colab-df-convert {\n",
              "      background-color: #E8F0FE;\n",
              "      border: none;\n",
              "      border-radius: 50%;\n",
              "      cursor: pointer;\n",
              "      display: none;\n",
              "      fill: #1967D2;\n",
              "      height: 32px;\n",
              "      padding: 0 0 0 0;\n",
              "      width: 32px;\n",
              "    }\n",
              "\n",
              "    .colab-df-convert:hover {\n",
              "      background-color: #E2EBFA;\n",
              "      box-shadow: 0px 1px 2px rgba(60, 64, 67, 0.3), 0px 1px 3px 1px rgba(60, 64, 67, 0.15);\n",
              "      fill: #174EA6;\n",
              "    }\n",
              "\n",
              "    [theme=dark] .colab-df-convert {\n",
              "      background-color: #3B4455;\n",
              "      fill: #D2E3FC;\n",
              "    }\n",
              "\n",
              "    [theme=dark] .colab-df-convert:hover {\n",
              "      background-color: #434B5C;\n",
              "      box-shadow: 0px 1px 3px 1px rgba(0, 0, 0, 0.15);\n",
              "      filter: drop-shadow(0px 1px 2px rgba(0, 0, 0, 0.3));\n",
              "      fill: #FFFFFF;\n",
              "    }\n",
              "  </style>\n",
              "\n",
              "      <script>\n",
              "        const buttonEl =\n",
              "          document.querySelector('#df-59a974b4-9f69-4d52-a82c-fbf041b8d05a button.colab-df-convert');\n",
              "        buttonEl.style.display =\n",
              "          google.colab.kernel.accessAllowed ? 'block' : 'none';\n",
              "\n",
              "        async function convertToInteractive(key) {\n",
              "          const element = document.querySelector('#df-59a974b4-9f69-4d52-a82c-fbf041b8d05a');\n",
              "          const dataTable =\n",
              "            await google.colab.kernel.invokeFunction('convertToInteractive',\n",
              "                                                     [key], {});\n",
              "          if (!dataTable) return;\n",
              "\n",
              "          const docLinkHtml = 'Like what you see? Visit the ' +\n",
              "            '<a target=\"_blank\" href=https://colab.research.google.com/notebooks/data_table.ipynb>data table notebook</a>'\n",
              "            + ' to learn more about interactive tables.';\n",
              "          element.innerHTML = '';\n",
              "          dataTable['output_type'] = 'display_data';\n",
              "          await google.colab.output.renderOutput(dataTable, element);\n",
              "          const docLink = document.createElement('div');\n",
              "          docLink.innerHTML = docLinkHtml;\n",
              "          element.appendChild(docLink);\n",
              "        }\n",
              "      </script>\n",
              "    </div>\n",
              "  </div>\n",
              "  "
            ]
          },
          "metadata": {},
          "execution_count": 11
        }
      ]
    },
    {
      "cell_type": "code",
      "source": [
        "df.shape"
      ],
      "metadata": {
        "colab": {
          "base_uri": "https://localhost:8080/"
        },
        "id": "WRcfN5vHfIwm",
        "outputId": "c155ca3c-e794-4163-e56a-b793ab004941"
      },
      "execution_count": 12,
      "outputs": [
        {
          "output_type": "execute_result",
          "data": {
            "text/plain": [
              "(4411868, 4)"
            ]
          },
          "metadata": {},
          "execution_count": 12
        }
      ]
    },
    {
      "cell_type": "code",
      "source": [
        "df.sort_values('timestamp', inplace=True)"
      ],
      "metadata": {
        "id": "bI_ZPJmnHuVZ"
      },
      "execution_count": 13,
      "outputs": []
    },
    {
      "cell_type": "code",
      "source": [
        "def get_tempo(g):\n",
        "    g['diff'] = g['polarity'] - g['polarity'].shift(1)\n",
        "    uplines = g[(g['diff'] == 1)]\n",
        "    tempos = uplines[\"timestamp\"].shift(-1) - uplines[\"timestamp\"]\n",
        "    return 1e06/tempos.mean()"
      ],
      "metadata": {
        "id": "NccGrdsobnPk"
      },
      "execution_count": 14,
      "outputs": []
    },
    {
      "cell_type": "code",
      "source": [
        "good_dots = df.groupby(by=['x','y']).filter(lambda group: 74 <= get_tempo(group) <= 76)"
      ],
      "metadata": {
        "id": "puP7pEFcbw7U"
      },
      "execution_count": 15,
      "outputs": []
    },
    {
      "cell_type": "code",
      "source": [
        "good_dots.head()"
      ],
      "metadata": {
        "colab": {
          "base_uri": "https://localhost:8080/",
          "height": 206
        },
        "id": "pXv_xe9Mb7Nt",
        "outputId": "a3133473-facc-4474-98a2-87fadf395f1e"
      },
      "execution_count": 16,
      "outputs": [
        {
          "output_type": "execute_result",
          "data": {
            "text/plain": [
              "            timestamp    x    y  polarity\n",
              "242  1673364248010552  227  185         0\n",
              "241  1673364248010552  227  181         0\n",
              "240  1673364248010552  226  190         0\n",
              "238  1673364248010552  224  192         0\n",
              "236  1673364248010552  223  193         0"
            ],
            "text/html": [
              "\n",
              "  <div id=\"df-af0510d7-04f9-4917-bd1c-08ff31929097\">\n",
              "    <div class=\"colab-df-container\">\n",
              "      <div>\n",
              "<style scoped>\n",
              "    .dataframe tbody tr th:only-of-type {\n",
              "        vertical-align: middle;\n",
              "    }\n",
              "\n",
              "    .dataframe tbody tr th {\n",
              "        vertical-align: top;\n",
              "    }\n",
              "\n",
              "    .dataframe thead th {\n",
              "        text-align: right;\n",
              "    }\n",
              "</style>\n",
              "<table border=\"1\" class=\"dataframe\">\n",
              "  <thead>\n",
              "    <tr style=\"text-align: right;\">\n",
              "      <th></th>\n",
              "      <th>timestamp</th>\n",
              "      <th>x</th>\n",
              "      <th>y</th>\n",
              "      <th>polarity</th>\n",
              "    </tr>\n",
              "  </thead>\n",
              "  <tbody>\n",
              "    <tr>\n",
              "      <th>242</th>\n",
              "      <td>1673364248010552</td>\n",
              "      <td>227</td>\n",
              "      <td>185</td>\n",
              "      <td>0</td>\n",
              "    </tr>\n",
              "    <tr>\n",
              "      <th>241</th>\n",
              "      <td>1673364248010552</td>\n",
              "      <td>227</td>\n",
              "      <td>181</td>\n",
              "      <td>0</td>\n",
              "    </tr>\n",
              "    <tr>\n",
              "      <th>240</th>\n",
              "      <td>1673364248010552</td>\n",
              "      <td>226</td>\n",
              "      <td>190</td>\n",
              "      <td>0</td>\n",
              "    </tr>\n",
              "    <tr>\n",
              "      <th>238</th>\n",
              "      <td>1673364248010552</td>\n",
              "      <td>224</td>\n",
              "      <td>192</td>\n",
              "      <td>0</td>\n",
              "    </tr>\n",
              "    <tr>\n",
              "      <th>236</th>\n",
              "      <td>1673364248010552</td>\n",
              "      <td>223</td>\n",
              "      <td>193</td>\n",
              "      <td>0</td>\n",
              "    </tr>\n",
              "  </tbody>\n",
              "</table>\n",
              "</div>\n",
              "      <button class=\"colab-df-convert\" onclick=\"convertToInteractive('df-af0510d7-04f9-4917-bd1c-08ff31929097')\"\n",
              "              title=\"Convert this dataframe to an interactive table.\"\n",
              "              style=\"display:none;\">\n",
              "        \n",
              "  <svg xmlns=\"http://www.w3.org/2000/svg\" height=\"24px\"viewBox=\"0 0 24 24\"\n",
              "       width=\"24px\">\n",
              "    <path d=\"M0 0h24v24H0V0z\" fill=\"none\"/>\n",
              "    <path d=\"M18.56 5.44l.94 2.06.94-2.06 2.06-.94-2.06-.94-.94-2.06-.94 2.06-2.06.94zm-11 1L8.5 8.5l.94-2.06 2.06-.94-2.06-.94L8.5 2.5l-.94 2.06-2.06.94zm10 10l.94 2.06.94-2.06 2.06-.94-2.06-.94-.94-2.06-.94 2.06-2.06.94z\"/><path d=\"M17.41 7.96l-1.37-1.37c-.4-.4-.92-.59-1.43-.59-.52 0-1.04.2-1.43.59L10.3 9.45l-7.72 7.72c-.78.78-.78 2.05 0 2.83L4 21.41c.39.39.9.59 1.41.59.51 0 1.02-.2 1.41-.59l7.78-7.78 2.81-2.81c.8-.78.8-2.07 0-2.86zM5.41 20L4 18.59l7.72-7.72 1.47 1.35L5.41 20z\"/>\n",
              "  </svg>\n",
              "      </button>\n",
              "      \n",
              "  <style>\n",
              "    .colab-df-container {\n",
              "      display:flex;\n",
              "      flex-wrap:wrap;\n",
              "      gap: 12px;\n",
              "    }\n",
              "\n",
              "    .colab-df-convert {\n",
              "      background-color: #E8F0FE;\n",
              "      border: none;\n",
              "      border-radius: 50%;\n",
              "      cursor: pointer;\n",
              "      display: none;\n",
              "      fill: #1967D2;\n",
              "      height: 32px;\n",
              "      padding: 0 0 0 0;\n",
              "      width: 32px;\n",
              "    }\n",
              "\n",
              "    .colab-df-convert:hover {\n",
              "      background-color: #E2EBFA;\n",
              "      box-shadow: 0px 1px 2px rgba(60, 64, 67, 0.3), 0px 1px 3px 1px rgba(60, 64, 67, 0.15);\n",
              "      fill: #174EA6;\n",
              "    }\n",
              "\n",
              "    [theme=dark] .colab-df-convert {\n",
              "      background-color: #3B4455;\n",
              "      fill: #D2E3FC;\n",
              "    }\n",
              "\n",
              "    [theme=dark] .colab-df-convert:hover {\n",
              "      background-color: #434B5C;\n",
              "      box-shadow: 0px 1px 3px 1px rgba(0, 0, 0, 0.15);\n",
              "      filter: drop-shadow(0px 1px 2px rgba(0, 0, 0, 0.3));\n",
              "      fill: #FFFFFF;\n",
              "    }\n",
              "  </style>\n",
              "\n",
              "      <script>\n",
              "        const buttonEl =\n",
              "          document.querySelector('#df-af0510d7-04f9-4917-bd1c-08ff31929097 button.colab-df-convert');\n",
              "        buttonEl.style.display =\n",
              "          google.colab.kernel.accessAllowed ? 'block' : 'none';\n",
              "\n",
              "        async function convertToInteractive(key) {\n",
              "          const element = document.querySelector('#df-af0510d7-04f9-4917-bd1c-08ff31929097');\n",
              "          const dataTable =\n",
              "            await google.colab.kernel.invokeFunction('convertToInteractive',\n",
              "                                                     [key], {});\n",
              "          if (!dataTable) return;\n",
              "\n",
              "          const docLinkHtml = 'Like what you see? Visit the ' +\n",
              "            '<a target=\"_blank\" href=https://colab.research.google.com/notebooks/data_table.ipynb>data table notebook</a>'\n",
              "            + ' to learn more about interactive tables.';\n",
              "          element.innerHTML = '';\n",
              "          dataTable['output_type'] = 'display_data';\n",
              "          await google.colab.output.renderOutput(dataTable, element);\n",
              "          const docLink = document.createElement('div');\n",
              "          docLink.innerHTML = docLinkHtml;\n",
              "          element.appendChild(docLink);\n",
              "        }\n",
              "      </script>\n",
              "    </div>\n",
              "  </div>\n",
              "  "
            ]
          },
          "metadata": {},
          "execution_count": 16
        }
      ]
    },
    {
      "cell_type": "code",
      "source": [
        "good_dots[(good_dots['x']==227) & (good_dots['y']==185)]"
      ],
      "metadata": {
        "id": "vZzNDCxWfqPe",
        "outputId": "4cb58fc8-26f6-464f-80e3-436d2198acf7",
        "colab": {
          "base_uri": "https://localhost:8080/",
          "height": 424
        }
      },
      "execution_count": 121,
      "outputs": [
        {
          "output_type": "execute_result",
          "data": {
            "text/plain": [
              "                timestamp    x    y  polarity\n",
              "242      1673364248010552  227  185         0\n",
              "791      1673364248010943  227  185         1\n",
              "1732     1673364248011344  227  185         1\n",
              "3593     1673364248011954  227  185         1\n",
              "5236     1673364248012555  227  185         1\n",
              "...                   ...  ...  ...       ...\n",
              "4399265  1673364250875033  227  185         0\n",
              "4402174  1673364250876235  227  185         0\n",
              "4405299  1673364250877842  227  185         1\n",
              "4406384  1673364250878235  227  185         1\n",
              "4408218  1673364250878846  227  185         1\n",
              "\n",
              "[1884 rows x 4 columns]"
            ],
            "text/html": [
              "\n",
              "  <div id=\"df-ce79e725-5140-420a-8e25-4db86a6834f2\">\n",
              "    <div class=\"colab-df-container\">\n",
              "      <div>\n",
              "<style scoped>\n",
              "    .dataframe tbody tr th:only-of-type {\n",
              "        vertical-align: middle;\n",
              "    }\n",
              "\n",
              "    .dataframe tbody tr th {\n",
              "        vertical-align: top;\n",
              "    }\n",
              "\n",
              "    .dataframe thead th {\n",
              "        text-align: right;\n",
              "    }\n",
              "</style>\n",
              "<table border=\"1\" class=\"dataframe\">\n",
              "  <thead>\n",
              "    <tr style=\"text-align: right;\">\n",
              "      <th></th>\n",
              "      <th>timestamp</th>\n",
              "      <th>x</th>\n",
              "      <th>y</th>\n",
              "      <th>polarity</th>\n",
              "    </tr>\n",
              "  </thead>\n",
              "  <tbody>\n",
              "    <tr>\n",
              "      <th>242</th>\n",
              "      <td>1673364248010552</td>\n",
              "      <td>227</td>\n",
              "      <td>185</td>\n",
              "      <td>0</td>\n",
              "    </tr>\n",
              "    <tr>\n",
              "      <th>791</th>\n",
              "      <td>1673364248010943</td>\n",
              "      <td>227</td>\n",
              "      <td>185</td>\n",
              "      <td>1</td>\n",
              "    </tr>\n",
              "    <tr>\n",
              "      <th>1732</th>\n",
              "      <td>1673364248011344</td>\n",
              "      <td>227</td>\n",
              "      <td>185</td>\n",
              "      <td>1</td>\n",
              "    </tr>\n",
              "    <tr>\n",
              "      <th>3593</th>\n",
              "      <td>1673364248011954</td>\n",
              "      <td>227</td>\n",
              "      <td>185</td>\n",
              "      <td>1</td>\n",
              "    </tr>\n",
              "    <tr>\n",
              "      <th>5236</th>\n",
              "      <td>1673364248012555</td>\n",
              "      <td>227</td>\n",
              "      <td>185</td>\n",
              "      <td>1</td>\n",
              "    </tr>\n",
              "    <tr>\n",
              "      <th>...</th>\n",
              "      <td>...</td>\n",
              "      <td>...</td>\n",
              "      <td>...</td>\n",
              "      <td>...</td>\n",
              "    </tr>\n",
              "    <tr>\n",
              "      <th>4399265</th>\n",
              "      <td>1673364250875033</td>\n",
              "      <td>227</td>\n",
              "      <td>185</td>\n",
              "      <td>0</td>\n",
              "    </tr>\n",
              "    <tr>\n",
              "      <th>4402174</th>\n",
              "      <td>1673364250876235</td>\n",
              "      <td>227</td>\n",
              "      <td>185</td>\n",
              "      <td>0</td>\n",
              "    </tr>\n",
              "    <tr>\n",
              "      <th>4405299</th>\n",
              "      <td>1673364250877842</td>\n",
              "      <td>227</td>\n",
              "      <td>185</td>\n",
              "      <td>1</td>\n",
              "    </tr>\n",
              "    <tr>\n",
              "      <th>4406384</th>\n",
              "      <td>1673364250878235</td>\n",
              "      <td>227</td>\n",
              "      <td>185</td>\n",
              "      <td>1</td>\n",
              "    </tr>\n",
              "    <tr>\n",
              "      <th>4408218</th>\n",
              "      <td>1673364250878846</td>\n",
              "      <td>227</td>\n",
              "      <td>185</td>\n",
              "      <td>1</td>\n",
              "    </tr>\n",
              "  </tbody>\n",
              "</table>\n",
              "<p>1884 rows × 4 columns</p>\n",
              "</div>\n",
              "      <button class=\"colab-df-convert\" onclick=\"convertToInteractive('df-ce79e725-5140-420a-8e25-4db86a6834f2')\"\n",
              "              title=\"Convert this dataframe to an interactive table.\"\n",
              "              style=\"display:none;\">\n",
              "        \n",
              "  <svg xmlns=\"http://www.w3.org/2000/svg\" height=\"24px\"viewBox=\"0 0 24 24\"\n",
              "       width=\"24px\">\n",
              "    <path d=\"M0 0h24v24H0V0z\" fill=\"none\"/>\n",
              "    <path d=\"M18.56 5.44l.94 2.06.94-2.06 2.06-.94-2.06-.94-.94-2.06-.94 2.06-2.06.94zm-11 1L8.5 8.5l.94-2.06 2.06-.94-2.06-.94L8.5 2.5l-.94 2.06-2.06.94zm10 10l.94 2.06.94-2.06 2.06-.94-2.06-.94-.94-2.06-.94 2.06-2.06.94z\"/><path d=\"M17.41 7.96l-1.37-1.37c-.4-.4-.92-.59-1.43-.59-.52 0-1.04.2-1.43.59L10.3 9.45l-7.72 7.72c-.78.78-.78 2.05 0 2.83L4 21.41c.39.39.9.59 1.41.59.51 0 1.02-.2 1.41-.59l7.78-7.78 2.81-2.81c.8-.78.8-2.07 0-2.86zM5.41 20L4 18.59l7.72-7.72 1.47 1.35L5.41 20z\"/>\n",
              "  </svg>\n",
              "      </button>\n",
              "      \n",
              "  <style>\n",
              "    .colab-df-container {\n",
              "      display:flex;\n",
              "      flex-wrap:wrap;\n",
              "      gap: 12px;\n",
              "    }\n",
              "\n",
              "    .colab-df-convert {\n",
              "      background-color: #E8F0FE;\n",
              "      border: none;\n",
              "      border-radius: 50%;\n",
              "      cursor: pointer;\n",
              "      display: none;\n",
              "      fill: #1967D2;\n",
              "      height: 32px;\n",
              "      padding: 0 0 0 0;\n",
              "      width: 32px;\n",
              "    }\n",
              "\n",
              "    .colab-df-convert:hover {\n",
              "      background-color: #E2EBFA;\n",
              "      box-shadow: 0px 1px 2px rgba(60, 64, 67, 0.3), 0px 1px 3px 1px rgba(60, 64, 67, 0.15);\n",
              "      fill: #174EA6;\n",
              "    }\n",
              "\n",
              "    [theme=dark] .colab-df-convert {\n",
              "      background-color: #3B4455;\n",
              "      fill: #D2E3FC;\n",
              "    }\n",
              "\n",
              "    [theme=dark] .colab-df-convert:hover {\n",
              "      background-color: #434B5C;\n",
              "      box-shadow: 0px 1px 3px 1px rgba(0, 0, 0, 0.15);\n",
              "      filter: drop-shadow(0px 1px 2px rgba(0, 0, 0, 0.3));\n",
              "      fill: #FFFFFF;\n",
              "    }\n",
              "  </style>\n",
              "\n",
              "      <script>\n",
              "        const buttonEl =\n",
              "          document.querySelector('#df-ce79e725-5140-420a-8e25-4db86a6834f2 button.colab-df-convert');\n",
              "        buttonEl.style.display =\n",
              "          google.colab.kernel.accessAllowed ? 'block' : 'none';\n",
              "\n",
              "        async function convertToInteractive(key) {\n",
              "          const element = document.querySelector('#df-ce79e725-5140-420a-8e25-4db86a6834f2');\n",
              "          const dataTable =\n",
              "            await google.colab.kernel.invokeFunction('convertToInteractive',\n",
              "                                                     [key], {});\n",
              "          if (!dataTable) return;\n",
              "\n",
              "          const docLinkHtml = 'Like what you see? Visit the ' +\n",
              "            '<a target=\"_blank\" href=https://colab.research.google.com/notebooks/data_table.ipynb>data table notebook</a>'\n",
              "            + ' to learn more about interactive tables.';\n",
              "          element.innerHTML = '';\n",
              "          dataTable['output_type'] = 'display_data';\n",
              "          await google.colab.output.renderOutput(dataTable, element);\n",
              "          const docLink = document.createElement('div');\n",
              "          docLink.innerHTML = docLinkHtml;\n",
              "          element.appendChild(docLink);\n",
              "        }\n",
              "      </script>\n",
              "    </div>\n",
              "  </div>\n",
              "  "
            ]
          },
          "metadata": {},
          "execution_count": 121
        }
      ]
    },
    {
      "cell_type": "code",
      "source": [
        "good_dots.shape"
      ],
      "metadata": {
        "colab": {
          "base_uri": "https://localhost:8080/"
        },
        "id": "GONWtlZAe4TN",
        "outputId": "6eab2606-d3cc-4755-d9c3-ba5016a1a44a"
      },
      "execution_count": 17,
      "outputs": [
        {
          "output_type": "execute_result",
          "data": {
            "text/plain": [
              "(4046201, 4)"
            ]
          },
          "metadata": {},
          "execution_count": 17
        }
      ]
    },
    {
      "cell_type": "code",
      "source": [
        "min(good_dots.timestamp)"
      ],
      "metadata": {
        "colab": {
          "base_uri": "https://localhost:8080/"
        },
        "id": "Rn7l2JoKiE4L",
        "outputId": "847b26a6-9d3e-4e66-de4b-6f50ebd2e418"
      },
      "execution_count": 18,
      "outputs": [
        {
          "output_type": "execute_result",
          "data": {
            "text/plain": [
              "1673364248010552"
            ]
          },
          "metadata": {},
          "execution_count": 18
        }
      ]
    },
    {
      "cell_type": "code",
      "source": [
        "start_dt = datetime.fromtimestamp(min(good_dots.timestamp) / 1e6)\n",
        "end_dt = datetime.fromtimestamp(max(good_dots.timestamp) / 1e6)"
      ],
      "metadata": {
        "id": "3n2zNUGrkef2"
      },
      "execution_count": 19,
      "outputs": []
    },
    {
      "cell_type": "code",
      "source": [
        "print('Start: ' + start_dt.strftime('%H:%M:%S.%f') + ' \\nEnd: ' + end_dt.strftime('%H:%M:%S.%f') + ' \\nAt: ' + end_dt.strftime('%Y-%m-%d'))"
      ],
      "metadata": {
        "colab": {
          "base_uri": "https://localhost:8080/"
        },
        "id": "KOY6bR0MmJz2",
        "outputId": "5c6bfbf5-40d8-47bb-aad8-c42eeeb2194a"
      },
      "execution_count": 20,
      "outputs": [
        {
          "output_type": "stream",
          "name": "stdout",
          "text": [
            "Start: 15:24:08.010552 \n",
            "End: 15:24:10.880447 \n",
            "At: 2023-01-10\n"
          ]
        }
      ]
    },
    {
      "cell_type": "code",
      "source": [
        "line_dots = list(set(zip(good_dots.x, good_dots.y)))"
      ],
      "metadata": {
        "id": "3ZpgJsItnGyG"
      },
      "execution_count": 21,
      "outputs": []
    },
    {
      "cell_type": "code",
      "source": [
        "len(line_dots)"
      ],
      "metadata": {
        "id": "QOGmdcIop0Lv",
        "outputId": "1b82ebdc-64dc-4cec-dbdf-f83eca2a1e29",
        "colab": {
          "base_uri": "https://localhost:8080/"
        }
      },
      "execution_count": 22,
      "outputs": [
        {
          "output_type": "execute_result",
          "data": {
            "text/plain": [
              "3136"
            ]
          },
          "metadata": {},
          "execution_count": 22
        }
      ]
    },
    {
      "cell_type": "code",
      "source": [
        "data = np.zeros((480,640), dtype=np.uint8)"
      ],
      "metadata": {
        "id": "JTMFgTN3f78V"
      },
      "execution_count": 23,
      "outputs": []
    },
    {
      "cell_type": "code",
      "source": [
        "for d in line_dots:\n",
        "  data[d[1],d[0]] = 1"
      ],
      "metadata": {
        "id": "BLJttUOoof1d"
      },
      "execution_count": 24,
      "outputs": []
    },
    {
      "cell_type": "code",
      "source": [
        "plt.imshow(data, cmap='hot', interpolation='nearest')\n",
        "plt.show()"
      ],
      "metadata": {
        "colab": {
          "base_uri": "https://localhost:8080/",
          "height": 269
        },
        "id": "xil9TnVihEFM",
        "outputId": "793964cc-df1d-4bd3-bf65-cae3feb427c7"
      },
      "execution_count": 25,
      "outputs": [
        {
          "output_type": "display_data",
          "data": {
            "text/plain": [
              "<Figure size 432x288 with 1 Axes>"
            ],
            "image/png": "[encoded data removed]"
          },
          "metadata": {
            "needs_background": "light"
          }
        }
      ]
    },
    {
      "cell_type": "code",
      "source": [
        "agg = []\n",
        "timestamps_filtered = [ts for ts in df['timestamp'].unique() if ts % 500 == 0]\n",
        "for ts in timestamps_filtered:\n",
        "  count_d = {}\n",
        "  df_sub = df[df['timestamp'] == ts]\n",
        "  df_sub_dots = list(set(zip(df.x, df.y)))\n",
        "  sub_dots_not_on_line = list(set(df_sub_dots) - set(line_dots))\n",
        "  n_dots_not_on_line = len(sub_dots_not_on_line)\n",
        "  n_dots_on_line = len(list(set(line_dots) - set(sub_dots_not_on_line)))\n",
        "  n_total_dots = len(df_sub_dots) \n",
        "  count_d['timestamp'] = ts #[n_total_dots, n_dots_on_line, n_dots_not_on_line]\n",
        "  count_d['time'] = datetime.fromtimestamp(ts / 1e6).strftime('%H:%M:%S.%f')\n",
        "  count_d['total'] = n_total_dots\n",
        "  count_d['on_line'] = n_dots_on_line\n",
        "  count_d['not_on_line'] = n_dots_not_on_line\n",
        "  agg.append(count_d)\n"
      ],
      "metadata": {
        "colab": {
          "base_uri": "https://localhost:8080/"
        },
        "id": "Shr6G4-wM3SZ",
        "outputId": "88d58c81-8ed5-4f00-e8c4-453b3148b958"
      },
      "execution_count": 113,
      "outputs": [
        {
          "output_type": "stream",
          "name": "stderr",
          "text": [
            "<ipython-input-113-c520dea5ba99>:6: SettingWithCopyWarning: \n",
            "A value is trying to be set on a copy of a slice from a DataFrame.\n",
            "Try using .loc[row_indexer,col_indexer] = value instead\n",
            "\n",
            "See the caveats in the documentation: https://pandas.pydata.org/pandas-docs/stable/user_guide/indexing.html#returning-a-view-versus-a-copy\n",
            "  df_sub['diff'] = df_sub['polarity'] - df_sub['polarity'].shift(1)\n"
          ]
        }
      ]
    },
    {
      "cell_type": "code",
      "source": [
        "df_agg = pd.DataFrame(agg)"
      ],
      "metadata": {
        "id": "fKJCSSM4YeVZ"
      },
      "execution_count": 114,
      "outputs": []
    },
    {
      "cell_type": "code",
      "source": [
        "df_agg.head()"
      ],
      "metadata": {
        "colab": {
          "base_uri": "https://localhost:8080/",
          "height": 206
        },
        "id": "BkwhncozVbPA",
        "outputId": "0656a81f-07e1-4ee5-f70d-70aa6382aa4e"
      },
      "execution_count": 115,
      "outputs": [
        {
          "output_type": "execute_result",
          "data": {
            "text/plain": [
              "          timestamp             time  total  on_line  not_on_line\n",
              "0  1673364248082000  15:24:08.082000  20605     3136        17469\n",
              "1  1673364248207500  15:24:08.207500  20605     3136        17469\n",
              "2  1673364248328000  15:24:08.328000  20605     3136        17469\n",
              "3  1673364248570000  15:24:08.570000  20605     3136        17469\n",
              "4  1673364248695500  15:24:08.695500  20605     3136        17469"
            ],
            "text/html": [
              "\n",
              "  <div id=\"df-7ca6146f-7767-4ee4-b2f2-80816d6758b2\">\n",
              "    <div class=\"colab-df-container\">\n",
              "      <div>\n",
              "<style scoped>\n",
              "    .dataframe tbody tr th:only-of-type {\n",
              "        vertical-align: middle;\n",
              "    }\n",
              "\n",
              "    .dataframe tbody tr th {\n",
              "        vertical-align: top;\n",
              "    }\n",
              "\n",
              "    .dataframe thead th {\n",
              "        text-align: right;\n",
              "    }\n",
              "</style>\n",
              "<table border=\"1\" class=\"dataframe\">\n",
              "  <thead>\n",
              "    <tr style=\"text-align: right;\">\n",
              "      <th></th>\n",
              "      <th>timestamp</th>\n",
              "      <th>time</th>\n",
              "      <th>total</th>\n",
              "      <th>on_line</th>\n",
              "      <th>not_on_line</th>\n",
              "    </tr>\n",
              "  </thead>\n",
              "  <tbody>\n",
              "    <tr>\n",
              "      <th>0</th>\n",
              "      <td>1673364248082000</td>\n",
              "      <td>15:24:08.082000</td>\n",
              "      <td>20605</td>\n",
              "      <td>3136</td>\n",
              "      <td>17469</td>\n",
              "    </tr>\n",
              "    <tr>\n",
              "      <th>1</th>\n",
              "      <td>1673364248207500</td>\n",
              "      <td>15:24:08.207500</td>\n",
              "      <td>20605</td>\n",
              "      <td>3136</td>\n",
              "      <td>17469</td>\n",
              "    </tr>\n",
              "    <tr>\n",
              "      <th>2</th>\n",
              "      <td>1673364248328000</td>\n",
              "      <td>15:24:08.328000</td>\n",
              "      <td>20605</td>\n",
              "      <td>3136</td>\n",
              "      <td>17469</td>\n",
              "    </tr>\n",
              "    <tr>\n",
              "      <th>3</th>\n",
              "      <td>1673364248570000</td>\n",
              "      <td>15:24:08.570000</td>\n",
              "      <td>20605</td>\n",
              "      <td>3136</td>\n",
              "      <td>17469</td>\n",
              "    </tr>\n",
              "    <tr>\n",
              "      <th>4</th>\n",
              "      <td>1673364248695500</td>\n",
              "      <td>15:24:08.695500</td>\n",
              "      <td>20605</td>\n",
              "      <td>3136</td>\n",
              "      <td>17469</td>\n",
              "    </tr>\n",
              "  </tbody>\n",
              "</table>\n",
              "</div>\n",
              "      <button class=\"colab-df-convert\" onclick=\"convertToInteractive('df-7ca6146f-7767-4ee4-b2f2-80816d6758b2')\"\n",
              "              title=\"Convert this dataframe to an interactive table.\"\n",
              "              style=\"display:none;\">\n",
              "        \n",
              "  <svg xmlns=\"http://www.w3.org/2000/svg\" height=\"24px\"viewBox=\"0 0 24 24\"\n",
              "       width=\"24px\">\n",
              "    <path d=\"M0 0h24v24H0V0z\" fill=\"none\"/>\n",
              "    <path d=\"M18.56 5.44l.94 2.06.94-2.06 2.06-.94-2.06-.94-.94-2.06-.94 2.06-2.06.94zm-11 1L8.5 8.5l.94-2.06 2.06-.94-2.06-.94L8.5 2.5l-.94 2.06-2.06.94zm10 10l.94 2.06.94-2.06 2.06-.94-2.06-.94-.94-2.06-.94 2.06-2.06.94z\"/><path d=\"M17.41 7.96l-1.37-1.37c-.4-.4-.92-.59-1.43-.59-.52 0-1.04.2-1.43.59L10.3 9.45l-7.72 7.72c-.78.78-.78 2.05 0 2.83L4 21.41c.39.39.9.59 1.41.59.51 0 1.02-.2 1.41-.59l7.78-7.78 2.81-2.81c.8-.78.8-2.07 0-2.86zM5.41 20L4 18.59l7.72-7.72 1.47 1.35L5.41 20z\"/>\n",
              "  </svg>\n",
              "      </button>\n",
              "      \n",
              "  <style>\n",
              "    .colab-df-container {\n",
              "      display:flex;\n",
              "      flex-wrap:wrap;\n",
              "      gap: 12px;\n",
              "    }\n",
              "\n",
              "    .colab-df-convert {\n",
              "      background-color: #E8F0FE;\n",
              "      border: none;\n",
              "      border-radius: 50%;\n",
              "      cursor: pointer;\n",
              "      display: none;\n",
              "      fill: #1967D2;\n",
              "      height: 32px;\n",
              "      padding: 0 0 0 0;\n",
              "      width: 32px;\n",
              "    }\n",
              "\n",
              "    .colab-df-convert:hover {\n",
              "      background-color: #E2EBFA;\n",
              "      box-shadow: 0px 1px 2px rgba(60, 64, 67, 0.3), 0px 1px 3px 1px rgba(60, 64, 67, 0.15);\n",
              "      fill: #174EA6;\n",
              "    }\n",
              "\n",
              "    [theme=dark] .colab-df-convert {\n",
              "      background-color: #3B4455;\n",
              "      fill: #D2E3FC;\n",
              "    }\n",
              "\n",
              "    [theme=dark] .colab-df-convert:hover {\n",
              "      background-color: #434B5C;\n",
              "      box-shadow: 0px 1px 3px 1px rgba(0, 0, 0, 0.15);\n",
              "      filter: drop-shadow(0px 1px 2px rgba(0, 0, 0, 0.3));\n",
              "      fill: #FFFFFF;\n",
              "    }\n",
              "  </style>\n",
              "\n",
              "      <script>\n",
              "        const buttonEl =\n",
              "          document.querySelector('#df-7ca6146f-7767-4ee4-b2f2-80816d6758b2 button.colab-df-convert');\n",
              "        buttonEl.style.display =\n",
              "          google.colab.kernel.accessAllowed ? 'block' : 'none';\n",
              "\n",
              "        async function convertToInteractive(key) {\n",
              "          const element = document.querySelector('#df-7ca6146f-7767-4ee4-b2f2-80816d6758b2');\n",
              "          const dataTable =\n",
              "            await google.colab.kernel.invokeFunction('convertToInteractive',\n",
              "                                                     [key], {});\n",
              "          if (!dataTable) return;\n",
              "\n",
              "          const docLinkHtml = 'Like what you see? Visit the ' +\n",
              "            '<a target=\"_blank\" href=https://colab.research.google.com/notebooks/data_table.ipynb>data table notebook</a>'\n",
              "            + ' to learn more about interactive tables.';\n",
              "          element.innerHTML = '';\n",
              "          dataTable['output_type'] = 'display_data';\n",
              "          await google.colab.output.renderOutput(dataTable, element);\n",
              "          const docLink = document.createElement('div');\n",
              "          docLink.innerHTML = docLinkHtml;\n",
              "          element.appendChild(docLink);\n",
              "        }\n",
              "      </script>\n",
              "    </div>\n",
              "  </div>\n",
              "  "
            ]
          },
          "metadata": {},
          "execution_count": 115
        }
      ]
    },
    {
      "cell_type": "code",
      "source": [
        "df_agg[['on_line', 'not_on_line']].plot.line()"
      ],
      "metadata": {
        "colab": {
          "base_uri": "https://localhost:8080/",
          "height": 284
        },
        "id": "umaVYVbnX5IK",
        "outputId": "e0a2bacf-a8a9-4e1a-be03-67d61dbf4ec5"
      },
      "execution_count": 116,
      "outputs": [
        {
          "output_type": "execute_result",
          "data": {
            "text/plain": [
              "<matplotlib.axes._subplots.AxesSubplot at 0x7fa62267de80>"
            ]
          },
          "metadata": {},
          "execution_count": 116
        },
        {
          "output_type": "display_data",
          "data": {
            "text/plain": [
              "<Figure size 432x288 with 1 Axes>"
            ],
            "image/png": "[encoded data removed]"
          },
          "metadata": {
            "needs_background": "light"
          }
        }
      ]
    },
    {
      "cell_type": "markdown",
      "source": [
        "## FlickerLine_75Hz_Obstacle"
      ],
      "metadata": {
        "id": "BoM07UwtdPyv"
      }
    },
    {
      "cell_type": "code",
      "source": [
        "meta_data_obs = pd.read_csv('FlickerLine_75Hz_Obstacle.csv', nrows=0)\n",
        "meta_data_obs"
      ],
      "metadata": {
        "id": "nSBzVx6FmE57",
        "outputId": "375009af-497a-481c-85ec-5e46ac4b5b08",
        "colab": {
          "base_uri": "https://localhost:8080/",
          "height": 49
        }
      },
      "execution_count": 36,
      "outputs": [
        {
          "output_type": "execute_result",
          "data": {
            "text/plain": [
              "Empty DataFrame\n",
              "Columns: [# Input: DVXplorer_DXM00137 sizeX: 640 sizeY: 480]\n",
              "Index: []"
            ],
            "text/html": [
              "\n",
              "  <div id=\"df-ca25324c-e098-4c37-8afa-1c4d45fb0ab6\">\n",
              "    <div class=\"colab-df-container\">\n",
              "      <div>\n",
              "<style scoped>\n",
              "    .dataframe tbody tr th:only-of-type {\n",
              "        vertical-align: middle;\n",
              "    }\n",
              "\n",
              "    .dataframe tbody tr th {\n",
              "        vertical-align: top;\n",
              "    }\n",
              "\n",
              "    .dataframe thead th {\n",
              "        text-align: right;\n",
              "    }\n",
              "</style>\n",
              "<table border=\"1\" class=\"dataframe\">\n",
              "  <thead>\n",
              "    <tr style=\"text-align: right;\">\n",
              "      <th></th>\n",
              "      <th># Input: DVXplorer_DXM00137 sizeX: 640 sizeY: 480</th>\n",
              "    </tr>\n",
              "  </thead>\n",
              "  <tbody>\n",
              "  </tbody>\n",
              "</table>\n",
              "</div>\n",
              "      <button class=\"colab-df-convert\" onclick=\"convertToInteractive('df-ca25324c-e098-4c37-8afa-1c4d45fb0ab6')\"\n",
              "              title=\"Convert this dataframe to an interactive table.\"\n",
              "              style=\"display:none;\">\n",
              "        \n",
              "  <svg xmlns=\"http://www.w3.org/2000/svg\" height=\"24px\"viewBox=\"0 0 24 24\"\n",
              "       width=\"24px\">\n",
              "    <path d=\"M0 0h24v24H0V0z\" fill=\"none\"/>\n",
              "    <path d=\"M18.56 5.44l.94 2.06.94-2.06 2.06-.94-2.06-.94-.94-2.06-.94 2.06-2.06.94zm-11 1L8.5 8.5l.94-2.06 2.06-.94-2.06-.94L8.5 2.5l-.94 2.06-2.06.94zm10 10l.94 2.06.94-2.06 2.06-.94-2.06-.94-.94-2.06-.94 2.06-2.06.94z\"/><path d=\"M17.41 7.96l-1.37-1.37c-.4-.4-.92-.59-1.43-.59-.52 0-1.04.2-1.43.59L10.3 9.45l-7.72 7.72c-.78.78-.78 2.05 0 2.83L4 21.41c.39.39.9.59 1.41.59.51 0 1.02-.2 1.41-.59l7.78-7.78 2.81-2.81c.8-.78.8-2.07 0-2.86zM5.41 20L4 18.59l7.72-7.72 1.47 1.35L5.41 20z\"/>\n",
              "  </svg>\n",
              "      </button>\n",
              "      \n",
              "  <style>\n",
              "    .colab-df-container {\n",
              "      display:flex;\n",
              "      flex-wrap:wrap;\n",
              "      gap: 12px;\n",
              "    }\n",
              "\n",
              "    .colab-df-convert {\n",
              "      background-color: #E8F0FE;\n",
              "      border: none;\n",
              "      border-radius: 50%;\n",
              "      cursor: pointer;\n",
              "      display: none;\n",
              "      fill: #1967D2;\n",
              "      height: 32px;\n",
              "      padding: 0 0 0 0;\n",
              "      width: 32px;\n",
              "    }\n",
              "\n",
              "    .colab-df-convert:hover {\n",
              "      background-color: #E2EBFA;\n",
              "      box-shadow: 0px 1px 2px rgba(60, 64, 67, 0.3), 0px 1px 3px 1px rgba(60, 64, 67, 0.15);\n",
              "      fill: #174EA6;\n",
              "    }\n",
              "\n",
              "    [theme=dark] .colab-df-convert {\n",
              "      background-color: #3B4455;\n",
              "      fill: #D2E3FC;\n",
              "    }\n",
              "\n",
              "    [theme=dark] .colab-df-convert:hover {\n",
              "      background-color: #434B5C;\n",
              "      box-shadow: 0px 1px 3px 1px rgba(0, 0, 0, 0.15);\n",
              "      filter: drop-shadow(0px 1px 2px rgba(0, 0, 0, 0.3));\n",
              "      fill: #FFFFFF;\n",
              "    }\n",
              "  </style>\n",
              "\n",
              "      <script>\n",
              "        const buttonEl =\n",
              "          document.querySelector('#df-ca25324c-e098-4c37-8afa-1c4d45fb0ab6 button.colab-df-convert');\n",
              "        buttonEl.style.display =\n",
              "          google.colab.kernel.accessAllowed ? 'block' : 'none';\n",
              "\n",
              "        async function convertToInteractive(key) {\n",
              "          const element = document.querySelector('#df-ca25324c-e098-4c37-8afa-1c4d45fb0ab6');\n",
              "          const dataTable =\n",
              "            await google.colab.kernel.invokeFunction('convertToInteractive',\n",
              "                                                     [key], {});\n",
              "          if (!dataTable) return;\n",
              "\n",
              "          const docLinkHtml = 'Like what you see? Visit the ' +\n",
              "            '<a target=\"_blank\" href=https://colab.research.google.com/notebooks/data_table.ipynb>data table notebook</a>'\n",
              "            + ' to learn more about interactive tables.';\n",
              "          element.innerHTML = '';\n",
              "          dataTable['output_type'] = 'display_data';\n",
              "          await google.colab.output.renderOutput(dataTable, element);\n",
              "          const docLink = document.createElement('div');\n",
              "          docLink.innerHTML = docLinkHtml;\n",
              "          element.appendChild(docLink);\n",
              "        }\n",
              "      </script>\n",
              "    </div>\n",
              "  </div>\n",
              "  "
            ]
          },
          "metadata": {},
          "execution_count": 36
        }
      ]
    },
    {
      "cell_type": "code",
      "source": [
        "df_obs = pd.read_csv('FlickerLine_75Hz_Obstacle.csv', skiprows=1)"
      ],
      "metadata": {
        "id": "ZrjYy6TMle8U"
      },
      "execution_count": 37,
      "outputs": []
    },
    {
      "cell_type": "code",
      "source": [
        "df_obs.sort_values('timestamp', inplace=True)\n",
        "good_dots_obs = df_obs.groupby(by=['x','y']).filter(lambda group: 74 <= get_tempo(group) <= 76)\n",
        "line_dots_obs = list(set(zip(good_dots_obs.x, good_dots_obs.y)))\n",
        "data_obs = np.zeros((480,640), dtype=np.uint8)\n",
        "for d in line_dots_obs:\n",
        "  data_obs[d[1],d[0]] = 1"
      ],
      "metadata": {
        "id": "slnR6nVwlpeZ"
      },
      "execution_count": 38,
      "outputs": []
    },
    {
      "cell_type": "code",
      "source": [
        "good_dots_obs.shape"
      ],
      "metadata": {
        "colab": {
          "base_uri": "https://localhost:8080/"
        },
        "id": "Hs_0tsLphfMc",
        "outputId": "e9302c9d-2f47-4007-cf64-8f8ce819e2c5"
      },
      "execution_count": 39,
      "outputs": [
        {
          "output_type": "execute_result",
          "data": {
            "text/plain": [
              "(5427238, 4)"
            ]
          },
          "metadata": {},
          "execution_count": 39
        }
      ]
    },
    {
      "cell_type": "code",
      "source": [
        "start_dt_obs = datetime.fromtimestamp(min(good_dots_obs.timestamp) / 1e6)\n",
        "end_dt_obs = datetime.fromtimestamp(max(good_dots_obs.timestamp) / 1e6)"
      ],
      "metadata": {
        "id": "2t1TDEyPm7KF"
      },
      "execution_count": 40,
      "outputs": []
    },
    {
      "cell_type": "code",
      "source": [
        "print('Start: ' + start_dt_obs.strftime('%H:%M:%S.%f') + ' \\nEnd: ' + end_dt_obs.strftime('%H:%M:%S.%f') + ' \\nAt: ' + end_dt_obs.strftime('%Y-%m-%d'))"
      ],
      "metadata": {
        "colab": {
          "base_uri": "https://localhost:8080/"
        },
        "id": "1-4TfKdZnCJ2",
        "outputId": "db09fbd9-565a-4f2c-d53a-1ea3652fa9a2"
      },
      "execution_count": 41,
      "outputs": [
        {
          "output_type": "stream",
          "name": "stdout",
          "text": [
            "Start: 15:25:15.040516 \n",
            "End: 15:25:18.290310 \n",
            "At: 2023-01-10\n"
          ]
        }
      ]
    },
    {
      "cell_type": "code",
      "source": [
        "plt.imshow(data_obs, cmap='hot', interpolation='nearest')\n",
        "plt.show()"
      ],
      "metadata": {
        "id": "T4BwxzjVmUIW",
        "outputId": "020af325-90ce-4fc6-b6c5-f5ece30b1809",
        "colab": {
          "base_uri": "https://localhost:8080/",
          "height": 269
        }
      },
      "execution_count": 42,
      "outputs": [
        {
          "output_type": "display_data",
          "data": {
            "text/plain": [
              "<Figure size 432x288 with 1 Axes>"
            ],
            "image/png": "[encoded data removed]"
          },
          "metadata": {
            "needs_background": "light"
          }
        }
      ]
    },
    {
      "cell_type": "code",
      "source": [
        "agg_obs = []\n",
        "timestamps_filtered = [ts for ts in df_obs['timestamp'].unique() if ts % 500 == 0]\n",
        "for ts in timestamps_filtered:\n",
        "  count_d = {}\n",
        "  df_sub = df[df['timestamp'] == ts]\n",
        "  df_sub_dots = list(set(zip(df.x, df.y)))\n",
        "  sub_dots_not_on_line = list(set(df_sub_dots) - set(line_dots))\n",
        "  n_dots_not_on_line = len(sub_dots_not_on_line)\n",
        "  n_dots_on_line = len(list(set(line_dots) - set(sub_dots_not_on_line)))\n",
        "  n_total_dots = len(df_sub_dots) \n",
        "  count_d['timestamp'] = ts #[n_total_dots, n_dots_on_line, n_dots_not_on_line]\n",
        "  count_d['time'] = datetime.fromtimestamp(ts / 1e6).strftime('%H:%M:%S.%f')\n",
        "  count_d['total'] = n_total_dots\n",
        "  count_d['on_line'] = n_dots_on_line\n",
        "  count_d['not_on_line'] = n_dots_not_on_line\n",
        "  agg_obs.append(count_d)"
      ],
      "metadata": {
        "id": "HpK5ovp3Yjje"
      },
      "execution_count": 97,
      "outputs": []
    },
    {
      "cell_type": "code",
      "source": [
        "df_agg_obs = pd.DataFrame(agg_obs)"
      ],
      "metadata": {
        "id": "_LkivVe5YrfP"
      },
      "execution_count": 98,
      "outputs": []
    },
    {
      "cell_type": "code",
      "source": [
        "df_agg_obs.shape"
      ],
      "metadata": {
        "colab": {
          "base_uri": "https://localhost:8080/"
        },
        "id": "sqe3c9qfZX0W",
        "outputId": "a9ac8b68-bcdf-4747-d0a2-17803c4ae714"
      },
      "execution_count": 100,
      "outputs": [
        {
          "output_type": "execute_result",
          "data": {
            "text/plain": [
              "(32, 5)"
            ]
          },
          "metadata": {},
          "execution_count": 100
        }
      ]
    },
    {
      "cell_type": "code",
      "source": [
        "df_agg_obs[['on_line', 'not_on_line']].plot.line()"
      ],
      "metadata": {
        "colab": {
          "base_uri": "https://localhost:8080/",
          "height": 284
        },
        "id": "Y7NlnEyIYyY4",
        "outputId": "9cfcc9ea-79f6-4191-e14e-897a05387464"
      },
      "execution_count": 99,
      "outputs": [
        {
          "output_type": "execute_result",
          "data": {
            "text/plain": [
              "<matplotlib.axes._subplots.AxesSubplot at 0x7fa622b2b520>"
            ]
          },
          "metadata": {},
          "execution_count": 99
        },
        {
          "output_type": "display_data",
          "data": {
            "text/plain": [
              "<Figure size 432x288 with 1 Axes>"
            ],
            "image/png": "[encoded data removed]"
          },
          "metadata": {
            "needs_background": "light"
          }
        }
      ]
    },
    {
      "cell_type": "markdown",
      "source": [
        "## FlickerLine_75Hz_pluseNoise"
      ],
      "metadata": {
        "id": "j3cq_UlbfpXz"
      }
    },
    {
      "cell_type": "code",
      "source": [
        "meta_data_pn = pd.read_csv('FlickerLine_75Hz_pluseNoise.csv', nrows=0)\n",
        "meta_data_pn"
      ],
      "metadata": {
        "colab": {
          "base_uri": "https://localhost:8080/",
          "height": 49
        },
        "id": "AHDZS6Iqe35B",
        "outputId": "4108da10-27c5-4f94-a5d2-437ba392d424"
      },
      "execution_count": 43,
      "outputs": [
        {
          "output_type": "execute_result",
          "data": {
            "text/plain": [
              "Empty DataFrame\n",
              "Columns: [# Input: DVXplorer_DXM00137 sizeX: 640 sizeY: 480]\n",
              "Index: []"
            ],
            "text/html": [
              "\n",
              "  <div id=\"df-203f951d-c844-474b-87ff-7a93e3d9c6a5\">\n",
              "    <div class=\"colab-df-container\">\n",
              "      <div>\n",
              "<style scoped>\n",
              "    .dataframe tbody tr th:only-of-type {\n",
              "        vertical-align: middle;\n",
              "    }\n",
              "\n",
              "    .dataframe tbody tr th {\n",
              "        vertical-align: top;\n",
              "    }\n",
              "\n",
              "    .dataframe thead th {\n",
              "        text-align: right;\n",
              "    }\n",
              "</style>\n",
              "<table border=\"1\" class=\"dataframe\">\n",
              "  <thead>\n",
              "    <tr style=\"text-align: right;\">\n",
              "      <th></th>\n",
              "      <th># Input: DVXplorer_DXM00137 sizeX: 640 sizeY: 480</th>\n",
              "    </tr>\n",
              "  </thead>\n",
              "  <tbody>\n",
              "  </tbody>\n",
              "</table>\n",
              "</div>\n",
              "      <button class=\"colab-df-convert\" onclick=\"convertToInteractive('df-203f951d-c844-474b-87ff-7a93e3d9c6a5')\"\n",
              "              title=\"Convert this dataframe to an interactive table.\"\n",
              "              style=\"display:none;\">\n",
              "        \n",
              "  <svg xmlns=\"http://www.w3.org/2000/svg\" height=\"24px\"viewBox=\"0 0 24 24\"\n",
              "       width=\"24px\">\n",
              "    <path d=\"M0 0h24v24H0V0z\" fill=\"none\"/>\n",
              "    <path d=\"M18.56 5.44l.94 2.06.94-2.06 2.06-.94-2.06-.94-.94-2.06-.94 2.06-2.06.94zm-11 1L8.5 8.5l.94-2.06 2.06-.94-2.06-.94L8.5 2.5l-.94 2.06-2.06.94zm10 10l.94 2.06.94-2.06 2.06-.94-2.06-.94-.94-2.06-.94 2.06-2.06.94z\"/><path d=\"M17.41 7.96l-1.37-1.37c-.4-.4-.92-.59-1.43-.59-.52 0-1.04.2-1.43.59L10.3 9.45l-7.72 7.72c-.78.78-.78 2.05 0 2.83L4 21.41c.39.39.9.59 1.41.59.51 0 1.02-.2 1.41-.59l7.78-7.78 2.81-2.81c.8-.78.8-2.07 0-2.86zM5.41 20L4 18.59l7.72-7.72 1.47 1.35L5.41 20z\"/>\n",
              "  </svg>\n",
              "      </button>\n",
              "      \n",
              "  <style>\n",
              "    .colab-df-container {\n",
              "      display:flex;\n",
              "      flex-wrap:wrap;\n",
              "      gap: 12px;\n",
              "    }\n",
              "\n",
              "    .colab-df-convert {\n",
              "      background-color: #E8F0FE;\n",
              "      border: none;\n",
              "      border-radius: 50%;\n",
              "      cursor: pointer;\n",
              "      display: none;\n",
              "      fill: #1967D2;\n",
              "      height: 32px;\n",
              "      padding: 0 0 0 0;\n",
              "      width: 32px;\n",
              "    }\n",
              "\n",
              "    .colab-df-convert:hover {\n",
              "      background-color: #E2EBFA;\n",
              "      box-shadow: 0px 1px 2px rgba(60, 64, 67, 0.3), 0px 1px 3px 1px rgba(60, 64, 67, 0.15);\n",
              "      fill: #174EA6;\n",
              "    }\n",
              "\n",
              "    [theme=dark] .colab-df-convert {\n",
              "      background-color: #3B4455;\n",
              "      fill: #D2E3FC;\n",
              "    }\n",
              "\n",
              "    [theme=dark] .colab-df-convert:hover {\n",
              "      background-color: #434B5C;\n",
              "      box-shadow: 0px 1px 3px 1px rgba(0, 0, 0, 0.15);\n",
              "      filter: drop-shadow(0px 1px 2px rgba(0, 0, 0, 0.3));\n",
              "      fill: #FFFFFF;\n",
              "    }\n",
              "  </style>\n",
              "\n",
              "      <script>\n",
              "        const buttonEl =\n",
              "          document.querySelector('#df-203f951d-c844-474b-87ff-7a93e3d9c6a5 button.colab-df-convert');\n",
              "        buttonEl.style.display =\n",
              "          google.colab.kernel.accessAllowed ? 'block' : 'none';\n",
              "\n",
              "        async function convertToInteractive(key) {\n",
              "          const element = document.querySelector('#df-203f951d-c844-474b-87ff-7a93e3d9c6a5');\n",
              "          const dataTable =\n",
              "            await google.colab.kernel.invokeFunction('convertToInteractive',\n",
              "                                                     [key], {});\n",
              "          if (!dataTable) return;\n",
              "\n",
              "          const docLinkHtml = 'Like what you see? Visit the ' +\n",
              "            '<a target=\"_blank\" href=https://colab.research.google.com/notebooks/data_table.ipynb>data table notebook</a>'\n",
              "            + ' to learn more about interactive tables.';\n",
              "          element.innerHTML = '';\n",
              "          dataTable['output_type'] = 'display_data';\n",
              "          await google.colab.output.renderOutput(dataTable, element);\n",
              "          const docLink = document.createElement('div');\n",
              "          docLink.innerHTML = docLinkHtml;\n",
              "          element.appendChild(docLink);\n",
              "        }\n",
              "      </script>\n",
              "    </div>\n",
              "  </div>\n",
              "  "
            ]
          },
          "metadata": {},
          "execution_count": 43
        }
      ]
    },
    {
      "cell_type": "code",
      "source": [
        "df_pn = pd.read_csv('FlickerLine_75Hz_pluseNoise.csv', skiprows=1)"
      ],
      "metadata": {
        "id": "eVHDwCdMfE8y"
      },
      "execution_count": 44,
      "outputs": []
    },
    {
      "cell_type": "code",
      "source": [
        "df_pn.sort_values('timestamp', inplace=True)\n",
        "good_dots_pn = df_pn.groupby(by=['x','y']).filter(lambda group: 74 <= get_tempo(group) <= 76)\n",
        "line_dots_pn = list(set(zip(good_dots_pn.x, good_dots_pn.y)))\n",
        "data_pn = np.zeros((480,640), dtype=np.uint8)\n",
        "for d in line_dots_pn:\n",
        "  data_pn[d[1],d[0]] = 1"
      ],
      "metadata": {
        "id": "9u88igrcfOcZ"
      },
      "execution_count": 45,
      "outputs": []
    },
    {
      "cell_type": "code",
      "source": [
        "good_dots_pn.shape"
      ],
      "metadata": {
        "colab": {
          "base_uri": "https://localhost:8080/"
        },
        "id": "7389K223gmkr",
        "outputId": "bea76f68-dda3-467e-9de1-37fd3519ca3a"
      },
      "execution_count": 46,
      "outputs": [
        {
          "output_type": "execute_result",
          "data": {
            "text/plain": [
              "(8873444, 4)"
            ]
          },
          "metadata": {},
          "execution_count": 46
        }
      ]
    },
    {
      "cell_type": "code",
      "source": [
        "start_dt_pn = datetime.fromtimestamp(min(good_dots_pn.timestamp) / 1e6)\n",
        "end_dt_pn = datetime.fromtimestamp(max(good_dots_pn.timestamp) / 1e6)"
      ],
      "metadata": {
        "id": "IsMPfNH3nPNO"
      },
      "execution_count": 47,
      "outputs": []
    },
    {
      "cell_type": "code",
      "source": [
        "print('Start: ' + start_dt_pn.strftime('%H:%M:%S.%f') + ' \\nEnd: ' + end_dt_pn.strftime('%H:%M:%S.%f') + ' \\nAt: ' + end_dt_pn.strftime('%Y-%m-%d'))"
      ],
      "metadata": {
        "colab": {
          "base_uri": "https://localhost:8080/"
        },
        "id": "E_swULW5nU5m",
        "outputId": "db6125b6-4834-4dbf-dbf5-39b62876074e"
      },
      "execution_count": 48,
      "outputs": [
        {
          "output_type": "stream",
          "name": "stdout",
          "text": [
            "Start: 15:26:34.670592 \n",
            "End: 15:26:40.970424 \n",
            "At: 2023-01-10\n"
          ]
        }
      ]
    },
    {
      "cell_type": "code",
      "source": [
        "plt.imshow(data_pn, cmap='hot', interpolation='nearest')\n",
        "plt.show()"
      ],
      "metadata": {
        "colab": {
          "base_uri": "https://localhost:8080/",
          "height": 269
        },
        "id": "jqLbOK5wf0rq",
        "outputId": "0e0dda3d-3445-42af-c94b-f46b5e1e31f0"
      },
      "execution_count": 49,
      "outputs": [
        {
          "output_type": "display_data",
          "data": {
            "text/plain": [
              "<Figure size 432x288 with 1 Axes>"
            ],
            "image/png": "[encoded data removed]"
          },
          "metadata": {
            "needs_background": "light"
          }
        }
      ]
    },
    {
      "cell_type": "code",
      "source": [
        "agg_pn = []\n",
        "timestamps_filtered = [ts for ts in df_pn['timestamp'].unique() if ts % 500 == 0]\n",
        "for ts in timestamps_filtered:\n",
        "  count_d = {}\n",
        "  df_sub = df[df['timestamp'] == ts]\n",
        "  df_sub_dots = list(set(zip(df.x, df.y)))\n",
        "  sub_dots_not_on_line = list(set(df_sub_dots) - set(line_dots))\n",
        "  n_dots_not_on_line = len(sub_dots_not_on_line)\n",
        "  n_dots_on_line = len(list(set(line_dots) - set(sub_dots_not_on_line)))\n",
        "  n_total_dots = len(df_sub_dots) \n",
        "  count_d['timestamp'] = ts #[n_total_dots, n_dots_on_line, n_dots_not_on_line]\n",
        "  count_d['time'] = datetime.fromtimestamp(ts / 1e6).strftime('%H:%M:%S.%f')\n",
        "  count_d['total'] = n_total_dots\n",
        "  count_d['on_line'] = n_dots_on_line\n",
        "  count_d['not_on_line'] = n_dots_not_on_line\n",
        "  agg_pn.append(count_d)"
      ],
      "metadata": {
        "id": "oib9dfU_ZjZ-"
      },
      "execution_count": 101,
      "outputs": []
    },
    {
      "cell_type": "code",
      "source": [
        "df_agg_pn = pd.DataFrame(agg_pn)"
      ],
      "metadata": {
        "id": "TMtAPVN6ZjZ_"
      },
      "execution_count": 102,
      "outputs": []
    },
    {
      "cell_type": "code",
      "source": [
        "df_agg_pn.shape"
      ],
      "metadata": {
        "outputId": "13a3dd48-0f4f-4881-e9b5-86a60916ec3c",
        "colab": {
          "base_uri": "https://localhost:8080/"
        },
        "id": "T38rehqDZjaA"
      },
      "execution_count": 103,
      "outputs": [
        {
          "output_type": "execute_result",
          "data": {
            "text/plain": [
              "(61, 5)"
            ]
          },
          "metadata": {},
          "execution_count": 103
        }
      ]
    },
    {
      "cell_type": "code",
      "source": [
        "df_agg_pn[['on_line', 'not_on_line']].plot.line()"
      ],
      "metadata": {
        "outputId": "deefd5c5-73ab-4a4a-f35c-76eca9ec99bd",
        "colab": {
          "base_uri": "https://localhost:8080/",
          "height": 284
        },
        "id": "yA_rVdczZjaB"
      },
      "execution_count": 104,
      "outputs": [
        {
          "output_type": "execute_result",
          "data": {
            "text/plain": [
              "<matplotlib.axes._subplots.AxesSubplot at 0x7fa622c7f640>"
            ]
          },
          "metadata": {},
          "execution_count": 104
        },
        {
          "output_type": "display_data",
          "data": {
            "text/plain": [
              "<Figure size 432x288 with 1 Axes>"
            ],
            "image/png": "[encoded data removed]"
          },
          "metadata": {
            "needs_background": "light"
          }
        }
      ]
    },
    {
      "cell_type": "markdown",
      "source": [
        "## FlickerLine_85Hz_A"
      ],
      "metadata": {
        "id": "FuqYew5DpTAw"
      }
    },
    {
      "cell_type": "code",
      "source": [
        "meta_data_a = pd.read_csv('FlickerLine_85Hz_A.csv', nrows=0)\n",
        "meta_data_a"
      ],
      "metadata": {
        "colab": {
          "base_uri": "https://localhost:8080/",
          "height": 49
        },
        "id": "8ouM2u7xo5On",
        "outputId": "fce4d93a-2bc1-4b74-a892-3e72cea709a7"
      },
      "execution_count": 50,
      "outputs": [
        {
          "output_type": "execute_result",
          "data": {
            "text/plain": [
              "Empty DataFrame\n",
              "Columns: [# Input: DVXplorer_DXM00137 sizeX: 640 sizeY: 480]\n",
              "Index: []"
            ],
            "text/html": [
              "\n",
              "  <div id=\"df-d73bf753-7adb-44a8-bd5c-6e3821bbc359\">\n",
              "    <div class=\"colab-df-container\">\n",
              "      <div>\n",
              "<style scoped>\n",
              "    .dataframe tbody tr th:only-of-type {\n",
              "        vertical-align: middle;\n",
              "    }\n",
              "\n",
              "    .dataframe tbody tr th {\n",
              "        vertical-align: top;\n",
              "    }\n",
              "\n",
              "    .dataframe thead th {\n",
              "        text-align: right;\n",
              "    }\n",
              "</style>\n",
              "<table border=\"1\" class=\"dataframe\">\n",
              "  <thead>\n",
              "    <tr style=\"text-align: right;\">\n",
              "      <th></th>\n",
              "      <th># Input: DVXplorer_DXM00137 sizeX: 640 sizeY: 480</th>\n",
              "    </tr>\n",
              "  </thead>\n",
              "  <tbody>\n",
              "  </tbody>\n",
              "</table>\n",
              "</div>\n",
              "      <button class=\"colab-df-convert\" onclick=\"convertToInteractive('df-d73bf753-7adb-44a8-bd5c-6e3821bbc359')\"\n",
              "              title=\"Convert this dataframe to an interactive table.\"\n",
              "              style=\"display:none;\">\n",
              "        \n",
              "  <svg xmlns=\"http://www.w3.org/2000/svg\" height=\"24px\"viewBox=\"0 0 24 24\"\n",
              "       width=\"24px\">\n",
              "    <path d=\"M0 0h24v24H0V0z\" fill=\"none\"/>\n",
              "    <path d=\"M18.56 5.44l.94 2.06.94-2.06 2.06-.94-2.06-.94-.94-2.06-.94 2.06-2.06.94zm-11 1L8.5 8.5l.94-2.06 2.06-.94-2.06-.94L8.5 2.5l-.94 2.06-2.06.94zm10 10l.94 2.06.94-2.06 2.06-.94-2.06-.94-.94-2.06-.94 2.06-2.06.94z\"/><path d=\"M17.41 7.96l-1.37-1.37c-.4-.4-.92-.59-1.43-.59-.52 0-1.04.2-1.43.59L10.3 9.45l-7.72 7.72c-.78.78-.78 2.05 0 2.83L4 21.41c.39.39.9.59 1.41.59.51 0 1.02-.2 1.41-.59l7.78-7.78 2.81-2.81c.8-.78.8-2.07 0-2.86zM5.41 20L4 18.59l7.72-7.72 1.47 1.35L5.41 20z\"/>\n",
              "  </svg>\n",
              "      </button>\n",
              "      \n",
              "  <style>\n",
              "    .colab-df-container {\n",
              "      display:flex;\n",
              "      flex-wrap:wrap;\n",
              "      gap: 12px;\n",
              "    }\n",
              "\n",
              "    .colab-df-convert {\n",
              "      background-color: #E8F0FE;\n",
              "      border: none;\n",
              "      border-radius: 50%;\n",
              "      cursor: pointer;\n",
              "      display: none;\n",
              "      fill: #1967D2;\n",
              "      height: 32px;\n",
              "      padding: 0 0 0 0;\n",
              "      width: 32px;\n",
              "    }\n",
              "\n",
              "    .colab-df-convert:hover {\n",
              "      background-color: #E2EBFA;\n",
              "      box-shadow: 0px 1px 2px rgba(60, 64, 67, 0.3), 0px 1px 3px 1px rgba(60, 64, 67, 0.15);\n",
              "      fill: #174EA6;\n",
              "    }\n",
              "\n",
              "    [theme=dark] .colab-df-convert {\n",
              "      background-color: #3B4455;\n",
              "      fill: #D2E3FC;\n",
              "    }\n",
              "\n",
              "    [theme=dark] .colab-df-convert:hover {\n",
              "      background-color: #434B5C;\n",
              "      box-shadow: 0px 1px 3px 1px rgba(0, 0, 0, 0.15);\n",
              "      filter: drop-shadow(0px 1px 2px rgba(0, 0, 0, 0.3));\n",
              "      fill: #FFFFFF;\n",
              "    }\n",
              "  </style>\n",
              "\n",
              "      <script>\n",
              "        const buttonEl =\n",
              "          document.querySelector('#df-d73bf753-7adb-44a8-bd5c-6e3821bbc359 button.colab-df-convert');\n",
              "        buttonEl.style.display =\n",
              "          google.colab.kernel.accessAllowed ? 'block' : 'none';\n",
              "\n",
              "        async function convertToInteractive(key) {\n",
              "          const element = document.querySelector('#df-d73bf753-7adb-44a8-bd5c-6e3821bbc359');\n",
              "          const dataTable =\n",
              "            await google.colab.kernel.invokeFunction('convertToInteractive',\n",
              "                                                     [key], {});\n",
              "          if (!dataTable) return;\n",
              "\n",
              "          const docLinkHtml = 'Like what you see? Visit the ' +\n",
              "            '<a target=\"_blank\" href=https://colab.research.google.com/notebooks/data_table.ipynb>data table notebook</a>'\n",
              "            + ' to learn more about interactive tables.';\n",
              "          element.innerHTML = '';\n",
              "          dataTable['output_type'] = 'display_data';\n",
              "          await google.colab.output.renderOutput(dataTable, element);\n",
              "          const docLink = document.createElement('div');\n",
              "          docLink.innerHTML = docLinkHtml;\n",
              "          element.appendChild(docLink);\n",
              "        }\n",
              "      </script>\n",
              "    </div>\n",
              "  </div>\n",
              "  "
            ]
          },
          "metadata": {},
          "execution_count": 50
        }
      ]
    },
    {
      "cell_type": "code",
      "source": [
        "df_a = pd.read_csv('FlickerLine_85Hz_A.csv', skiprows=1)"
      ],
      "metadata": {
        "id": "Gm6vPZAOpkHY"
      },
      "execution_count": 51,
      "outputs": []
    },
    {
      "cell_type": "code",
      "source": [
        "df_a.sort_values('timestamp', inplace=True)\n",
        "good_dots_a = df_a.groupby(by=['x','y']).filter(lambda group: 84 <= get_tempo(group) <= 86)\n",
        "line_dots_a = list(set(zip(good_dots_a.x, good_dots_a.y)))\n",
        "data_a = np.zeros((480,640), dtype=np.uint8)\n",
        "for d in line_dots_a:\n",
        "  data_a[d[1],d[0]] = 1"
      ],
      "metadata": {
        "id": "JerDSTKspxXH"
      },
      "execution_count": 52,
      "outputs": []
    },
    {
      "cell_type": "code",
      "source": [
        "good_dots_a.shape"
      ],
      "metadata": {
        "colab": {
          "base_uri": "https://localhost:8080/"
        },
        "id": "3h6V-UokqM6P",
        "outputId": "80a1b4d0-6916-40e3-974b-ce49290c5784"
      },
      "execution_count": 53,
      "outputs": [
        {
          "output_type": "execute_result",
          "data": {
            "text/plain": [
              "(5730692, 4)"
            ]
          },
          "metadata": {},
          "execution_count": 53
        }
      ]
    },
    {
      "cell_type": "code",
      "source": [
        "start_dt_a = datetime.fromtimestamp(min(good_dots_a.timestamp) / 1e6)\n",
        "end_dt_a = datetime.fromtimestamp(max(good_dots_a.timestamp) / 1e6)"
      ],
      "metadata": {
        "id": "jTU_2231qRzf"
      },
      "execution_count": 54,
      "outputs": []
    },
    {
      "cell_type": "code",
      "source": [
        "print('Start: ' + start_dt_a.strftime('%H:%M:%S.%f') + ' \\nEnd: ' + end_dt_a.strftime('%H:%M:%S.%f') + ' \\nAt: ' + end_dt_a.strftime('%Y-%m-%d'))"
      ],
      "metadata": {
        "colab": {
          "base_uri": "https://localhost:8080/"
        },
        "id": "w9ECdxexqXZI",
        "outputId": "58600038-3bf7-4a3c-e1bc-4297b89d24bd"
      },
      "execution_count": 55,
      "outputs": [
        {
          "output_type": "stream",
          "name": "stdout",
          "text": [
            "Start: 11:10:26.821138 \n",
            "End: 11:10:34.700831 \n",
            "At: 2023-01-06\n"
          ]
        }
      ]
    },
    {
      "cell_type": "code",
      "source": [
        "plt.imshow(data_a, cmap='hot', interpolation='nearest')\n",
        "plt.show()"
      ],
      "metadata": {
        "colab": {
          "base_uri": "https://localhost:8080/",
          "height": 269
        },
        "id": "keCaLV7uqftw",
        "outputId": "85c9df59-e495-4e0a-b3a6-a51bb64c2520"
      },
      "execution_count": 56,
      "outputs": [
        {
          "output_type": "display_data",
          "data": {
            "text/plain": [
              "<Figure size 432x288 with 1 Axes>"
            ],
            "image/png": "[encoded data removed]"
          },
          "metadata": {
            "needs_background": "light"
          }
        }
      ]
    },
    {
      "cell_type": "code",
      "source": [],
      "metadata": {
        "id": "ceAW4e6aaX2V"
      },
      "execution_count": null,
      "outputs": []
    },
    {
      "cell_type": "code",
      "source": [
        "agg_a = []\n",
        "timestamps_filtered = [ts for ts in df_a['timestamp'].unique() if ts % 500 == 0]\n",
        "for ts in timestamps_filtered:\n",
        "  count_d = {}\n",
        "  df_sub = df[df['timestamp'] == ts]\n",
        "  df_sub_dots = list(set(zip(df.x, df.y)))\n",
        "  sub_dots_not_on_line = list(set(df_sub_dots) - set(line_dots))\n",
        "  n_dots_not_on_line = len(sub_dots_not_on_line)\n",
        "  n_dots_on_line = len(list(set(line_dots) - set(sub_dots_not_on_line)))\n",
        "  n_total_dots = len(df_sub_dots) \n",
        "  count_d['timestamp'] = ts #[n_total_dots, n_dots_on_line, n_dots_not_on_line]\n",
        "  count_d['time'] = datetime.fromtimestamp(ts / 1e6).strftime('%H:%M:%S.%f')\n",
        "  count_d['total'] = n_total_dots\n",
        "  count_d['on_line'] = n_dots_on_line\n",
        "  count_d['not_on_line'] = n_dots_not_on_line\n",
        "  agg_a.append(count_d)"
      ],
      "metadata": {
        "id": "c2qES9KVaYQX"
      },
      "execution_count": 105,
      "outputs": []
    },
    {
      "cell_type": "code",
      "source": [
        "df_agg_a = pd.DataFrame(agg_a)"
      ],
      "metadata": {
        "id": "vplnQ65DaYQX"
      },
      "execution_count": 106,
      "outputs": []
    },
    {
      "cell_type": "code",
      "source": [
        "df_agg_a.shape"
      ],
      "metadata": {
        "outputId": "0c87da50-f8c3-4d84-8827-b98cb71bccb0",
        "colab": {
          "base_uri": "https://localhost:8080/"
        },
        "id": "I1f1D1L3aYQY"
      },
      "execution_count": 107,
      "outputs": [
        {
          "output_type": "execute_result",
          "data": {
            "text/plain": [
              "(64, 5)"
            ]
          },
          "metadata": {},
          "execution_count": 107
        }
      ]
    },
    {
      "cell_type": "code",
      "source": [
        "df_agg_a[['on_line', 'not_on_line']].plot.line()"
      ],
      "metadata": {
        "outputId": "039ac9c3-690e-4141-a5f6-fbe638fdde6e",
        "colab": {
          "base_uri": "https://localhost:8080/",
          "height": 284
        },
        "id": "ksQ0lCuYaYQY"
      },
      "execution_count": 108,
      "outputs": [
        {
          "output_type": "execute_result",
          "data": {
            "text/plain": [
              "<matplotlib.axes._subplots.AxesSubplot at 0x7fa622a8bc70>"
            ]
          },
          "metadata": {},
          "execution_count": 108
        },
        {
          "output_type": "display_data",
          "data": {
            "text/plain": [
              "<Figure size 432x288 with 1 Axes>"
            ],
            "image/png": "[encoded data removed]"
          },
          "metadata": {
            "needs_background": "light"
          }
        }
      ]
    },
    {
      "cell_type": "markdown",
      "source": [
        "## FlickerLine_85Hz_B"
      ],
      "metadata": {
        "id": "0AEnzFXbqvPI"
      }
    },
    {
      "cell_type": "code",
      "source": [
        "meta_data_b = pd.read_csv('FlickerLine_85Hz_B.csv', nrows=0)\n",
        "meta_data_b"
      ],
      "metadata": {
        "outputId": "585f4f73-5c54-4d72-8f38-69ec27f8dcc2",
        "colab": {
          "base_uri": "https://localhost:8080/",
          "height": 49
        },
        "id": "aYbkipGrq1Mk"
      },
      "execution_count": 57,
      "outputs": [
        {
          "output_type": "execute_result",
          "data": {
            "text/plain": [
              "Empty DataFrame\n",
              "Columns: [# Input: DVXplorer_DXM00137 sizeX: 640 sizeY: 480]\n",
              "Index: []"
            ],
            "text/html": [
              "\n",
              "  <div id=\"df-16b9a1a5-9205-4aef-9435-aca40a56eb08\">\n",
              "    <div class=\"colab-df-container\">\n",
              "      <div>\n",
              "<style scoped>\n",
              "    .dataframe tbody tr th:only-of-type {\n",
              "        vertical-align: middle;\n",
              "    }\n",
              "\n",
              "    .dataframe tbody tr th {\n",
              "        vertical-align: top;\n",
              "    }\n",
              "\n",
              "    .dataframe thead th {\n",
              "        text-align: right;\n",
              "    }\n",
              "</style>\n",
              "<table border=\"1\" class=\"dataframe\">\n",
              "  <thead>\n",
              "    <tr style=\"text-align: right;\">\n",
              "      <th></th>\n",
              "      <th># Input: DVXplorer_DXM00137 sizeX: 640 sizeY: 480</th>\n",
              "    </tr>\n",
              "  </thead>\n",
              "  <tbody>\n",
              "  </tbody>\n",
              "</table>\n",
              "</div>\n",
              "      <button class=\"colab-df-convert\" onclick=\"convertToInteractive('df-16b9a1a5-9205-4aef-9435-aca40a56eb08')\"\n",
              "              title=\"Convert this dataframe to an interactive table.\"\n",
              "              style=\"display:none;\">\n",
              "        \n",
              "  <svg xmlns=\"http://www.w3.org/2000/svg\" height=\"24px\"viewBox=\"0 0 24 24\"\n",
              "       width=\"24px\">\n",
              "    <path d=\"M0 0h24v24H0V0z\" fill=\"none\"/>\n",
              "    <path d=\"M18.56 5.44l.94 2.06.94-2.06 2.06-.94-2.06-.94-.94-2.06-.94 2.06-2.06.94zm-11 1L8.5 8.5l.94-2.06 2.06-.94-2.06-.94L8.5 2.5l-.94 2.06-2.06.94zm10 10l.94 2.06.94-2.06 2.06-.94-2.06-.94-.94-2.06-.94 2.06-2.06.94z\"/><path d=\"M17.41 7.96l-1.37-1.37c-.4-.4-.92-.59-1.43-.59-.52 0-1.04.2-1.43.59L10.3 9.45l-7.72 7.72c-.78.78-.78 2.05 0 2.83L4 21.41c.39.39.9.59 1.41.59.51 0 1.02-.2 1.41-.59l7.78-7.78 2.81-2.81c.8-.78.8-2.07 0-2.86zM5.41 20L4 18.59l7.72-7.72 1.47 1.35L5.41 20z\"/>\n",
              "  </svg>\n",
              "      </button>\n",
              "      \n",
              "  <style>\n",
              "    .colab-df-container {\n",
              "      display:flex;\n",
              "      flex-wrap:wrap;\n",
              "      gap: 12px;\n",
              "    }\n",
              "\n",
              "    .colab-df-convert {\n",
              "      background-color: #E8F0FE;\n",
              "      border: none;\n",
              "      border-radius: 50%;\n",
              "      cursor: pointer;\n",
              "      display: none;\n",
              "      fill: #1967D2;\n",
              "      height: 32px;\n",
              "      padding: 0 0 0 0;\n",
              "      width: 32px;\n",
              "    }\n",
              "\n",
              "    .colab-df-convert:hover {\n",
              "      background-color: #E2EBFA;\n",
              "      box-shadow: 0px 1px 2px rgba(60, 64, 67, 0.3), 0px 1px 3px 1px rgba(60, 64, 67, 0.15);\n",
              "      fill: #174EA6;\n",
              "    }\n",
              "\n",
              "    [theme=dark] .colab-df-convert {\n",
              "      background-color: #3B4455;\n",
              "      fill: #D2E3FC;\n",
              "    }\n",
              "\n",
              "    [theme=dark] .colab-df-convert:hover {\n",
              "      background-color: #434B5C;\n",
              "      box-shadow: 0px 1px 3px 1px rgba(0, 0, 0, 0.15);\n",
              "      filter: drop-shadow(0px 1px 2px rgba(0, 0, 0, 0.3));\n",
              "      fill: #FFFFFF;\n",
              "    }\n",
              "  </style>\n",
              "\n",
              "      <script>\n",
              "        const buttonEl =\n",
              "          document.querySelector('#df-16b9a1a5-9205-4aef-9435-aca40a56eb08 button.colab-df-convert');\n",
              "        buttonEl.style.display =\n",
              "          google.colab.kernel.accessAllowed ? 'block' : 'none';\n",
              "\n",
              "        async function convertToInteractive(key) {\n",
              "          const element = document.querySelector('#df-16b9a1a5-9205-4aef-9435-aca40a56eb08');\n",
              "          const dataTable =\n",
              "            await google.colab.kernel.invokeFunction('convertToInteractive',\n",
              "                                                     [key], {});\n",
              "          if (!dataTable) return;\n",
              "\n",
              "          const docLinkHtml = 'Like what you see? Visit the ' +\n",
              "            '<a target=\"_blank\" href=https://colab.research.google.com/notebooks/data_table.ipynb>data table notebook</a>'\n",
              "            + ' to learn more about interactive tables.';\n",
              "          element.innerHTML = '';\n",
              "          dataTable['output_type'] = 'display_data';\n",
              "          await google.colab.output.renderOutput(dataTable, element);\n",
              "          const docLink = document.createElement('div');\n",
              "          docLink.innerHTML = docLinkHtml;\n",
              "          element.appendChild(docLink);\n",
              "        }\n",
              "      </script>\n",
              "    </div>\n",
              "  </div>\n",
              "  "
            ]
          },
          "metadata": {},
          "execution_count": 57
        }
      ]
    },
    {
      "cell_type": "code",
      "source": [
        "df_b = pd.read_csv('FlickerLine_85Hz_B.csv', skiprows=1)"
      ],
      "metadata": {
        "id": "hwXccIB2q1Mm"
      },
      "execution_count": 58,
      "outputs": []
    },
    {
      "cell_type": "code",
      "source": [
        "df_b.sort_values('timestamp', inplace=True)\n",
        "good_dots_b = df_b.groupby(by=['x','y']).filter(lambda group: 84 <= get_tempo(group) <= 86)\n",
        "line_dots_b = list(set(zip(good_dots_b.x, good_dots_b.y)))\n",
        "data_b = np.zeros((480,640), dtype=np.uint8)\n",
        "for d in line_dots_b:\n",
        "  data_b[d[1],d[0]] = 1"
      ],
      "metadata": {
        "id": "-PmDwT_nq1Mm"
      },
      "execution_count": 59,
      "outputs": []
    },
    {
      "cell_type": "code",
      "source": [
        "good_dots_b.shape"
      ],
      "metadata": {
        "outputId": "f330f94a-3555-463b-f842-1501372d2881",
        "colab": {
          "base_uri": "https://localhost:8080/"
        },
        "id": "BmTQXwdgq1Mn"
      },
      "execution_count": 60,
      "outputs": [
        {
          "output_type": "execute_result",
          "data": {
            "text/plain": [
              "(3427954, 4)"
            ]
          },
          "metadata": {},
          "execution_count": 60
        }
      ]
    },
    {
      "cell_type": "code",
      "source": [
        "start_dt_b = datetime.fromtimestamp(min(good_dots_b.timestamp) / 1e6)\n",
        "end_dt_b = datetime.fromtimestamp(max(good_dots_b.timestamp) / 1e6)"
      ],
      "metadata": {
        "id": "2ad6_LUcq1Mn"
      },
      "execution_count": 61,
      "outputs": []
    },
    {
      "cell_type": "code",
      "source": [
        "print('Start: ' + start_dt_b.strftime('%H:%M:%S.%f') + ' \\nEnd: ' + end_dt_b.strftime('%H:%M:%S.%f') + ' \\nAt: ' + end_dt_b.strftime('%Y-%m-%d'))"
      ],
      "metadata": {
        "outputId": "8ce49296-d59c-4b4d-8e12-0ab74ac6e044",
        "colab": {
          "base_uri": "https://localhost:8080/"
        },
        "id": "pPpi42X6q1Mo"
      },
      "execution_count": 62,
      "outputs": [
        {
          "output_type": "stream",
          "name": "stdout",
          "text": [
            "Start: 11:12:55.001172 \n",
            "End: 11:12:59.190938 \n",
            "At: 2023-01-06\n"
          ]
        }
      ]
    },
    {
      "cell_type": "code",
      "source": [
        "plt.imshow(data_b, cmap='hot', interpolation='nearest')\n",
        "plt.show()"
      ],
      "metadata": {
        "outputId": "b488f384-6e24-4617-fff0-c32fc71bf843",
        "colab": {
          "base_uri": "https://localhost:8080/",
          "height": 269
        },
        "id": "82YMyEKEq1Mo"
      },
      "execution_count": 63,
      "outputs": [
        {
          "output_type": "display_data",
          "data": {
            "text/plain": [
              "<Figure size 432x288 with 1 Axes>"
            ],
            "image/png": "[encoded data removed]"
          },
          "metadata": {
            "needs_background": "light"
          }
        }
      ]
    },
    {
      "cell_type": "code",
      "source": [
        "agg_b = []\n",
        "timestamps_filtered = [ts for ts in df_b['timestamp'].unique() if ts % 500 == 0]\n",
        "for ts in timestamps_filtered:\n",
        "  count_d = {}\n",
        "  df_sub = df[df['timestamp'] == ts]\n",
        "  df_sub_dots = list(set(zip(df.x, df.y)))\n",
        "  sub_dots_not_on_line = list(set(df_sub_dots) - set(line_dots))\n",
        "  n_dots_not_on_line = len(sub_dots_not_on_line)\n",
        "  n_dots_on_line = len(list(set(line_dots) - set(sub_dots_not_on_line)))\n",
        "  n_total_dots = len(df_sub_dots) \n",
        "  count_d['timestamp'] = ts #[n_total_dots, n_dots_on_line, n_dots_not_on_line]\n",
        "  count_d['time'] = datetime.fromtimestamp(ts / 1e6).strftime('%H:%M:%S.%f')\n",
        "  count_d['total'] = n_total_dots\n",
        "  count_d['on_line'] = n_dots_on_line\n",
        "  count_d['not_on_line'] = n_dots_not_on_line\n",
        "  agg_b.append(count_d)"
      ],
      "metadata": {
        "id": "dBhV6huLbkYy"
      },
      "execution_count": 109,
      "outputs": []
    },
    {
      "cell_type": "code",
      "source": [
        "df_agg_b = pd.DataFrame(agg_b)"
      ],
      "metadata": {
        "id": "YDaB51hFbf1R"
      },
      "execution_count": 110,
      "outputs": []
    },
    {
      "cell_type": "code",
      "source": [
        "df_agg_b.shape"
      ],
      "metadata": {
        "outputId": "9ac5f9b5-9772-4841-e8f5-ba94c423bcf6",
        "colab": {
          "base_uri": "https://localhost:8080/"
        },
        "id": "A_KeSU1Bbf1S"
      },
      "execution_count": 111,
      "outputs": [
        {
          "output_type": "execute_result",
          "data": {
            "text/plain": [
              "(41, 5)"
            ]
          },
          "metadata": {},
          "execution_count": 111
        }
      ]
    },
    {
      "cell_type": "code",
      "source": [
        "df_agg_b[['on_line', 'not_on_line']].plot.line()``"
      ],
      "metadata": {
        "outputId": "2ec247d6-ee82-408d-c0ad-21e676dd6c60",
        "colab": {
          "base_uri": "https://localhost:8080/",
          "height": 284
        },
        "id": "E1VWauuebf1T"
      },
      "execution_count": 112,
      "outputs": [
        {
          "output_type": "execute_result",
          "data": {
            "text/plain": [
              "<matplotlib.axes._subplots.AxesSubplot at 0x7fa622713d30>"
            ]
          },
          "metadata": {},
          "execution_count": 112
        },
        {
          "output_type": "display_data",
          "data": {
            "text/plain": [
              "<Figure size 432x288 with 1 Axes>"
            ],
            "image/png": "[encoded data removed]"
          },
          "metadata": {
            "needs_background": "light"
          }
        }
      ]
    }
  ]
}